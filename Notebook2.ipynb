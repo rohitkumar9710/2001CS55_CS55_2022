{
  "cells": [
    {
      "cell_type": "code",
      "execution_count": null,
      "metadata": {
        "colab": {
          "base_uri": "https://localhost:8080/"
        },
        "id": "tV6YU1R8DfgT",
        "outputId": "544d451b-01c5-4f3d-bff4-6cf8f1325b77"
      },
      "outputs": [
        {
          "output_type": "stream",
          "name": "stdout",
          "text": [
            "Mounted at /content/drive\n"
          ]
        }
      ],
      "source": [
        "from google.colab import drive\n",
        "drive.mount('/content/drive')"
      ]
    },
    {
      "cell_type": "code",
      "execution_count": null,
      "metadata": {
        "colab": {
          "base_uri": "https://localhost:8080/",
          "height": 488
        },
        "id": "oBSdBqsCRdbQ",
        "outputId": "de073c28-7cea-4cba-e03d-a1fa07e90411"
      },
      "outputs": [
        {
          "output_type": "execute_result",
          "data": {
            "text/plain": [
              "        duration protocol_type   service flag  src_bytes  dst_bytes  land  \\\n",
              "0              0           tcp  ftp_data   SF        491          0     0   \n",
              "1              0           udp     other   SF        146          0     0   \n",
              "2              0           tcp   private   S0          0          0     0   \n",
              "3              0           tcp      http   SF        232       8153     0   \n",
              "4              0           tcp      http   SF        199        420     0   \n",
              "...          ...           ...       ...  ...        ...        ...   ...   \n",
              "125968         0           tcp   private   S0          0          0     0   \n",
              "125969         8           udp   private   SF        105        145     0   \n",
              "125970         0           tcp      smtp   SF       2231        384     0   \n",
              "125971         0           tcp    klogin   S0          0          0     0   \n",
              "125972         0           tcp  ftp_data   SF        151          0     0   \n",
              "\n",
              "        wrong_fragment  urgent  hot  ...  dst_host_srv_count  \\\n",
              "0                    0       0    0  ...                  25   \n",
              "1                    0       0    0  ...                   1   \n",
              "2                    0       0    0  ...                  26   \n",
              "3                    0       0    0  ...                 255   \n",
              "4                    0       0    0  ...                 255   \n",
              "...                ...     ...  ...  ...                 ...   \n",
              "125968               0       0    0  ...                  25   \n",
              "125969               0       0    0  ...                 244   \n",
              "125970               0       0    0  ...                  30   \n",
              "125971               0       0    0  ...                   8   \n",
              "125972               0       0    0  ...                  77   \n",
              "\n",
              "        dst_host_same_srv_rate  dst_host_diff_srv_rate  \\\n",
              "0                         0.17                    0.03   \n",
              "1                         0.00                    0.60   \n",
              "2                         0.10                    0.05   \n",
              "3                         1.00                    0.00   \n",
              "4                         1.00                    0.00   \n",
              "...                        ...                     ...   \n",
              "125968                    0.10                    0.06   \n",
              "125969                    0.96                    0.01   \n",
              "125970                    0.12                    0.06   \n",
              "125971                    0.03                    0.05   \n",
              "125972                    0.30                    0.03   \n",
              "\n",
              "        dst_host_same_src_port_rate  dst_host_srv_diff_host_rate  \\\n",
              "0                              0.17                         0.00   \n",
              "1                              0.88                         0.00   \n",
              "2                              0.00                         0.00   \n",
              "3                              0.03                         0.04   \n",
              "4                              0.00                         0.00   \n",
              "...                             ...                          ...   \n",
              "125968                         0.00                         0.00   \n",
              "125969                         0.01                         0.00   \n",
              "125970                         0.00                         0.00   \n",
              "125971                         0.00                         0.00   \n",
              "125972                         0.30                         0.00   \n",
              "\n",
              "        dst_host_serror_rate  dst_host_srv_serror_rate  dst_host_rerror_rate  \\\n",
              "0                       0.00                      0.00                  0.05   \n",
              "1                       0.00                      0.00                  0.00   \n",
              "2                       1.00                      1.00                  0.00   \n",
              "3                       0.03                      0.01                  0.00   \n",
              "4                       0.00                      0.00                  0.00   \n",
              "...                      ...                       ...                   ...   \n",
              "125968                  1.00                      1.00                  0.00   \n",
              "125969                  0.00                      0.00                  0.00   \n",
              "125970                  0.72                      0.00                  0.01   \n",
              "125971                  1.00                      1.00                  0.00   \n",
              "125972                  0.00                      0.00                  0.00   \n",
              "\n",
              "        dst_host_srv_rerror_rate    label  \n",
              "0                           0.00   normal  \n",
              "1                           0.00   normal  \n",
              "2                           0.00  anomaly  \n",
              "3                           0.01   normal  \n",
              "4                           0.00   normal  \n",
              "...                          ...      ...  \n",
              "125968                      0.00  anomaly  \n",
              "125969                      0.00   normal  \n",
              "125970                      0.00   normal  \n",
              "125971                      0.00  anomaly  \n",
              "125972                      0.00   normal  \n",
              "\n",
              "[125973 rows x 42 columns]"
            ],
            "text/html": [
              "\n",
              "  <div id=\"df-88a82445-1850-45c0-9bac-3122acac76fd\">\n",
              "    <div class=\"colab-df-container\">\n",
              "      <div>\n",
              "<style scoped>\n",
              "    .dataframe tbody tr th:only-of-type {\n",
              "        vertical-align: middle;\n",
              "    }\n",
              "\n",
              "    .dataframe tbody tr th {\n",
              "        vertical-align: top;\n",
              "    }\n",
              "\n",
              "    .dataframe thead th {\n",
              "        text-align: right;\n",
              "    }\n",
              "</style>\n",
              "<table border=\"1\" class=\"dataframe\">\n",
              "  <thead>\n",
              "    <tr style=\"text-align: right;\">\n",
              "      <th></th>\n",
              "      <th>duration</th>\n",
              "      <th>protocol_type</th>\n",
              "      <th>service</th>\n",
              "      <th>flag</th>\n",
              "      <th>src_bytes</th>\n",
              "      <th>dst_bytes</th>\n",
              "      <th>land</th>\n",
              "      <th>wrong_fragment</th>\n",
              "      <th>urgent</th>\n",
              "      <th>hot</th>\n",
              "      <th>...</th>\n",
              "      <th>dst_host_srv_count</th>\n",
              "      <th>dst_host_same_srv_rate</th>\n",
              "      <th>dst_host_diff_srv_rate</th>\n",
              "      <th>dst_host_same_src_port_rate</th>\n",
              "      <th>dst_host_srv_diff_host_rate</th>\n",
              "      <th>dst_host_serror_rate</th>\n",
              "      <th>dst_host_srv_serror_rate</th>\n",
              "      <th>dst_host_rerror_rate</th>\n",
              "      <th>dst_host_srv_rerror_rate</th>\n",
              "      <th>label</th>\n",
              "    </tr>\n",
              "  </thead>\n",
              "  <tbody>\n",
              "    <tr>\n",
              "      <th>0</th>\n",
              "      <td>0</td>\n",
              "      <td>tcp</td>\n",
              "      <td>ftp_data</td>\n",
              "      <td>SF</td>\n",
              "      <td>491</td>\n",
              "      <td>0</td>\n",
              "      <td>0</td>\n",
              "      <td>0</td>\n",
              "      <td>0</td>\n",
              "      <td>0</td>\n",
              "      <td>...</td>\n",
              "      <td>25</td>\n",
              "      <td>0.17</td>\n",
              "      <td>0.03</td>\n",
              "      <td>0.17</td>\n",
              "      <td>0.00</td>\n",
              "      <td>0.00</td>\n",
              "      <td>0.00</td>\n",
              "      <td>0.05</td>\n",
              "      <td>0.00</td>\n",
              "      <td>normal</td>\n",
              "    </tr>\n",
              "    <tr>\n",
              "      <th>1</th>\n",
              "      <td>0</td>\n",
              "      <td>udp</td>\n",
              "      <td>other</td>\n",
              "      <td>SF</td>\n",
              "      <td>146</td>\n",
              "      <td>0</td>\n",
              "      <td>0</td>\n",
              "      <td>0</td>\n",
              "      <td>0</td>\n",
              "      <td>0</td>\n",
              "      <td>...</td>\n",
              "      <td>1</td>\n",
              "      <td>0.00</td>\n",
              "      <td>0.60</td>\n",
              "      <td>0.88</td>\n",
              "      <td>0.00</td>\n",
              "      <td>0.00</td>\n",
              "      <td>0.00</td>\n",
              "      <td>0.00</td>\n",
              "      <td>0.00</td>\n",
              "      <td>normal</td>\n",
              "    </tr>\n",
              "    <tr>\n",
              "      <th>2</th>\n",
              "      <td>0</td>\n",
              "      <td>tcp</td>\n",
              "      <td>private</td>\n",
              "      <td>S0</td>\n",
              "      <td>0</td>\n",
              "      <td>0</td>\n",
              "      <td>0</td>\n",
              "      <td>0</td>\n",
              "      <td>0</td>\n",
              "      <td>0</td>\n",
              "      <td>...</td>\n",
              "      <td>26</td>\n",
              "      <td>0.10</td>\n",
              "      <td>0.05</td>\n",
              "      <td>0.00</td>\n",
              "      <td>0.00</td>\n",
              "      <td>1.00</td>\n",
              "      <td>1.00</td>\n",
              "      <td>0.00</td>\n",
              "      <td>0.00</td>\n",
              "      <td>anomaly</td>\n",
              "    </tr>\n",
              "    <tr>\n",
              "      <th>3</th>\n",
              "      <td>0</td>\n",
              "      <td>tcp</td>\n",
              "      <td>http</td>\n",
              "      <td>SF</td>\n",
              "      <td>232</td>\n",
              "      <td>8153</td>\n",
              "      <td>0</td>\n",
              "      <td>0</td>\n",
              "      <td>0</td>\n",
              "      <td>0</td>\n",
              "      <td>...</td>\n",
              "      <td>255</td>\n",
              "      <td>1.00</td>\n",
              "      <td>0.00</td>\n",
              "      <td>0.03</td>\n",
              "      <td>0.04</td>\n",
              "      <td>0.03</td>\n",
              "      <td>0.01</td>\n",
              "      <td>0.00</td>\n",
              "      <td>0.01</td>\n",
              "      <td>normal</td>\n",
              "    </tr>\n",
              "    <tr>\n",
              "      <th>4</th>\n",
              "      <td>0</td>\n",
              "      <td>tcp</td>\n",
              "      <td>http</td>\n",
              "      <td>SF</td>\n",
              "      <td>199</td>\n",
              "      <td>420</td>\n",
              "      <td>0</td>\n",
              "      <td>0</td>\n",
              "      <td>0</td>\n",
              "      <td>0</td>\n",
              "      <td>...</td>\n",
              "      <td>255</td>\n",
              "      <td>1.00</td>\n",
              "      <td>0.00</td>\n",
              "      <td>0.00</td>\n",
              "      <td>0.00</td>\n",
              "      <td>0.00</td>\n",
              "      <td>0.00</td>\n",
              "      <td>0.00</td>\n",
              "      <td>0.00</td>\n",
              "      <td>normal</td>\n",
              "    </tr>\n",
              "    <tr>\n",
              "      <th>...</th>\n",
              "      <td>...</td>\n",
              "      <td>...</td>\n",
              "      <td>...</td>\n",
              "      <td>...</td>\n",
              "      <td>...</td>\n",
              "      <td>...</td>\n",
              "      <td>...</td>\n",
              "      <td>...</td>\n",
              "      <td>...</td>\n",
              "      <td>...</td>\n",
              "      <td>...</td>\n",
              "      <td>...</td>\n",
              "      <td>...</td>\n",
              "      <td>...</td>\n",
              "      <td>...</td>\n",
              "      <td>...</td>\n",
              "      <td>...</td>\n",
              "      <td>...</td>\n",
              "      <td>...</td>\n",
              "      <td>...</td>\n",
              "      <td>...</td>\n",
              "    </tr>\n",
              "    <tr>\n",
              "      <th>125968</th>\n",
              "      <td>0</td>\n",
              "      <td>tcp</td>\n",
              "      <td>private</td>\n",
              "      <td>S0</td>\n",
              "      <td>0</td>\n",
              "      <td>0</td>\n",
              "      <td>0</td>\n",
              "      <td>0</td>\n",
              "      <td>0</td>\n",
              "      <td>0</td>\n",
              "      <td>...</td>\n",
              "      <td>25</td>\n",
              "      <td>0.10</td>\n",
              "      <td>0.06</td>\n",
              "      <td>0.00</td>\n",
              "      <td>0.00</td>\n",
              "      <td>1.00</td>\n",
              "      <td>1.00</td>\n",
              "      <td>0.00</td>\n",
              "      <td>0.00</td>\n",
              "      <td>anomaly</td>\n",
              "    </tr>\n",
              "    <tr>\n",
              "      <th>125969</th>\n",
              "      <td>8</td>\n",
              "      <td>udp</td>\n",
              "      <td>private</td>\n",
              "      <td>SF</td>\n",
              "      <td>105</td>\n",
              "      <td>145</td>\n",
              "      <td>0</td>\n",
              "      <td>0</td>\n",
              "      <td>0</td>\n",
              "      <td>0</td>\n",
              "      <td>...</td>\n",
              "      <td>244</td>\n",
              "      <td>0.96</td>\n",
              "      <td>0.01</td>\n",
              "      <td>0.01</td>\n",
              "      <td>0.00</td>\n",
              "      <td>0.00</td>\n",
              "      <td>0.00</td>\n",
              "      <td>0.00</td>\n",
              "      <td>0.00</td>\n",
              "      <td>normal</td>\n",
              "    </tr>\n",
              "    <tr>\n",
              "      <th>125970</th>\n",
              "      <td>0</td>\n",
              "      <td>tcp</td>\n",
              "      <td>smtp</td>\n",
              "      <td>SF</td>\n",
              "      <td>2231</td>\n",
              "      <td>384</td>\n",
              "      <td>0</td>\n",
              "      <td>0</td>\n",
              "      <td>0</td>\n",
              "      <td>0</td>\n",
              "      <td>...</td>\n",
              "      <td>30</td>\n",
              "      <td>0.12</td>\n",
              "      <td>0.06</td>\n",
              "      <td>0.00</td>\n",
              "      <td>0.00</td>\n",
              "      <td>0.72</td>\n",
              "      <td>0.00</td>\n",
              "      <td>0.01</td>\n",
              "      <td>0.00</td>\n",
              "      <td>normal</td>\n",
              "    </tr>\n",
              "    <tr>\n",
              "      <th>125971</th>\n",
              "      <td>0</td>\n",
              "      <td>tcp</td>\n",
              "      <td>klogin</td>\n",
              "      <td>S0</td>\n",
              "      <td>0</td>\n",
              "      <td>0</td>\n",
              "      <td>0</td>\n",
              "      <td>0</td>\n",
              "      <td>0</td>\n",
              "      <td>0</td>\n",
              "      <td>...</td>\n",
              "      <td>8</td>\n",
              "      <td>0.03</td>\n",
              "      <td>0.05</td>\n",
              "      <td>0.00</td>\n",
              "      <td>0.00</td>\n",
              "      <td>1.00</td>\n",
              "      <td>1.00</td>\n",
              "      <td>0.00</td>\n",
              "      <td>0.00</td>\n",
              "      <td>anomaly</td>\n",
              "    </tr>\n",
              "    <tr>\n",
              "      <th>125972</th>\n",
              "      <td>0</td>\n",
              "      <td>tcp</td>\n",
              "      <td>ftp_data</td>\n",
              "      <td>SF</td>\n",
              "      <td>151</td>\n",
              "      <td>0</td>\n",
              "      <td>0</td>\n",
              "      <td>0</td>\n",
              "      <td>0</td>\n",
              "      <td>0</td>\n",
              "      <td>...</td>\n",
              "      <td>77</td>\n",
              "      <td>0.30</td>\n",
              "      <td>0.03</td>\n",
              "      <td>0.30</td>\n",
              "      <td>0.00</td>\n",
              "      <td>0.00</td>\n",
              "      <td>0.00</td>\n",
              "      <td>0.00</td>\n",
              "      <td>0.00</td>\n",
              "      <td>normal</td>\n",
              "    </tr>\n",
              "  </tbody>\n",
              "</table>\n",
              "<p>125973 rows × 42 columns</p>\n",
              "</div>\n",
              "      <button class=\"colab-df-convert\" onclick=\"convertToInteractive('df-88a82445-1850-45c0-9bac-3122acac76fd')\"\n",
              "              title=\"Convert this dataframe to an interactive table.\"\n",
              "              style=\"display:none;\">\n",
              "        \n",
              "  <svg xmlns=\"http://www.w3.org/2000/svg\" height=\"24px\"viewBox=\"0 0 24 24\"\n",
              "       width=\"24px\">\n",
              "    <path d=\"M0 0h24v24H0V0z\" fill=\"none\"/>\n",
              "    <path d=\"M18.56 5.44l.94 2.06.94-2.06 2.06-.94-2.06-.94-.94-2.06-.94 2.06-2.06.94zm-11 1L8.5 8.5l.94-2.06 2.06-.94-2.06-.94L8.5 2.5l-.94 2.06-2.06.94zm10 10l.94 2.06.94-2.06 2.06-.94-2.06-.94-.94-2.06-.94 2.06-2.06.94z\"/><path d=\"M17.41 7.96l-1.37-1.37c-.4-.4-.92-.59-1.43-.59-.52 0-1.04.2-1.43.59L10.3 9.45l-7.72 7.72c-.78.78-.78 2.05 0 2.83L4 21.41c.39.39.9.59 1.41.59.51 0 1.02-.2 1.41-.59l7.78-7.78 2.81-2.81c.8-.78.8-2.07 0-2.86zM5.41 20L4 18.59l7.72-7.72 1.47 1.35L5.41 20z\"/>\n",
              "  </svg>\n",
              "      </button>\n",
              "      \n",
              "  <style>\n",
              "    .colab-df-container {\n",
              "      display:flex;\n",
              "      flex-wrap:wrap;\n",
              "      gap: 12px;\n",
              "    }\n",
              "\n",
              "    .colab-df-convert {\n",
              "      background-color: #E8F0FE;\n",
              "      border: none;\n",
              "      border-radius: 50%;\n",
              "      cursor: pointer;\n",
              "      display: none;\n",
              "      fill: #1967D2;\n",
              "      height: 32px;\n",
              "      padding: 0 0 0 0;\n",
              "      width: 32px;\n",
              "    }\n",
              "\n",
              "    .colab-df-convert:hover {\n",
              "      background-color: #E2EBFA;\n",
              "      box-shadow: 0px 1px 2px rgba(60, 64, 67, 0.3), 0px 1px 3px 1px rgba(60, 64, 67, 0.15);\n",
              "      fill: #174EA6;\n",
              "    }\n",
              "\n",
              "    [theme=dark] .colab-df-convert {\n",
              "      background-color: #3B4455;\n",
              "      fill: #D2E3FC;\n",
              "    }\n",
              "\n",
              "    [theme=dark] .colab-df-convert:hover {\n",
              "      background-color: #434B5C;\n",
              "      box-shadow: 0px 1px 3px 1px rgba(0, 0, 0, 0.15);\n",
              "      filter: drop-shadow(0px 1px 2px rgba(0, 0, 0, 0.3));\n",
              "      fill: #FFFFFF;\n",
              "    }\n",
              "  </style>\n",
              "\n",
              "      <script>\n",
              "        const buttonEl =\n",
              "          document.querySelector('#df-88a82445-1850-45c0-9bac-3122acac76fd button.colab-df-convert');\n",
              "        buttonEl.style.display =\n",
              "          google.colab.kernel.accessAllowed ? 'block' : 'none';\n",
              "\n",
              "        async function convertToInteractive(key) {\n",
              "          const element = document.querySelector('#df-88a82445-1850-45c0-9bac-3122acac76fd');\n",
              "          const dataTable =\n",
              "            await google.colab.kernel.invokeFunction('convertToInteractive',\n",
              "                                                     [key], {});\n",
              "          if (!dataTable) return;\n",
              "\n",
              "          const docLinkHtml = 'Like what you see? Visit the ' +\n",
              "            '<a target=\"_blank\" href=https://colab.research.google.com/notebooks/data_table.ipynb>data table notebook</a>'\n",
              "            + ' to learn more about interactive tables.';\n",
              "          element.innerHTML = '';\n",
              "          dataTable['output_type'] = 'display_data';\n",
              "          await google.colab.output.renderOutput(dataTable, element);\n",
              "          const docLink = document.createElement('div');\n",
              "          docLink.innerHTML = docLinkHtml;\n",
              "          element.appendChild(docLink);\n",
              "        }\n",
              "      </script>\n",
              "    </div>\n",
              "  </div>\n",
              "  "
            ]
          },
          "metadata": {},
          "execution_count": 2
        }
      ],
      "source": [
        "#loading the data\n",
        "import pandas\n",
        "from time import time\n",
        "col_names = [\"duration\", \"protocol_type\", \"service\", \"flag\", \"src_bytes\", \"dst_bytes\", \"land\", \"wrong_fragment\", \"urgent\", \"hot\", \n",
        "             \"num_failed_logins\", \"logged_in\", \"num_compromised\", \"root_shell\", \"su_attempted\", \"num_root\", \"num_file_creations\", \n",
        "             \"num_shells\", \"num_access_files\", \"num_outbound_cmds\", \"is_host_login\", \"is_guest_login\", \"count\", \"srv_count\", \n",
        "             \"serror_rate\", \"srv_serror_rate\", \"rerror_rate\", \"srv_rerror_rate\", \"same_srv_rate\", \"diff_srv_rate\", \n",
        "             \"srv_diff_host_rate\", \"dst_host_count\",\"dst_host_srv_count\", \"dst_host_same_srv_rate\", \"dst_host_diff_srv_rate\", \n",
        "             \"dst_host_same_src_port_rate\", \"dst_host_srv_diff_host_rate\", \"dst_host_serror_rate\", \"dst_host_srv_serror_rate\", \n",
        "             \"dst_host_rerror_rate\", \"dst_host_srv_rerror_rate\", \"label\"]\n",
        "kdd_data_train = pandas.read_csv(\"/content/drive/MyDrive/NSL-KDD/KDDTrain+.arff\", names = col_names)\n",
        "kdd_data_train"
      ]
    },
    {
      "cell_type": "code",
      "execution_count": null,
      "metadata": {
        "colab": {
          "base_uri": "https://localhost:8080/"
        },
        "id": "PQ6nBGZYzRLt",
        "outputId": "128c17a1-ac83-4acd-ab0e-b1fd55aec0f6"
      },
      "outputs": [
        {
          "output_type": "execute_result",
          "data": {
            "text/plain": [
              "normal     67343\n",
              "anomaly    58630\n",
              "Name: label, dtype: int64"
            ]
          },
          "metadata": {},
          "execution_count": 3
        }
      ],
      "source": [
        "#a look at how the labels are distributed\n",
        "kdd_data_train['label'].value_counts()"
      ]
    },
    {
      "cell_type": "code",
      "execution_count": null,
      "metadata": {
        "colab": {
          "base_uri": "https://localhost:8080/"
        },
        "id": "xSemtbk7XlUi",
        "outputId": "369a876a-bfa2-4540-fad8-5dfd69a7d848"
      },
      "outputs": [
        {
          "output_type": "execute_result",
          "data": {
            "text/plain": [
              "0         0.0\n",
              "1         0.0\n",
              "2         0.0\n",
              "3         0.0\n",
              "4         0.0\n",
              "         ... \n",
              "125968    0.0\n",
              "125969    8.0\n",
              "125970    0.0\n",
              "125971    0.0\n",
              "125972    0.0\n",
              "Name: duration, Length: 125973, dtype: float64"
            ]
          },
          "metadata": {},
          "execution_count": 4
        }
      ],
      "source": [
        "#Initially, we will use all features\n",
        "num_features = [\"duration\", \"src_bytes\", \"dst_bytes\", \"land\", \"wrong_fragment\", \"urgent\", \"hot\", \"num_failed_logins\", \n",
        "                \"logged_in\", \"num_compromised\", \"root_shell\", \"su_attempted\", \"num_root\", \"num_file_creations\", \"num_shells\",\n",
        "                \"num_access_files\", \"num_outbound_cmds\", \"is_host_login\", \"is_guest_login\", \"count\", \"srv_count\", \"serror_rate\", \n",
        "                \"srv_serror_rate\", \"rerror_rate\", \"srv_rerror_rate\", \"same_srv_rate\", \"diff_srv_rate\", \"srv_diff_host_rate\",\n",
        "                \"dst_host_count\", \"dst_host_srv_count\", \"dst_host_same_srv_rate\", \"dst_host_diff_srv_rate\", \n",
        "                \"dst_host_same_src_port_rate\", \"dst_host_srv_diff_host_rate\", \"dst_host_serror_rate\", \"dst_host_srv_serror_rate\",\n",
        "                \"dst_host_rerror_rate\", \"dst_host_srv_rerror_rate\"]\n",
        "features = kdd_data_train[num_features].astype(float)\n",
        "features[\"duration\"]"
      ]
    },
    {
      "cell_type": "code",
      "execution_count": null,
      "metadata": {
        "colab": {
          "base_uri": "https://localhost:8080/"
        },
        "id": "U4OKZWebx2wn",
        "outputId": "798d7ae6-0eab-4512-c780-755b4c45f7ba"
      },
      "outputs": [
        {
          "output_type": "execute_result",
          "data": {
            "text/plain": [
              "normal    67343\n",
              "attack    58630\n",
              "Name: label, dtype: int64"
            ]
          },
          "metadata": {},
          "execution_count": 5
        }
      ],
      "source": [
        "#KNN Classifier\n",
        "from sklearn.neighbors import KNeighborsClassifier\n",
        "labels = kdd_data_train['label'].copy()\n",
        "labels[labels != 'normal'] = 'attack'\n",
        "labels.value_counts()"
      ]
    },
    {
      "cell_type": "code",
      "execution_count": null,
      "metadata": {
        "colab": {
          "base_uri": "https://localhost:8080/"
        },
        "id": "5EBqSfsi-tGh",
        "outputId": "0cfa695d-d3a8-4a33-da9b-2304c72eeade"
      },
      "outputs": [
        {
          "output_type": "execute_result",
          "data": {
            "text/plain": [
              "array([[0.00000000e+00, 3.55806412e-07, 0.00000000e+00, ...,\n",
              "        0.00000000e+00, 5.00000000e-02, 0.00000000e+00],\n",
              "       [0.00000000e+00, 1.05799870e-07, 0.00000000e+00, ...,\n",
              "        0.00000000e+00, 0.00000000e+00, 0.00000000e+00],\n",
              "       [0.00000000e+00, 0.00000000e+00, 0.00000000e+00, ...,\n",
              "        1.00000000e+00, 0.00000000e+00, 0.00000000e+00],\n",
              "       ...,\n",
              "       [0.00000000e+00, 1.61670897e-06, 2.93143779e-07, ...,\n",
              "        0.00000000e+00, 1.00000000e-02, 0.00000000e+00],\n",
              "       [0.00000000e+00, 0.00000000e+00, 0.00000000e+00, ...,\n",
              "        1.00000000e+00, 0.00000000e+00, 0.00000000e+00],\n",
              "       [0.00000000e+00, 1.09423153e-07, 0.00000000e+00, ...,\n",
              "        0.00000000e+00, 0.00000000e+00, 0.00000000e+00]])"
            ]
          },
          "metadata": {},
          "execution_count": 6
        }
      ],
      "source": [
        "#Ignoring the deprecation warnings\n",
        "import warnings\n",
        "warnings.filterwarnings(\"ignore\", category = DeprecationWarning) \n",
        "\n",
        "#Rescaling the data\n",
        "from sklearn.preprocessing import MinMaxScaler\n",
        "scaler = MinMaxScaler()\n",
        "features= scaler.fit_transform(features)\n",
        "features.view()"
      ]
    },
    {
      "cell_type": "code",
      "execution_count": null,
      "metadata": {
        "colab": {
          "base_uri": "https://localhost:8080/"
        },
        "id": "xePt3Vwj-4tX",
        "outputId": "30cd2993-a81a-4329-8596-060ccc5e9406"
      },
      "outputs": [
        {
          "output_type": "stream",
          "name": "stdout",
          "text": [
            "Classifier trained in 0.442 seconds.\n"
          ]
        }
      ],
      "source": [
        "#Training a classifier\n",
        "clf1 = KNeighborsClassifier(n_neighbors = 5, algorithm = 'ball_tree', leaf_size = 500)\n",
        "t0 = time()\n",
        "clf1.fit(features, labels)\n",
        "tt = time() - t0\n",
        "print (\"Classifier trained in {} seconds.\".format(round(tt, 3)))"
      ]
    },
    {
      "cell_type": "code",
      "execution_count": null,
      "metadata": {
        "colab": {
          "base_uri": "https://localhost:8080/"
        },
        "id": "_DhQQV95-_Z3",
        "outputId": "2be7f715-8a6d-448b-c046-0aa15c29a5c2"
      },
      "outputs": [
        {
          "output_type": "execute_result",
          "data": {
            "text/plain": [
              "anomaly    9698\n",
              "normal     2152\n",
              "Name: label, dtype: int64"
            ]
          },
          "metadata": {},
          "execution_count": 8
        }
      ],
      "source": [
        "#Loading the labelled test data\n",
        "kdd_data_test = pandas.read_csv(\"/content/drive/MyDrive/NSL-KDD/KDDTest-21.arff\", header=None, names = col_names)\n",
        "kdd_data_test['label'].value_counts()"
      ]
    },
    {
      "cell_type": "code",
      "execution_count": null,
      "metadata": {
        "colab": {
          "base_uri": "https://localhost:8080/"
        },
        "id": "je6nF_hA_gzx",
        "outputId": "a11a9867-d2da-47e4-c022-82e805ff0d26"
      },
      "outputs": [
        {
          "output_type": "stream",
          "name": "stderr",
          "text": [
            "/usr/local/lib/python3.7/dist-packages/ipykernel_launcher.py:2: SettingWithCopyWarning: \n",
            "A value is trying to be set on a copy of a slice from a DataFrame\n",
            "\n",
            "See the caveats in the documentation: https://pandas.pydata.org/pandas-docs/stable/user_guide/indexing.html#returning-a-view-versus-a-copy\n",
            "  \n"
          ]
        },
        {
          "output_type": "execute_result",
          "data": {
            "text/plain": [
              "attack    9698\n",
              "normal    2152\n",
              "Name: label, dtype: int64"
            ]
          },
          "metadata": {},
          "execution_count": 9
        }
      ],
      "source": [
        "#Converting all the new attack labels to 'attack.'\n",
        "kdd_data_test['label'][kdd_data_test['label']!='normal'] = 'attack'\n",
        "kdd_data_test['label'].value_counts()"
      ]
    },
    {
      "cell_type": "code",
      "execution_count": null,
      "metadata": {
        "id": "IXqvbgKB_sWg"
      },
      "outputs": [],
      "source": [
        "#Ignoring the deprecation warnings\n",
        "import warnings\n",
        "warnings.filterwarnings(\"ignore\", category = DeprecationWarning) \n",
        "\n",
        "kdd_data_test[num_features] = kdd_data_test[num_features].astype(float)\n",
        "kdd_data_test[num_features] = scaler.fit_transform(kdd_data_test[num_features])"
      ]
    },
    {
      "cell_type": "code",
      "execution_count": null,
      "metadata": {
        "id": "HeDlKwZ6_2t_"
      },
      "outputs": [],
      "source": [
        "#Now, after scaling, we can sample 10% of the training data\n",
        "from sklearn.model_selection import train_test_split\n",
        "features_train, features_test, labels_train, labels_test = train_test_split(kdd_data_test[num_features], \n",
        "                                                                            kdd_data_test['label'], test_size=0.1, \n",
        "                                                                            random_state=42)"
      ]
    },
    {
      "cell_type": "code",
      "execution_count": null,
      "metadata": {
        "colab": {
          "base_uri": "https://localhost:8080/"
        },
        "id": "aat7dSaH_9j2",
        "outputId": "87f746c5-f08d-424c-feb9-00c01e02bb66"
      },
      "outputs": [
        {
          "output_type": "stream",
          "name": "stderr",
          "text": [
            "/usr/local/lib/python3.7/dist-packages/sklearn/base.py:444: UserWarning: X has feature names, but KNeighborsClassifier was fitted without feature names\n",
            "  f\"X has feature names, but {self.__class__.__name__} was fitted without\"\n"
          ]
        },
        {
          "output_type": "stream",
          "name": "stdout",
          "text": [
            "Predicted in 11.04 seconds\n"
          ]
        }
      ],
      "source": [
        "#Predictions on the test data\n",
        "clf1.fit(features, labels)\n",
        "t0 = time()\n",
        "pred = clf1.predict(features_test)\n",
        "tt = time() - t0\n",
        "print (\"Predicted in {} seconds\".format(round(tt,3)))"
      ]
    },
    {
      "cell_type": "code",
      "execution_count": null,
      "metadata": {
        "colab": {
          "base_uri": "https://localhost:8080/"
        },
        "id": "UNT8nTVOAnc_",
        "outputId": "d48a1d33-7e36-46a4-e0b4-cb231df1865f"
      },
      "outputs": [
        {
          "output_type": "stream",
          "name": "stdout",
          "text": [
            "Accuracy is 0.5409.\n",
            "F1 Score is 0.4914.\n",
            "Precision is 0.6312.\n",
            "Recall is 0.5409.\n"
          ]
        }
      ],
      "source": [
        "#Calculating out the accuracy\n",
        "from sklearn.metrics import accuracy_score, f1_score, precision_score, recall_score\n",
        "accuracy1 = accuracy_score(pred, labels_test)\n",
        "f1_score1 = f1_score(pred, labels_test,average='weighted')\n",
        "precision1 = precision_score(pred, labels_test, average='weighted')\n",
        "recall1 = recall_score(pred, labels_test, average='weighted')\n",
        "print (\"Accuracy is {}.\".format(round(accuracy1,4)))\n",
        "print (\"F1 Score is {}.\".format(round(f1_score1,4)))\n",
        "print (\"Precision is {}.\".format(round(precision1,4)))\n",
        "print (\"Recall is {}.\".format(round(recall1,4)))"
      ]
    },
    {
      "cell_type": "code",
      "execution_count": null,
      "metadata": {
        "colab": {
          "base_uri": "https://localhost:8080/",
          "height": 174
        },
        "id": "wNYLZ3omPRy8",
        "outputId": "50860f60-3074-4007-d461-650fe29b96f1"
      },
      "outputs": [
        {
          "output_type": "execute_result",
          "data": {
            "text/plain": [
              "           KNN Classifier\n",
              "Accuracy         0.540928\n",
              "F1_Score         0.491422\n",
              "Precision        0.631242\n",
              "Recall           0.540928"
            ],
            "text/html": [
              "\n",
              "  <div id=\"df-c0be81f5-2f8d-44b5-b66e-a019fd9edc1c\">\n",
              "    <div class=\"colab-df-container\">\n",
              "      <div>\n",
              "<style scoped>\n",
              "    .dataframe tbody tr th:only-of-type {\n",
              "        vertical-align: middle;\n",
              "    }\n",
              "\n",
              "    .dataframe tbody tr th {\n",
              "        vertical-align: top;\n",
              "    }\n",
              "\n",
              "    .dataframe thead th {\n",
              "        text-align: right;\n",
              "    }\n",
              "</style>\n",
              "<table border=\"1\" class=\"dataframe\">\n",
              "  <thead>\n",
              "    <tr style=\"text-align: right;\">\n",
              "      <th></th>\n",
              "      <th>KNN Classifier</th>\n",
              "    </tr>\n",
              "  </thead>\n",
              "  <tbody>\n",
              "    <tr>\n",
              "      <th>Accuracy</th>\n",
              "      <td>0.540928</td>\n",
              "    </tr>\n",
              "    <tr>\n",
              "      <th>F1_Score</th>\n",
              "      <td>0.491422</td>\n",
              "    </tr>\n",
              "    <tr>\n",
              "      <th>Precision</th>\n",
              "      <td>0.631242</td>\n",
              "    </tr>\n",
              "    <tr>\n",
              "      <th>Recall</th>\n",
              "      <td>0.540928</td>\n",
              "    </tr>\n",
              "  </tbody>\n",
              "</table>\n",
              "</div>\n",
              "      <button class=\"colab-df-convert\" onclick=\"convertToInteractive('df-c0be81f5-2f8d-44b5-b66e-a019fd9edc1c')\"\n",
              "              title=\"Convert this dataframe to an interactive table.\"\n",
              "              style=\"display:none;\">\n",
              "        \n",
              "  <svg xmlns=\"http://www.w3.org/2000/svg\" height=\"24px\"viewBox=\"0 0 24 24\"\n",
              "       width=\"24px\">\n",
              "    <path d=\"M0 0h24v24H0V0z\" fill=\"none\"/>\n",
              "    <path d=\"M18.56 5.44l.94 2.06.94-2.06 2.06-.94-2.06-.94-.94-2.06-.94 2.06-2.06.94zm-11 1L8.5 8.5l.94-2.06 2.06-.94-2.06-.94L8.5 2.5l-.94 2.06-2.06.94zm10 10l.94 2.06.94-2.06 2.06-.94-2.06-.94-.94-2.06-.94 2.06-2.06.94z\"/><path d=\"M17.41 7.96l-1.37-1.37c-.4-.4-.92-.59-1.43-.59-.52 0-1.04.2-1.43.59L10.3 9.45l-7.72 7.72c-.78.78-.78 2.05 0 2.83L4 21.41c.39.39.9.59 1.41.59.51 0 1.02-.2 1.41-.59l7.78-7.78 2.81-2.81c.8-.78.8-2.07 0-2.86zM5.41 20L4 18.59l7.72-7.72 1.47 1.35L5.41 20z\"/>\n",
              "  </svg>\n",
              "      </button>\n",
              "      \n",
              "  <style>\n",
              "    .colab-df-container {\n",
              "      display:flex;\n",
              "      flex-wrap:wrap;\n",
              "      gap: 12px;\n",
              "    }\n",
              "\n",
              "    .colab-df-convert {\n",
              "      background-color: #E8F0FE;\n",
              "      border: none;\n",
              "      border-radius: 50%;\n",
              "      cursor: pointer;\n",
              "      display: none;\n",
              "      fill: #1967D2;\n",
              "      height: 32px;\n",
              "      padding: 0 0 0 0;\n",
              "      width: 32px;\n",
              "    }\n",
              "\n",
              "    .colab-df-convert:hover {\n",
              "      background-color: #E2EBFA;\n",
              "      box-shadow: 0px 1px 2px rgba(60, 64, 67, 0.3), 0px 1px 3px 1px rgba(60, 64, 67, 0.15);\n",
              "      fill: #174EA6;\n",
              "    }\n",
              "\n",
              "    [theme=dark] .colab-df-convert {\n",
              "      background-color: #3B4455;\n",
              "      fill: #D2E3FC;\n",
              "    }\n",
              "\n",
              "    [theme=dark] .colab-df-convert:hover {\n",
              "      background-color: #434B5C;\n",
              "      box-shadow: 0px 1px 3px 1px rgba(0, 0, 0, 0.15);\n",
              "      filter: drop-shadow(0px 1px 2px rgba(0, 0, 0, 0.3));\n",
              "      fill: #FFFFFF;\n",
              "    }\n",
              "  </style>\n",
              "\n",
              "      <script>\n",
              "        const buttonEl =\n",
              "          document.querySelector('#df-c0be81f5-2f8d-44b5-b66e-a019fd9edc1c button.colab-df-convert');\n",
              "        buttonEl.style.display =\n",
              "          google.colab.kernel.accessAllowed ? 'block' : 'none';\n",
              "\n",
              "        async function convertToInteractive(key) {\n",
              "          const element = document.querySelector('#df-c0be81f5-2f8d-44b5-b66e-a019fd9edc1c');\n",
              "          const dataTable =\n",
              "            await google.colab.kernel.invokeFunction('convertToInteractive',\n",
              "                                                     [key], {});\n",
              "          if (!dataTable) return;\n",
              "\n",
              "          const docLinkHtml = 'Like what you see? Visit the ' +\n",
              "            '<a target=\"_blank\" href=https://colab.research.google.com/notebooks/data_table.ipynb>data table notebook</a>'\n",
              "            + ' to learn more about interactive tables.';\n",
              "          element.innerHTML = '';\n",
              "          dataTable['output_type'] = 'display_data';\n",
              "          await google.colab.output.renderOutput(dataTable, element);\n",
              "          const docLink = document.createElement('div');\n",
              "          docLink.innerHTML = docLinkHtml;\n",
              "          element.appendChild(docLink);\n",
              "        }\n",
              "      </script>\n",
              "    </div>\n",
              "  </div>\n",
              "  "
            ]
          },
          "metadata": {},
          "execution_count": 14
        }
      ],
      "source": [
        "final_matrix = pandas.DataFrame({\"KNN Classifier\":[accuracy1,f1_score1,precision1,recall1]})\n",
        "final_matrix.index = [\"Accuracy\", \"F1_Score\", \"Precision\", \"Recall\"]\n",
        "final_matrix"
      ]
    },
    {
      "cell_type": "code",
      "execution_count": null,
      "metadata": {
        "colab": {
          "base_uri": "https://localhost:8080/"
        },
        "id": "BMBKX-6kCYub",
        "outputId": "a327ea0d-3e5d-41cb-e310-46cef94354be"
      },
      "outputs": [
        {
          "output_type": "stream",
          "name": "stdout",
          "text": [
            "Classifier trained in 3.093 seconds.\n"
          ]
        }
      ],
      "source": [
        "#LinearSVC Classifier\n",
        "from sklearn.svm import LinearSVC\n",
        "\n",
        "clf2 = LinearSVC(random_state = 0)\n",
        "t0 = time()\n",
        "clf2.fit(features, labels)\n",
        "tt = time() - t0\n",
        "print (\"Classifier trained in {} seconds.\".format(round(tt, 3)))"
      ]
    },
    {
      "cell_type": "code",
      "execution_count": null,
      "metadata": {
        "id": "Jei-mFeEDiot",
        "colab": {
          "base_uri": "https://localhost:8080/"
        },
        "outputId": "5eb6803f-d715-450a-b022-039bb6ba0fab"
      },
      "outputs": [
        {
          "output_type": "stream",
          "name": "stdout",
          "text": [
            "Predicted in 0.003 seconds\n"
          ]
        },
        {
          "output_type": "stream",
          "name": "stderr",
          "text": [
            "/usr/local/lib/python3.7/dist-packages/sklearn/base.py:444: UserWarning: X has feature names, but LinearSVC was fitted without feature names\n",
            "  f\"X has feature names, but {self.__class__.__name__} was fitted without\"\n"
          ]
        }
      ],
      "source": [
        "#Predictions on the test data\n",
        "clf2.fit(features, labels)\n",
        "t0 = time()\n",
        "pred = clf2.predict(features_test)\n",
        "tt = time() - t0\n",
        "print (\"Predicted in {} seconds\".format(round(tt,3)))"
      ]
    },
    {
      "cell_type": "code",
      "execution_count": null,
      "metadata": {
        "id": "7zBiF0dnDnL2",
        "colab": {
          "base_uri": "https://localhost:8080/"
        },
        "outputId": "afb17159-efe6-45bf-ea0d-cb86d5a3d151"
      },
      "outputs": [
        {
          "output_type": "stream",
          "name": "stdout",
          "text": [
            "Accuracy is 0.5384.\n",
            "F1 Score is 0.4877.\n",
            "Precision is 0.6085.\n",
            "Recall is 0.5384.\n"
          ]
        }
      ],
      "source": [
        "#Calculating out the accuracy\n",
        "accuracy2 = accuracy_score(pred, labels_test)\n",
        "f1_score2 = f1_score(pred, labels_test,average='weighted')\n",
        "precision2 = precision_score(pred, labels_test, average='weighted')\n",
        "recall2 = recall_score(pred, labels_test, average='weighted')\n",
        "print (\"Accuracy is {}.\".format(round(accuracy2,4)))\n",
        "print (\"F1 Score is {}.\".format(round(f1_score2,4)))\n",
        "print (\"Precision is {}.\".format(round(precision2,4)))\n",
        "print (\"Recall is {}.\".format(round(recall2,4)))"
      ]
    },
    {
      "cell_type": "code",
      "execution_count": null,
      "metadata": {
        "id": "wF6ksmW1QwPm",
        "colab": {
          "base_uri": "https://localhost:8080/",
          "height": 174
        },
        "outputId": "d6924c57-1e2f-4f42-9854-f6dc50d448e5"
      },
      "outputs": [
        {
          "output_type": "execute_result",
          "data": {
            "text/plain": [
              "           KNN Classifier  SVC Classifier\n",
              "Accuracy         0.540928        0.538397\n",
              "F1_Score         0.491422        0.487719\n",
              "Precision        0.631242        0.608534\n",
              "Recall           0.540928        0.538397"
            ],
            "text/html": [
              "\n",
              "  <div id=\"df-2fc555e7-b263-4b5d-bc75-31b46164e642\">\n",
              "    <div class=\"colab-df-container\">\n",
              "      <div>\n",
              "<style scoped>\n",
              "    .dataframe tbody tr th:only-of-type {\n",
              "        vertical-align: middle;\n",
              "    }\n",
              "\n",
              "    .dataframe tbody tr th {\n",
              "        vertical-align: top;\n",
              "    }\n",
              "\n",
              "    .dataframe thead th {\n",
              "        text-align: right;\n",
              "    }\n",
              "</style>\n",
              "<table border=\"1\" class=\"dataframe\">\n",
              "  <thead>\n",
              "    <tr style=\"text-align: right;\">\n",
              "      <th></th>\n",
              "      <th>KNN Classifier</th>\n",
              "      <th>SVC Classifier</th>\n",
              "    </tr>\n",
              "  </thead>\n",
              "  <tbody>\n",
              "    <tr>\n",
              "      <th>Accuracy</th>\n",
              "      <td>0.540928</td>\n",
              "      <td>0.538397</td>\n",
              "    </tr>\n",
              "    <tr>\n",
              "      <th>F1_Score</th>\n",
              "      <td>0.491422</td>\n",
              "      <td>0.487719</td>\n",
              "    </tr>\n",
              "    <tr>\n",
              "      <th>Precision</th>\n",
              "      <td>0.631242</td>\n",
              "      <td>0.608534</td>\n",
              "    </tr>\n",
              "    <tr>\n",
              "      <th>Recall</th>\n",
              "      <td>0.540928</td>\n",
              "      <td>0.538397</td>\n",
              "    </tr>\n",
              "  </tbody>\n",
              "</table>\n",
              "</div>\n",
              "      <button class=\"colab-df-convert\" onclick=\"convertToInteractive('df-2fc555e7-b263-4b5d-bc75-31b46164e642')\"\n",
              "              title=\"Convert this dataframe to an interactive table.\"\n",
              "              style=\"display:none;\">\n",
              "        \n",
              "  <svg xmlns=\"http://www.w3.org/2000/svg\" height=\"24px\"viewBox=\"0 0 24 24\"\n",
              "       width=\"24px\">\n",
              "    <path d=\"M0 0h24v24H0V0z\" fill=\"none\"/>\n",
              "    <path d=\"M18.56 5.44l.94 2.06.94-2.06 2.06-.94-2.06-.94-.94-2.06-.94 2.06-2.06.94zm-11 1L8.5 8.5l.94-2.06 2.06-.94-2.06-.94L8.5 2.5l-.94 2.06-2.06.94zm10 10l.94 2.06.94-2.06 2.06-.94-2.06-.94-.94-2.06-.94 2.06-2.06.94z\"/><path d=\"M17.41 7.96l-1.37-1.37c-.4-.4-.92-.59-1.43-.59-.52 0-1.04.2-1.43.59L10.3 9.45l-7.72 7.72c-.78.78-.78 2.05 0 2.83L4 21.41c.39.39.9.59 1.41.59.51 0 1.02-.2 1.41-.59l7.78-7.78 2.81-2.81c.8-.78.8-2.07 0-2.86zM5.41 20L4 18.59l7.72-7.72 1.47 1.35L5.41 20z\"/>\n",
              "  </svg>\n",
              "      </button>\n",
              "      \n",
              "  <style>\n",
              "    .colab-df-container {\n",
              "      display:flex;\n",
              "      flex-wrap:wrap;\n",
              "      gap: 12px;\n",
              "    }\n",
              "\n",
              "    .colab-df-convert {\n",
              "      background-color: #E8F0FE;\n",
              "      border: none;\n",
              "      border-radius: 50%;\n",
              "      cursor: pointer;\n",
              "      display: none;\n",
              "      fill: #1967D2;\n",
              "      height: 32px;\n",
              "      padding: 0 0 0 0;\n",
              "      width: 32px;\n",
              "    }\n",
              "\n",
              "    .colab-df-convert:hover {\n",
              "      background-color: #E2EBFA;\n",
              "      box-shadow: 0px 1px 2px rgba(60, 64, 67, 0.3), 0px 1px 3px 1px rgba(60, 64, 67, 0.15);\n",
              "      fill: #174EA6;\n",
              "    }\n",
              "\n",
              "    [theme=dark] .colab-df-convert {\n",
              "      background-color: #3B4455;\n",
              "      fill: #D2E3FC;\n",
              "    }\n",
              "\n",
              "    [theme=dark] .colab-df-convert:hover {\n",
              "      background-color: #434B5C;\n",
              "      box-shadow: 0px 1px 3px 1px rgba(0, 0, 0, 0.15);\n",
              "      filter: drop-shadow(0px 1px 2px rgba(0, 0, 0, 0.3));\n",
              "      fill: #FFFFFF;\n",
              "    }\n",
              "  </style>\n",
              "\n",
              "      <script>\n",
              "        const buttonEl =\n",
              "          document.querySelector('#df-2fc555e7-b263-4b5d-bc75-31b46164e642 button.colab-df-convert');\n",
              "        buttonEl.style.display =\n",
              "          google.colab.kernel.accessAllowed ? 'block' : 'none';\n",
              "\n",
              "        async function convertToInteractive(key) {\n",
              "          const element = document.querySelector('#df-2fc555e7-b263-4b5d-bc75-31b46164e642');\n",
              "          const dataTable =\n",
              "            await google.colab.kernel.invokeFunction('convertToInteractive',\n",
              "                                                     [key], {});\n",
              "          if (!dataTable) return;\n",
              "\n",
              "          const docLinkHtml = 'Like what you see? Visit the ' +\n",
              "            '<a target=\"_blank\" href=https://colab.research.google.com/notebooks/data_table.ipynb>data table notebook</a>'\n",
              "            + ' to learn more about interactive tables.';\n",
              "          element.innerHTML = '';\n",
              "          dataTable['output_type'] = 'display_data';\n",
              "          await google.colab.output.renderOutput(dataTable, element);\n",
              "          const docLink = document.createElement('div');\n",
              "          docLink.innerHTML = docLinkHtml;\n",
              "          element.appendChild(docLink);\n",
              "        }\n",
              "      </script>\n",
              "    </div>\n",
              "  </div>\n",
              "  "
            ]
          },
          "metadata": {},
          "execution_count": 18
        }
      ],
      "source": [
        "svc_classifier = [accuracy2, f1_score2, precision2, recall2]\n",
        "final_matrix[\"SVC Classifier\"] = svc_classifier\n",
        "final_matrix"
      ]
    },
    {
      "cell_type": "code",
      "execution_count": null,
      "metadata": {
        "id": "z_0QzQkHuvrh",
        "colab": {
          "base_uri": "https://localhost:8080/"
        },
        "outputId": "52931b8d-ee02-41ed-bca8-8188b911abb0"
      },
      "outputs": [
        {
          "output_type": "stream",
          "name": "stdout",
          "text": [
            "Classifier trained in 4.532 seconds.\n"
          ]
        }
      ],
      "source": [
        "#Logistic Regression\n",
        "from sklearn.linear_model import LogisticRegression\n",
        "\n",
        "#Training a classifier\n",
        "clf3 = LogisticRegression(max_iter=1000)\n",
        "t0 = time()\n",
        "clf3.fit(features, labels)\n",
        "tt = time() - t0\n",
        "print (\"Classifier trained in {} seconds.\".format(round(tt, 3)))"
      ]
    },
    {
      "cell_type": "code",
      "execution_count": null,
      "metadata": {
        "id": "2YjcAgu7vy5D",
        "colab": {
          "base_uri": "https://localhost:8080/"
        },
        "outputId": "3ca56886-d428-4367-922b-391c9c897e80"
      },
      "outputs": [
        {
          "output_type": "stream",
          "name": "stdout",
          "text": [
            "Predicted in 0.003 seconds\n"
          ]
        },
        {
          "output_type": "stream",
          "name": "stderr",
          "text": [
            "/usr/local/lib/python3.7/dist-packages/sklearn/base.py:444: UserWarning: X has feature names, but LogisticRegression was fitted without feature names\n",
            "  f\"X has feature names, but {self.__class__.__name__} was fitted without\"\n"
          ]
        }
      ],
      "source": [
        "#Predictions on the test data\n",
        "clf3.fit(features, labels)\n",
        "t0 = time()\n",
        "pred = clf3.predict(features_test)\n",
        "tt = time() - t0\n",
        "print (\"Predicted in {} seconds\".format(round(tt,3)))"
      ]
    },
    {
      "cell_type": "code",
      "execution_count": null,
      "metadata": {
        "colab": {
          "base_uri": "https://localhost:8080/"
        },
        "id": "rydRYj3ywBgb",
        "outputId": "99ab3170-00ea-435e-b41e-8d94f785fed3"
      },
      "outputs": [
        {
          "output_type": "stream",
          "name": "stdout",
          "text": [
            "Accuracy is 0.5435.\n",
            "F1 Score is 0.4932.\n",
            "Precision is 0.6151.\n",
            "Recall is 0.5435.\n"
          ]
        }
      ],
      "source": [
        "#Calculating out the accuracy\n",
        "accuracy3 = accuracy_score(pred, labels_test)\n",
        "f1_score3 = f1_score(pred, labels_test,average='weighted')\n",
        "precision3 = precision_score(pred, labels_test, average='weighted')\n",
        "recall3 = recall_score(pred, labels_test, average='weighted')\n",
        "print (\"Accuracy is {}.\".format(round(accuracy3,4)))\n",
        "print (\"F1 Score is {}.\".format(round(f1_score3,4)))\n",
        "print (\"Precision is {}.\".format(round(precision3,4)))\n",
        "print (\"Recall is {}.\".format(round(recall3,4)))"
      ]
    },
    {
      "cell_type": "code",
      "execution_count": null,
      "metadata": {
        "colab": {
          "base_uri": "https://localhost:8080/",
          "height": 174
        },
        "id": "zNnWmAbxwJGx",
        "outputId": "dea605b7-22cf-467b-b794-35119b36cdc4"
      },
      "outputs": [
        {
          "output_type": "execute_result",
          "data": {
            "text/plain": [
              "           KNN Classifier  SVC Classifier  Logistic Classifier\n",
              "Accuracy         0.540928        0.538397             0.543460\n",
              "F1_Score         0.491422        0.487719             0.493229\n",
              "Precision        0.631242        0.608534             0.615102\n",
              "Recall           0.540928        0.538397             0.543460"
            ],
            "text/html": [
              "\n",
              "  <div id=\"df-4c7f87db-82a4-4436-ac06-17f0feedd596\">\n",
              "    <div class=\"colab-df-container\">\n",
              "      <div>\n",
              "<style scoped>\n",
              "    .dataframe tbody tr th:only-of-type {\n",
              "        vertical-align: middle;\n",
              "    }\n",
              "\n",
              "    .dataframe tbody tr th {\n",
              "        vertical-align: top;\n",
              "    }\n",
              "\n",
              "    .dataframe thead th {\n",
              "        text-align: right;\n",
              "    }\n",
              "</style>\n",
              "<table border=\"1\" class=\"dataframe\">\n",
              "  <thead>\n",
              "    <tr style=\"text-align: right;\">\n",
              "      <th></th>\n",
              "      <th>KNN Classifier</th>\n",
              "      <th>SVC Classifier</th>\n",
              "      <th>Logistic Classifier</th>\n",
              "    </tr>\n",
              "  </thead>\n",
              "  <tbody>\n",
              "    <tr>\n",
              "      <th>Accuracy</th>\n",
              "      <td>0.540928</td>\n",
              "      <td>0.538397</td>\n",
              "      <td>0.543460</td>\n",
              "    </tr>\n",
              "    <tr>\n",
              "      <th>F1_Score</th>\n",
              "      <td>0.491422</td>\n",
              "      <td>0.487719</td>\n",
              "      <td>0.493229</td>\n",
              "    </tr>\n",
              "    <tr>\n",
              "      <th>Precision</th>\n",
              "      <td>0.631242</td>\n",
              "      <td>0.608534</td>\n",
              "      <td>0.615102</td>\n",
              "    </tr>\n",
              "    <tr>\n",
              "      <th>Recall</th>\n",
              "      <td>0.540928</td>\n",
              "      <td>0.538397</td>\n",
              "      <td>0.543460</td>\n",
              "    </tr>\n",
              "  </tbody>\n",
              "</table>\n",
              "</div>\n",
              "      <button class=\"colab-df-convert\" onclick=\"convertToInteractive('df-4c7f87db-82a4-4436-ac06-17f0feedd596')\"\n",
              "              title=\"Convert this dataframe to an interactive table.\"\n",
              "              style=\"display:none;\">\n",
              "        \n",
              "  <svg xmlns=\"http://www.w3.org/2000/svg\" height=\"24px\"viewBox=\"0 0 24 24\"\n",
              "       width=\"24px\">\n",
              "    <path d=\"M0 0h24v24H0V0z\" fill=\"none\"/>\n",
              "    <path d=\"M18.56 5.44l.94 2.06.94-2.06 2.06-.94-2.06-.94-.94-2.06-.94 2.06-2.06.94zm-11 1L8.5 8.5l.94-2.06 2.06-.94-2.06-.94L8.5 2.5l-.94 2.06-2.06.94zm10 10l.94 2.06.94-2.06 2.06-.94-2.06-.94-.94-2.06-.94 2.06-2.06.94z\"/><path d=\"M17.41 7.96l-1.37-1.37c-.4-.4-.92-.59-1.43-.59-.52 0-1.04.2-1.43.59L10.3 9.45l-7.72 7.72c-.78.78-.78 2.05 0 2.83L4 21.41c.39.39.9.59 1.41.59.51 0 1.02-.2 1.41-.59l7.78-7.78 2.81-2.81c.8-.78.8-2.07 0-2.86zM5.41 20L4 18.59l7.72-7.72 1.47 1.35L5.41 20z\"/>\n",
              "  </svg>\n",
              "      </button>\n",
              "      \n",
              "  <style>\n",
              "    .colab-df-container {\n",
              "      display:flex;\n",
              "      flex-wrap:wrap;\n",
              "      gap: 12px;\n",
              "    }\n",
              "\n",
              "    .colab-df-convert {\n",
              "      background-color: #E8F0FE;\n",
              "      border: none;\n",
              "      border-radius: 50%;\n",
              "      cursor: pointer;\n",
              "      display: none;\n",
              "      fill: #1967D2;\n",
              "      height: 32px;\n",
              "      padding: 0 0 0 0;\n",
              "      width: 32px;\n",
              "    }\n",
              "\n",
              "    .colab-df-convert:hover {\n",
              "      background-color: #E2EBFA;\n",
              "      box-shadow: 0px 1px 2px rgba(60, 64, 67, 0.3), 0px 1px 3px 1px rgba(60, 64, 67, 0.15);\n",
              "      fill: #174EA6;\n",
              "    }\n",
              "\n",
              "    [theme=dark] .colab-df-convert {\n",
              "      background-color: #3B4455;\n",
              "      fill: #D2E3FC;\n",
              "    }\n",
              "\n",
              "    [theme=dark] .colab-df-convert:hover {\n",
              "      background-color: #434B5C;\n",
              "      box-shadow: 0px 1px 3px 1px rgba(0, 0, 0, 0.15);\n",
              "      filter: drop-shadow(0px 1px 2px rgba(0, 0, 0, 0.3));\n",
              "      fill: #FFFFFF;\n",
              "    }\n",
              "  </style>\n",
              "\n",
              "      <script>\n",
              "        const buttonEl =\n",
              "          document.querySelector('#df-4c7f87db-82a4-4436-ac06-17f0feedd596 button.colab-df-convert');\n",
              "        buttonEl.style.display =\n",
              "          google.colab.kernel.accessAllowed ? 'block' : 'none';\n",
              "\n",
              "        async function convertToInteractive(key) {\n",
              "          const element = document.querySelector('#df-4c7f87db-82a4-4436-ac06-17f0feedd596');\n",
              "          const dataTable =\n",
              "            await google.colab.kernel.invokeFunction('convertToInteractive',\n",
              "                                                     [key], {});\n",
              "          if (!dataTable) return;\n",
              "\n",
              "          const docLinkHtml = 'Like what you see? Visit the ' +\n",
              "            '<a target=\"_blank\" href=https://colab.research.google.com/notebooks/data_table.ipynb>data table notebook</a>'\n",
              "            + ' to learn more about interactive tables.';\n",
              "          element.innerHTML = '';\n",
              "          dataTable['output_type'] = 'display_data';\n",
              "          await google.colab.output.renderOutput(dataTable, element);\n",
              "          const docLink = document.createElement('div');\n",
              "          docLink.innerHTML = docLinkHtml;\n",
              "          element.appendChild(docLink);\n",
              "        }\n",
              "      </script>\n",
              "    </div>\n",
              "  </div>\n",
              "  "
            ]
          },
          "metadata": {},
          "execution_count": 22
        }
      ],
      "source": [
        "logistic_classifier = [accuracy3, f1_score3, precision3, recall3]\n",
        "final_matrix[\"Logistic Classifier\"] = logistic_classifier\n",
        "final_matrix"
      ]
    },
    {
      "cell_type": "code",
      "execution_count": null,
      "metadata": {
        "colab": {
          "base_uri": "https://localhost:8080/"
        },
        "id": "jgIWk-AGzIzt",
        "outputId": "6add6355-bc82-4eee-e744-ed2e7da09ce7"
      },
      "outputs": [
        {
          "output_type": "stream",
          "name": "stdout",
          "text": [
            "Classifier trained in 16.682 seconds.\n"
          ]
        }
      ],
      "source": [
        "#MLP Classifier\n",
        "from sklearn.neural_network import MLPClassifier\n",
        "\n",
        "#Training a classifier\n",
        "from sklearn.neural_network import MLPClassifier\n",
        "mlp = MLPClassifier(alpha = 1)\n",
        "t0 = time()\n",
        "mlp.fit(features, labels)\n",
        "tt = time() - t0\n",
        "print (\"Classifier trained in {} seconds.\".format(round(tt, 3)))"
      ]
    },
    {
      "cell_type": "code",
      "execution_count": null,
      "metadata": {
        "colab": {
          "base_uri": "https://localhost:8080/"
        },
        "id": "NBpbDDOnzZeo",
        "outputId": "c617efc5-ddf7-415b-9abd-328e6bce82d7"
      },
      "outputs": [
        {
          "output_type": "stream",
          "name": "stdout",
          "text": [
            "Predicted in 0.004 seconds\n"
          ]
        },
        {
          "output_type": "stream",
          "name": "stderr",
          "text": [
            "/usr/local/lib/python3.7/dist-packages/sklearn/base.py:444: UserWarning: X has feature names, but MLPClassifier was fitted without feature names\n",
            "  f\"X has feature names, but {self.__class__.__name__} was fitted without\"\n"
          ]
        }
      ],
      "source": [
        "#Predictions on the test data\n",
        "mlp.fit(features, labels)\n",
        "t0 = time()\n",
        "pred = mlp.predict(features_test)\n",
        "tt = time() - t0\n",
        "print (\"Predicted in {} seconds\".format(round(tt,3)))"
      ]
    },
    {
      "cell_type": "code",
      "execution_count": null,
      "metadata": {
        "colab": {
          "base_uri": "https://localhost:8080/"
        },
        "id": "tUt9R8OJzqfs",
        "outputId": "f69be0ab-307f-4642-d544-7a50a1914c09"
      },
      "outputs": [
        {
          "output_type": "stream",
          "name": "stdout",
          "text": [
            "Accuracy is 0.5688.\n",
            "F1 Score is 0.5203.\n",
            "Precision is 0.6317.\n",
            "Recall is 0.5688.\n"
          ]
        }
      ],
      "source": [
        "#Calculating out the accuracy\n",
        "accuracy4 = accuracy_score(pred, labels_test)\n",
        "f1_score4 = f1_score(pred, labels_test,average='weighted')\n",
        "precision4 = precision_score(pred, labels_test, average='weighted')\n",
        "recall4 = recall_score(pred, labels_test, average='weighted')\n",
        "print (\"Accuracy is {}.\".format(round(accuracy4,4)))\n",
        "print (\"F1 Score is {}.\".format(round(f1_score4,4)))\n",
        "print (\"Precision is {}.\".format(round(precision4,4)))\n",
        "print (\"Recall is {}.\".format(round(recall4,4)))"
      ]
    },
    {
      "cell_type": "code",
      "execution_count": null,
      "metadata": {
        "colab": {
          "base_uri": "https://localhost:8080/",
          "height": 174
        },
        "id": "2u02JGFQz0Wo",
        "outputId": "5c1d2088-f757-4d68-cbce-4c24044d4ed3"
      },
      "outputs": [
        {
          "output_type": "execute_result",
          "data": {
            "text/plain": [
              "           KNN Classifier  SVC Classifier  Logistic Classifier  MLP Classifier\n",
              "Accuracy         0.540928        0.538397             0.543460        0.568776\n",
              "F1_Score         0.491422        0.487719             0.493229        0.520270\n",
              "Precision        0.631242        0.608534             0.615102        0.631722\n",
              "Recall           0.540928        0.538397             0.543460        0.568776"
            ],
            "text/html": [
              "\n",
              "  <div id=\"df-7a95af4e-51eb-4fe5-87e3-df1bd5d995ab\">\n",
              "    <div class=\"colab-df-container\">\n",
              "      <div>\n",
              "<style scoped>\n",
              "    .dataframe tbody tr th:only-of-type {\n",
              "        vertical-align: middle;\n",
              "    }\n",
              "\n",
              "    .dataframe tbody tr th {\n",
              "        vertical-align: top;\n",
              "    }\n",
              "\n",
              "    .dataframe thead th {\n",
              "        text-align: right;\n",
              "    }\n",
              "</style>\n",
              "<table border=\"1\" class=\"dataframe\">\n",
              "  <thead>\n",
              "    <tr style=\"text-align: right;\">\n",
              "      <th></th>\n",
              "      <th>KNN Classifier</th>\n",
              "      <th>SVC Classifier</th>\n",
              "      <th>Logistic Classifier</th>\n",
              "      <th>MLP Classifier</th>\n",
              "    </tr>\n",
              "  </thead>\n",
              "  <tbody>\n",
              "    <tr>\n",
              "      <th>Accuracy</th>\n",
              "      <td>0.540928</td>\n",
              "      <td>0.538397</td>\n",
              "      <td>0.543460</td>\n",
              "      <td>0.568776</td>\n",
              "    </tr>\n",
              "    <tr>\n",
              "      <th>F1_Score</th>\n",
              "      <td>0.491422</td>\n",
              "      <td>0.487719</td>\n",
              "      <td>0.493229</td>\n",
              "      <td>0.520270</td>\n",
              "    </tr>\n",
              "    <tr>\n",
              "      <th>Precision</th>\n",
              "      <td>0.631242</td>\n",
              "      <td>0.608534</td>\n",
              "      <td>0.615102</td>\n",
              "      <td>0.631722</td>\n",
              "    </tr>\n",
              "    <tr>\n",
              "      <th>Recall</th>\n",
              "      <td>0.540928</td>\n",
              "      <td>0.538397</td>\n",
              "      <td>0.543460</td>\n",
              "      <td>0.568776</td>\n",
              "    </tr>\n",
              "  </tbody>\n",
              "</table>\n",
              "</div>\n",
              "      <button class=\"colab-df-convert\" onclick=\"convertToInteractive('df-7a95af4e-51eb-4fe5-87e3-df1bd5d995ab')\"\n",
              "              title=\"Convert this dataframe to an interactive table.\"\n",
              "              style=\"display:none;\">\n",
              "        \n",
              "  <svg xmlns=\"http://www.w3.org/2000/svg\" height=\"24px\"viewBox=\"0 0 24 24\"\n",
              "       width=\"24px\">\n",
              "    <path d=\"M0 0h24v24H0V0z\" fill=\"none\"/>\n",
              "    <path d=\"M18.56 5.44l.94 2.06.94-2.06 2.06-.94-2.06-.94-.94-2.06-.94 2.06-2.06.94zm-11 1L8.5 8.5l.94-2.06 2.06-.94-2.06-.94L8.5 2.5l-.94 2.06-2.06.94zm10 10l.94 2.06.94-2.06 2.06-.94-2.06-.94-.94-2.06-.94 2.06-2.06.94z\"/><path d=\"M17.41 7.96l-1.37-1.37c-.4-.4-.92-.59-1.43-.59-.52 0-1.04.2-1.43.59L10.3 9.45l-7.72 7.72c-.78.78-.78 2.05 0 2.83L4 21.41c.39.39.9.59 1.41.59.51 0 1.02-.2 1.41-.59l7.78-7.78 2.81-2.81c.8-.78.8-2.07 0-2.86zM5.41 20L4 18.59l7.72-7.72 1.47 1.35L5.41 20z\"/>\n",
              "  </svg>\n",
              "      </button>\n",
              "      \n",
              "  <style>\n",
              "    .colab-df-container {\n",
              "      display:flex;\n",
              "      flex-wrap:wrap;\n",
              "      gap: 12px;\n",
              "    }\n",
              "\n",
              "    .colab-df-convert {\n",
              "      background-color: #E8F0FE;\n",
              "      border: none;\n",
              "      border-radius: 50%;\n",
              "      cursor: pointer;\n",
              "      display: none;\n",
              "      fill: #1967D2;\n",
              "      height: 32px;\n",
              "      padding: 0 0 0 0;\n",
              "      width: 32px;\n",
              "    }\n",
              "\n",
              "    .colab-df-convert:hover {\n",
              "      background-color: #E2EBFA;\n",
              "      box-shadow: 0px 1px 2px rgba(60, 64, 67, 0.3), 0px 1px 3px 1px rgba(60, 64, 67, 0.15);\n",
              "      fill: #174EA6;\n",
              "    }\n",
              "\n",
              "    [theme=dark] .colab-df-convert {\n",
              "      background-color: #3B4455;\n",
              "      fill: #D2E3FC;\n",
              "    }\n",
              "\n",
              "    [theme=dark] .colab-df-convert:hover {\n",
              "      background-color: #434B5C;\n",
              "      box-shadow: 0px 1px 3px 1px rgba(0, 0, 0, 0.15);\n",
              "      filter: drop-shadow(0px 1px 2px rgba(0, 0, 0, 0.3));\n",
              "      fill: #FFFFFF;\n",
              "    }\n",
              "  </style>\n",
              "\n",
              "      <script>\n",
              "        const buttonEl =\n",
              "          document.querySelector('#df-7a95af4e-51eb-4fe5-87e3-df1bd5d995ab button.colab-df-convert');\n",
              "        buttonEl.style.display =\n",
              "          google.colab.kernel.accessAllowed ? 'block' : 'none';\n",
              "\n",
              "        async function convertToInteractive(key) {\n",
              "          const element = document.querySelector('#df-7a95af4e-51eb-4fe5-87e3-df1bd5d995ab');\n",
              "          const dataTable =\n",
              "            await google.colab.kernel.invokeFunction('convertToInteractive',\n",
              "                                                     [key], {});\n",
              "          if (!dataTable) return;\n",
              "\n",
              "          const docLinkHtml = 'Like what you see? Visit the ' +\n",
              "            '<a target=\"_blank\" href=https://colab.research.google.com/notebooks/data_table.ipynb>data table notebook</a>'\n",
              "            + ' to learn more about interactive tables.';\n",
              "          element.innerHTML = '';\n",
              "          dataTable['output_type'] = 'display_data';\n",
              "          await google.colab.output.renderOutput(dataTable, element);\n",
              "          const docLink = document.createElement('div');\n",
              "          docLink.innerHTML = docLinkHtml;\n",
              "          element.appendChild(docLink);\n",
              "        }\n",
              "      </script>\n",
              "    </div>\n",
              "  </div>\n",
              "  "
            ]
          },
          "metadata": {},
          "execution_count": 26
        }
      ],
      "source": [
        "mlp_classifier = [accuracy4, f1_score4, precision4, recall4]\n",
        "final_matrix[\"MLP Classifier\"] = mlp_classifier\n",
        "final_matrix"
      ]
    },
    {
      "cell_type": "code",
      "execution_count": null,
      "metadata": {
        "colab": {
          "base_uri": "https://localhost:8080/"
        },
        "id": "MpDT9CiG0EsX",
        "outputId": "909910fe-aab6-4038-9890-4890ea3dc7f1"
      },
      "outputs": [
        {
          "output_type": "stream",
          "name": "stdout",
          "text": [
            "Classifier trained in 0.323 seconds.\n"
          ]
        }
      ],
      "source": [
        "# SGD Classifier\n",
        "from sklearn import linear_model\n",
        "#Training a classifier\n",
        "clf5 = linear_model.SGDClassifier()\n",
        "t0 = time()\n",
        "clf5.fit(features, labels)\n",
        "tt = time() - t0\n",
        "print (\"Classifier trained in {} seconds.\".format(round(tt, 3)))"
      ]
    },
    {
      "cell_type": "code",
      "execution_count": null,
      "metadata": {
        "colab": {
          "base_uri": "https://localhost:8080/"
        },
        "id": "hKxSc4rW0byh",
        "outputId": "74e31e2a-f53a-45a7-8e72-30831331c009"
      },
      "outputs": [
        {
          "output_type": "stream",
          "name": "stdout",
          "text": [
            "Predicted in 0.002 seconds\n"
          ]
        },
        {
          "output_type": "stream",
          "name": "stderr",
          "text": [
            "/usr/local/lib/python3.7/dist-packages/sklearn/base.py:444: UserWarning: X has feature names, but SGDClassifier was fitted without feature names\n",
            "  f\"X has feature names, but {self.__class__.__name__} was fitted without\"\n"
          ]
        }
      ],
      "source": [
        "#Predictions on the test data\n",
        "clf5.fit(features, labels)\n",
        "t0 = time()\n",
        "pred = clf5.predict(features_test)\n",
        "tt = time() - t0\n",
        "print (\"Predicted in {} seconds\".format(round(tt,3)))"
      ]
    },
    {
      "cell_type": "code",
      "execution_count": null,
      "metadata": {
        "colab": {
          "base_uri": "https://localhost:8080/"
        },
        "id": "g6zutS3m0lSh",
        "outputId": "e2647a64-f774-4bea-cfc7-06ecacbc6af7"
      },
      "outputs": [
        {
          "output_type": "stream",
          "name": "stdout",
          "text": [
            "Accuracy is 0.5215.\n",
            "F1 Score is 0.4707.\n",
            "Precision is 0.6102.\n",
            "Recall is 0.5215.\n"
          ]
        }
      ],
      "source": [
        "#Calculating out the accuracy\n",
        "accuracy5 = accuracy_score(pred, labels_test)\n",
        "f1_score5 = f1_score(pred, labels_test,average='weighted')\n",
        "precision5 = precision_score(pred, labels_test, average='weighted')\n",
        "recall5 = recall_score(pred, labels_test, average='weighted')\n",
        "print (\"Accuracy is {}.\".format(round(accuracy5,4)))\n",
        "print (\"F1 Score is {}.\".format(round(f1_score5,4)))\n",
        "print (\"Precision is {}.\".format(round(precision5,4)))\n",
        "print (\"Recall is {}.\".format(round(recall5,4)))"
      ]
    },
    {
      "cell_type": "code",
      "execution_count": null,
      "metadata": {
        "colab": {
          "base_uri": "https://localhost:8080/",
          "height": 174
        },
        "id": "0L7nu7lz0sRx",
        "outputId": "9a816124-21af-4ecf-a9f3-535acbcb8615"
      },
      "outputs": [
        {
          "output_type": "execute_result",
          "data": {
            "text/plain": [
              "           KNN Classifier  SVC Classifier  Logistic Classifier  \\\n",
              "Accuracy         0.540928        0.538397             0.543460   \n",
              "F1_Score         0.491422        0.487719             0.493229   \n",
              "Precision        0.631242        0.608534             0.615102   \n",
              "Recall           0.540928        0.538397             0.543460   \n",
              "\n",
              "           MLP Classifier  SGD Classifier  \n",
              "Accuracy         0.568776        0.521519  \n",
              "F1_Score         0.520270        0.470686  \n",
              "Precision        0.631722        0.610168  \n",
              "Recall           0.568776        0.521519  "
            ],
            "text/html": [
              "\n",
              "  <div id=\"df-c348b417-3c07-4b13-b354-1aca5085dea9\">\n",
              "    <div class=\"colab-df-container\">\n",
              "      <div>\n",
              "<style scoped>\n",
              "    .dataframe tbody tr th:only-of-type {\n",
              "        vertical-align: middle;\n",
              "    }\n",
              "\n",
              "    .dataframe tbody tr th {\n",
              "        vertical-align: top;\n",
              "    }\n",
              "\n",
              "    .dataframe thead th {\n",
              "        text-align: right;\n",
              "    }\n",
              "</style>\n",
              "<table border=\"1\" class=\"dataframe\">\n",
              "  <thead>\n",
              "    <tr style=\"text-align: right;\">\n",
              "      <th></th>\n",
              "      <th>KNN Classifier</th>\n",
              "      <th>SVC Classifier</th>\n",
              "      <th>Logistic Classifier</th>\n",
              "      <th>MLP Classifier</th>\n",
              "      <th>SGD Classifier</th>\n",
              "    </tr>\n",
              "  </thead>\n",
              "  <tbody>\n",
              "    <tr>\n",
              "      <th>Accuracy</th>\n",
              "      <td>0.540928</td>\n",
              "      <td>0.538397</td>\n",
              "      <td>0.543460</td>\n",
              "      <td>0.568776</td>\n",
              "      <td>0.521519</td>\n",
              "    </tr>\n",
              "    <tr>\n",
              "      <th>F1_Score</th>\n",
              "      <td>0.491422</td>\n",
              "      <td>0.487719</td>\n",
              "      <td>0.493229</td>\n",
              "      <td>0.520270</td>\n",
              "      <td>0.470686</td>\n",
              "    </tr>\n",
              "    <tr>\n",
              "      <th>Precision</th>\n",
              "      <td>0.631242</td>\n",
              "      <td>0.608534</td>\n",
              "      <td>0.615102</td>\n",
              "      <td>0.631722</td>\n",
              "      <td>0.610168</td>\n",
              "    </tr>\n",
              "    <tr>\n",
              "      <th>Recall</th>\n",
              "      <td>0.540928</td>\n",
              "      <td>0.538397</td>\n",
              "      <td>0.543460</td>\n",
              "      <td>0.568776</td>\n",
              "      <td>0.521519</td>\n",
              "    </tr>\n",
              "  </tbody>\n",
              "</table>\n",
              "</div>\n",
              "      <button class=\"colab-df-convert\" onclick=\"convertToInteractive('df-c348b417-3c07-4b13-b354-1aca5085dea9')\"\n",
              "              title=\"Convert this dataframe to an interactive table.\"\n",
              "              style=\"display:none;\">\n",
              "        \n",
              "  <svg xmlns=\"http://www.w3.org/2000/svg\" height=\"24px\"viewBox=\"0 0 24 24\"\n",
              "       width=\"24px\">\n",
              "    <path d=\"M0 0h24v24H0V0z\" fill=\"none\"/>\n",
              "    <path d=\"M18.56 5.44l.94 2.06.94-2.06 2.06-.94-2.06-.94-.94-2.06-.94 2.06-2.06.94zm-11 1L8.5 8.5l.94-2.06 2.06-.94-2.06-.94L8.5 2.5l-.94 2.06-2.06.94zm10 10l.94 2.06.94-2.06 2.06-.94-2.06-.94-.94-2.06-.94 2.06-2.06.94z\"/><path d=\"M17.41 7.96l-1.37-1.37c-.4-.4-.92-.59-1.43-.59-.52 0-1.04.2-1.43.59L10.3 9.45l-7.72 7.72c-.78.78-.78 2.05 0 2.83L4 21.41c.39.39.9.59 1.41.59.51 0 1.02-.2 1.41-.59l7.78-7.78 2.81-2.81c.8-.78.8-2.07 0-2.86zM5.41 20L4 18.59l7.72-7.72 1.47 1.35L5.41 20z\"/>\n",
              "  </svg>\n",
              "      </button>\n",
              "      \n",
              "  <style>\n",
              "    .colab-df-container {\n",
              "      display:flex;\n",
              "      flex-wrap:wrap;\n",
              "      gap: 12px;\n",
              "    }\n",
              "\n",
              "    .colab-df-convert {\n",
              "      background-color: #E8F0FE;\n",
              "      border: none;\n",
              "      border-radius: 50%;\n",
              "      cursor: pointer;\n",
              "      display: none;\n",
              "      fill: #1967D2;\n",
              "      height: 32px;\n",
              "      padding: 0 0 0 0;\n",
              "      width: 32px;\n",
              "    }\n",
              "\n",
              "    .colab-df-convert:hover {\n",
              "      background-color: #E2EBFA;\n",
              "      box-shadow: 0px 1px 2px rgba(60, 64, 67, 0.3), 0px 1px 3px 1px rgba(60, 64, 67, 0.15);\n",
              "      fill: #174EA6;\n",
              "    }\n",
              "\n",
              "    [theme=dark] .colab-df-convert {\n",
              "      background-color: #3B4455;\n",
              "      fill: #D2E3FC;\n",
              "    }\n",
              "\n",
              "    [theme=dark] .colab-df-convert:hover {\n",
              "      background-color: #434B5C;\n",
              "      box-shadow: 0px 1px 3px 1px rgba(0, 0, 0, 0.15);\n",
              "      filter: drop-shadow(0px 1px 2px rgba(0, 0, 0, 0.3));\n",
              "      fill: #FFFFFF;\n",
              "    }\n",
              "  </style>\n",
              "\n",
              "      <script>\n",
              "        const buttonEl =\n",
              "          document.querySelector('#df-c348b417-3c07-4b13-b354-1aca5085dea9 button.colab-df-convert');\n",
              "        buttonEl.style.display =\n",
              "          google.colab.kernel.accessAllowed ? 'block' : 'none';\n",
              "\n",
              "        async function convertToInteractive(key) {\n",
              "          const element = document.querySelector('#df-c348b417-3c07-4b13-b354-1aca5085dea9');\n",
              "          const dataTable =\n",
              "            await google.colab.kernel.invokeFunction('convertToInteractive',\n",
              "                                                     [key], {});\n",
              "          if (!dataTable) return;\n",
              "\n",
              "          const docLinkHtml = 'Like what you see? Visit the ' +\n",
              "            '<a target=\"_blank\" href=https://colab.research.google.com/notebooks/data_table.ipynb>data table notebook</a>'\n",
              "            + ' to learn more about interactive tables.';\n",
              "          element.innerHTML = '';\n",
              "          dataTable['output_type'] = 'display_data';\n",
              "          await google.colab.output.renderOutput(dataTable, element);\n",
              "          const docLink = document.createElement('div');\n",
              "          docLink.innerHTML = docLinkHtml;\n",
              "          element.appendChild(docLink);\n",
              "        }\n",
              "      </script>\n",
              "    </div>\n",
              "  </div>\n",
              "  "
            ]
          },
          "metadata": {},
          "execution_count": 30
        }
      ],
      "source": [
        "sgd_classifier = [accuracy5, f1_score5, precision5, recall5]\n",
        "final_matrix[\"SGD Classifier\"] = sgd_classifier\n",
        "final_matrix"
      ]
    },
    {
      "cell_type": "code",
      "execution_count": null,
      "metadata": {
        "colab": {
          "base_uri": "https://localhost:8080/"
        },
        "id": "UvFzuEahtVQc",
        "outputId": "859808bb-0bb0-4f54-96e6-01a7c759c1da"
      },
      "outputs": [
        {
          "output_type": "stream",
          "name": "stdout",
          "text": [
            "Classifier trained in 0.183 seconds.\n"
          ]
        }
      ],
      "source": [
        "#Gaussian NB Classifier\n",
        "from sklearn.naive_bayes import GaussianNB\n",
        "\n",
        "#Training a classifier\n",
        "clf6 = GaussianNB()\n",
        "t0 = time()\n",
        "clf6.fit(features, labels)\n",
        "tt = time() - t0\n",
        "print (\"Classifier trained in {} seconds.\".format(round(tt, 3)))"
      ]
    },
    {
      "cell_type": "code",
      "execution_count": null,
      "metadata": {
        "colab": {
          "base_uri": "https://localhost:8080/"
        },
        "id": "r6QGH9Q1wAac",
        "outputId": "25908972-09eb-4b0b-8c55-ab1963b76637"
      },
      "outputs": [
        {
          "output_type": "stream",
          "name": "stdout",
          "text": [
            "Predicted in 0.003 seconds\n"
          ]
        },
        {
          "output_type": "stream",
          "name": "stderr",
          "text": [
            "/usr/local/lib/python3.7/dist-packages/sklearn/base.py:444: UserWarning: X has feature names, but GaussianNB was fitted without feature names\n",
            "  f\"X has feature names, but {self.__class__.__name__} was fitted without\"\n"
          ]
        }
      ],
      "source": [
        "#Predictions on the test data\n",
        "clf6.fit(features, labels)\n",
        "t0 = time()\n",
        "pred = clf6.predict(features_test)\n",
        "tt = time() - t0\n",
        "print (\"Predicted in {} seconds\".format(round(tt,3)))"
      ]
    },
    {
      "cell_type": "code",
      "execution_count": null,
      "metadata": {
        "colab": {
          "base_uri": "https://localhost:8080/"
        },
        "id": "m0stUAZJwIgj",
        "outputId": "8fd7663b-65da-4f83-989d-d241f988db1a"
      },
      "outputs": [
        {
          "output_type": "stream",
          "name": "stdout",
          "text": [
            "Accuracy is 0.6245.\n",
            "F1 Score is 0.5822.\n",
            "Precision is 0.6146.\n",
            "Recall is 0.6245.\n"
          ]
        }
      ],
      "source": [
        "#Calculating out the accuracy\n",
        "accuracy6 = accuracy_score(pred, labels_test)\n",
        "f1_score6 = f1_score(pred, labels_test,average='weighted')\n",
        "precision6 = precision_score(pred, labels_test, average='weighted')\n",
        "recall6 = recall_score(pred, labels_test, average='weighted')\n",
        "print (\"Accuracy is {}.\".format(round(accuracy6,4)))\n",
        "print (\"F1 Score is {}.\".format(round(f1_score6,4)))\n",
        "print (\"Precision is {}.\".format(round(precision6,4)))\n",
        "print (\"Recall is {}.\".format(round(recall6,4)))"
      ]
    },
    {
      "cell_type": "code",
      "execution_count": null,
      "metadata": {
        "colab": {
          "base_uri": "https://localhost:8080/",
          "height": 174
        },
        "id": "eu66bKwDwR5f",
        "outputId": "3889a066-6322-43ec-c3ae-598c54510016"
      },
      "outputs": [
        {
          "output_type": "execute_result",
          "data": {
            "text/plain": [
              "           KNN Classifier  SVC Classifier  Logistic Classifier  \\\n",
              "Accuracy         0.540928        0.538397             0.543460   \n",
              "F1_Score         0.491422        0.487719             0.493229   \n",
              "Precision        0.631242        0.608534             0.615102   \n",
              "Recall           0.540928        0.538397             0.543460   \n",
              "\n",
              "           MLP Classifier  SGD Classifier  Gaussian Classifier  \n",
              "Accuracy         0.568776        0.521519             0.624473  \n",
              "F1_Score         0.520270        0.470686             0.582197  \n",
              "Precision        0.631722        0.610168             0.614586  \n",
              "Recall           0.568776        0.521519             0.624473  "
            ],
            "text/html": [
              "\n",
              "  <div id=\"df-98b19e5a-7a9f-4d16-839d-4514edddcf5b\">\n",
              "    <div class=\"colab-df-container\">\n",
              "      <div>\n",
              "<style scoped>\n",
              "    .dataframe tbody tr th:only-of-type {\n",
              "        vertical-align: middle;\n",
              "    }\n",
              "\n",
              "    .dataframe tbody tr th {\n",
              "        vertical-align: top;\n",
              "    }\n",
              "\n",
              "    .dataframe thead th {\n",
              "        text-align: right;\n",
              "    }\n",
              "</style>\n",
              "<table border=\"1\" class=\"dataframe\">\n",
              "  <thead>\n",
              "    <tr style=\"text-align: right;\">\n",
              "      <th></th>\n",
              "      <th>KNN Classifier</th>\n",
              "      <th>SVC Classifier</th>\n",
              "      <th>Logistic Classifier</th>\n",
              "      <th>MLP Classifier</th>\n",
              "      <th>SGD Classifier</th>\n",
              "      <th>Gaussian Classifier</th>\n",
              "    </tr>\n",
              "  </thead>\n",
              "  <tbody>\n",
              "    <tr>\n",
              "      <th>Accuracy</th>\n",
              "      <td>0.540928</td>\n",
              "      <td>0.538397</td>\n",
              "      <td>0.543460</td>\n",
              "      <td>0.568776</td>\n",
              "      <td>0.521519</td>\n",
              "      <td>0.624473</td>\n",
              "    </tr>\n",
              "    <tr>\n",
              "      <th>F1_Score</th>\n",
              "      <td>0.491422</td>\n",
              "      <td>0.487719</td>\n",
              "      <td>0.493229</td>\n",
              "      <td>0.520270</td>\n",
              "      <td>0.470686</td>\n",
              "      <td>0.582197</td>\n",
              "    </tr>\n",
              "    <tr>\n",
              "      <th>Precision</th>\n",
              "      <td>0.631242</td>\n",
              "      <td>0.608534</td>\n",
              "      <td>0.615102</td>\n",
              "      <td>0.631722</td>\n",
              "      <td>0.610168</td>\n",
              "      <td>0.614586</td>\n",
              "    </tr>\n",
              "    <tr>\n",
              "      <th>Recall</th>\n",
              "      <td>0.540928</td>\n",
              "      <td>0.538397</td>\n",
              "      <td>0.543460</td>\n",
              "      <td>0.568776</td>\n",
              "      <td>0.521519</td>\n",
              "      <td>0.624473</td>\n",
              "    </tr>\n",
              "  </tbody>\n",
              "</table>\n",
              "</div>\n",
              "      <button class=\"colab-df-convert\" onclick=\"convertToInteractive('df-98b19e5a-7a9f-4d16-839d-4514edddcf5b')\"\n",
              "              title=\"Convert this dataframe to an interactive table.\"\n",
              "              style=\"display:none;\">\n",
              "        \n",
              "  <svg xmlns=\"http://www.w3.org/2000/svg\" height=\"24px\"viewBox=\"0 0 24 24\"\n",
              "       width=\"24px\">\n",
              "    <path d=\"M0 0h24v24H0V0z\" fill=\"none\"/>\n",
              "    <path d=\"M18.56 5.44l.94 2.06.94-2.06 2.06-.94-2.06-.94-.94-2.06-.94 2.06-2.06.94zm-11 1L8.5 8.5l.94-2.06 2.06-.94-2.06-.94L8.5 2.5l-.94 2.06-2.06.94zm10 10l.94 2.06.94-2.06 2.06-.94-2.06-.94-.94-2.06-.94 2.06-2.06.94z\"/><path d=\"M17.41 7.96l-1.37-1.37c-.4-.4-.92-.59-1.43-.59-.52 0-1.04.2-1.43.59L10.3 9.45l-7.72 7.72c-.78.78-.78 2.05 0 2.83L4 21.41c.39.39.9.59 1.41.59.51 0 1.02-.2 1.41-.59l7.78-7.78 2.81-2.81c.8-.78.8-2.07 0-2.86zM5.41 20L4 18.59l7.72-7.72 1.47 1.35L5.41 20z\"/>\n",
              "  </svg>\n",
              "      </button>\n",
              "      \n",
              "  <style>\n",
              "    .colab-df-container {\n",
              "      display:flex;\n",
              "      flex-wrap:wrap;\n",
              "      gap: 12px;\n",
              "    }\n",
              "\n",
              "    .colab-df-convert {\n",
              "      background-color: #E8F0FE;\n",
              "      border: none;\n",
              "      border-radius: 50%;\n",
              "      cursor: pointer;\n",
              "      display: none;\n",
              "      fill: #1967D2;\n",
              "      height: 32px;\n",
              "      padding: 0 0 0 0;\n",
              "      width: 32px;\n",
              "    }\n",
              "\n",
              "    .colab-df-convert:hover {\n",
              "      background-color: #E2EBFA;\n",
              "      box-shadow: 0px 1px 2px rgba(60, 64, 67, 0.3), 0px 1px 3px 1px rgba(60, 64, 67, 0.15);\n",
              "      fill: #174EA6;\n",
              "    }\n",
              "\n",
              "    [theme=dark] .colab-df-convert {\n",
              "      background-color: #3B4455;\n",
              "      fill: #D2E3FC;\n",
              "    }\n",
              "\n",
              "    [theme=dark] .colab-df-convert:hover {\n",
              "      background-color: #434B5C;\n",
              "      box-shadow: 0px 1px 3px 1px rgba(0, 0, 0, 0.15);\n",
              "      filter: drop-shadow(0px 1px 2px rgba(0, 0, 0, 0.3));\n",
              "      fill: #FFFFFF;\n",
              "    }\n",
              "  </style>\n",
              "\n",
              "      <script>\n",
              "        const buttonEl =\n",
              "          document.querySelector('#df-98b19e5a-7a9f-4d16-839d-4514edddcf5b button.colab-df-convert');\n",
              "        buttonEl.style.display =\n",
              "          google.colab.kernel.accessAllowed ? 'block' : 'none';\n",
              "\n",
              "        async function convertToInteractive(key) {\n",
              "          const element = document.querySelector('#df-98b19e5a-7a9f-4d16-839d-4514edddcf5b');\n",
              "          const dataTable =\n",
              "            await google.colab.kernel.invokeFunction('convertToInteractive',\n",
              "                                                     [key], {});\n",
              "          if (!dataTable) return;\n",
              "\n",
              "          const docLinkHtml = 'Like what you see? Visit the ' +\n",
              "            '<a target=\"_blank\" href=https://colab.research.google.com/notebooks/data_table.ipynb>data table notebook</a>'\n",
              "            + ' to learn more about interactive tables.';\n",
              "          element.innerHTML = '';\n",
              "          dataTable['output_type'] = 'display_data';\n",
              "          await google.colab.output.renderOutput(dataTable, element);\n",
              "          const docLink = document.createElement('div');\n",
              "          docLink.innerHTML = docLinkHtml;\n",
              "          element.appendChild(docLink);\n",
              "        }\n",
              "      </script>\n",
              "    </div>\n",
              "  </div>\n",
              "  "
            ]
          },
          "metadata": {},
          "execution_count": 34
        }
      ],
      "source": [
        "gaussian_classifier = [accuracy6, f1_score6, precision6, recall6]\n",
        "final_matrix[\"Gaussian Classifier\"] = gaussian_classifier\n",
        "final_matrix"
      ]
    },
    {
      "cell_type": "code",
      "execution_count": null,
      "metadata": {
        "colab": {
          "base_uri": "https://localhost:8080/"
        },
        "id": "L5cgAKDIwsMH",
        "outputId": "ca2dacbb-ce50-4660-a35a-6e06b83517b5"
      },
      "outputs": [
        {
          "output_type": "stream",
          "name": "stdout",
          "text": [
            "Classifier trained in 1.034 seconds.\n"
          ]
        }
      ],
      "source": [
        "#Decision Tree Classifier\n",
        "from sklearn.tree import DecisionTreeClassifier\n",
        "\n",
        "#Training a classifier\n",
        "clf7 = DecisionTreeClassifier(random_state=0)\n",
        "t0 = time()\n",
        "clf7.fit(features, labels)\n",
        "tt = time() - t0\n",
        "print (\"Classifier trained in {} seconds.\".format(round(tt, 3)))"
      ]
    },
    {
      "cell_type": "code",
      "execution_count": null,
      "metadata": {
        "colab": {
          "base_uri": "https://localhost:8080/"
        },
        "id": "WNFixg2uw8fR",
        "outputId": "c61ad335-1cb1-491d-b13d-fe14ec807a97"
      },
      "outputs": [
        {
          "output_type": "stream",
          "name": "stdout",
          "text": [
            "Predicted in 0.003 seconds\n"
          ]
        },
        {
          "output_type": "stream",
          "name": "stderr",
          "text": [
            "/usr/local/lib/python3.7/dist-packages/sklearn/base.py:444: UserWarning: X has feature names, but DecisionTreeClassifier was fitted without feature names\n",
            "  f\"X has feature names, but {self.__class__.__name__} was fitted without\"\n"
          ]
        }
      ],
      "source": [
        "#Predictions on the test data\n",
        "clf7.fit(features, labels)\n",
        "t0 = time()\n",
        "pred = clf7.predict(features_test)\n",
        "tt = time() - t0\n",
        "print (\"Predicted in {} seconds\".format(round(tt,3)))"
      ]
    },
    {
      "cell_type": "code",
      "execution_count": null,
      "metadata": {
        "colab": {
          "base_uri": "https://localhost:8080/"
        },
        "id": "leZcercOxBj7",
        "outputId": "0b42f0da-96c5-4b69-edef-6bc401014080"
      },
      "outputs": [
        {
          "output_type": "stream",
          "name": "stdout",
          "text": [
            "Accuracy is 0.5992.\n",
            "F1 Score is 0.553.\n",
            "Precision is 0.6111.\n",
            "Recall is 0.5992.\n"
          ]
        }
      ],
      "source": [
        "#Calculating out the accuracy\n",
        "accuracy7 = accuracy_score(pred, labels_test)\n",
        "f1_score7 = f1_score(pred, labels_test,average='weighted')\n",
        "precision7 = precision_score(pred, labels_test, average='weighted')\n",
        "recall7 = recall_score(pred, labels_test, average='weighted')\n",
        "print (\"Accuracy is {}.\".format(round(accuracy7,4)))\n",
        "print (\"F1 Score is {}.\".format(round(f1_score7,4)))\n",
        "print (\"Precision is {}.\".format(round(precision7,4)))\n",
        "print (\"Recall is {}.\".format(round(recall7,4)))"
      ]
    },
    {
      "cell_type": "code",
      "execution_count": null,
      "metadata": {
        "colab": {
          "base_uri": "https://localhost:8080/",
          "height": 174
        },
        "id": "dHgQq1RbxIsX",
        "outputId": "69ec0c92-c47e-4483-b9f6-dd4ede746e72"
      },
      "outputs": [
        {
          "output_type": "execute_result",
          "data": {
            "text/plain": [
              "           KNN Classifier  SVC Classifier  Logistic Classifier  \\\n",
              "Accuracy         0.540928        0.538397             0.543460   \n",
              "F1_Score         0.491422        0.487719             0.493229   \n",
              "Precision        0.631242        0.608534             0.615102   \n",
              "Recall           0.540928        0.538397             0.543460   \n",
              "\n",
              "           MLP Classifier  SGD Classifier  Gaussian Classifier  \\\n",
              "Accuracy         0.568776        0.521519             0.624473   \n",
              "F1_Score         0.520270        0.470686             0.582197   \n",
              "Precision        0.631722        0.610168             0.614586   \n",
              "Recall           0.568776        0.521519             0.624473   \n",
              "\n",
              "           Decision Tree Classifier  \n",
              "Accuracy                   0.599156  \n",
              "F1_Score                   0.552960  \n",
              "Precision                  0.611101  \n",
              "Recall                     0.599156  "
            ],
            "text/html": [
              "\n",
              "  <div id=\"df-7ebebf29-f086-41a5-9526-0aa0eee7857a\">\n",
              "    <div class=\"colab-df-container\">\n",
              "      <div>\n",
              "<style scoped>\n",
              "    .dataframe tbody tr th:only-of-type {\n",
              "        vertical-align: middle;\n",
              "    }\n",
              "\n",
              "    .dataframe tbody tr th {\n",
              "        vertical-align: top;\n",
              "    }\n",
              "\n",
              "    .dataframe thead th {\n",
              "        text-align: right;\n",
              "    }\n",
              "</style>\n",
              "<table border=\"1\" class=\"dataframe\">\n",
              "  <thead>\n",
              "    <tr style=\"text-align: right;\">\n",
              "      <th></th>\n",
              "      <th>KNN Classifier</th>\n",
              "      <th>SVC Classifier</th>\n",
              "      <th>Logistic Classifier</th>\n",
              "      <th>MLP Classifier</th>\n",
              "      <th>SGD Classifier</th>\n",
              "      <th>Gaussian Classifier</th>\n",
              "      <th>Decision Tree Classifier</th>\n",
              "    </tr>\n",
              "  </thead>\n",
              "  <tbody>\n",
              "    <tr>\n",
              "      <th>Accuracy</th>\n",
              "      <td>0.540928</td>\n",
              "      <td>0.538397</td>\n",
              "      <td>0.543460</td>\n",
              "      <td>0.568776</td>\n",
              "      <td>0.521519</td>\n",
              "      <td>0.624473</td>\n",
              "      <td>0.599156</td>\n",
              "    </tr>\n",
              "    <tr>\n",
              "      <th>F1_Score</th>\n",
              "      <td>0.491422</td>\n",
              "      <td>0.487719</td>\n",
              "      <td>0.493229</td>\n",
              "      <td>0.520270</td>\n",
              "      <td>0.470686</td>\n",
              "      <td>0.582197</td>\n",
              "      <td>0.552960</td>\n",
              "    </tr>\n",
              "    <tr>\n",
              "      <th>Precision</th>\n",
              "      <td>0.631242</td>\n",
              "      <td>0.608534</td>\n",
              "      <td>0.615102</td>\n",
              "      <td>0.631722</td>\n",
              "      <td>0.610168</td>\n",
              "      <td>0.614586</td>\n",
              "      <td>0.611101</td>\n",
              "    </tr>\n",
              "    <tr>\n",
              "      <th>Recall</th>\n",
              "      <td>0.540928</td>\n",
              "      <td>0.538397</td>\n",
              "      <td>0.543460</td>\n",
              "      <td>0.568776</td>\n",
              "      <td>0.521519</td>\n",
              "      <td>0.624473</td>\n",
              "      <td>0.599156</td>\n",
              "    </tr>\n",
              "  </tbody>\n",
              "</table>\n",
              "</div>\n",
              "      <button class=\"colab-df-convert\" onclick=\"convertToInteractive('df-7ebebf29-f086-41a5-9526-0aa0eee7857a')\"\n",
              "              title=\"Convert this dataframe to an interactive table.\"\n",
              "              style=\"display:none;\">\n",
              "        \n",
              "  <svg xmlns=\"http://www.w3.org/2000/svg\" height=\"24px\"viewBox=\"0 0 24 24\"\n",
              "       width=\"24px\">\n",
              "    <path d=\"M0 0h24v24H0V0z\" fill=\"none\"/>\n",
              "    <path d=\"M18.56 5.44l.94 2.06.94-2.06 2.06-.94-2.06-.94-.94-2.06-.94 2.06-2.06.94zm-11 1L8.5 8.5l.94-2.06 2.06-.94-2.06-.94L8.5 2.5l-.94 2.06-2.06.94zm10 10l.94 2.06.94-2.06 2.06-.94-2.06-.94-.94-2.06-.94 2.06-2.06.94z\"/><path d=\"M17.41 7.96l-1.37-1.37c-.4-.4-.92-.59-1.43-.59-.52 0-1.04.2-1.43.59L10.3 9.45l-7.72 7.72c-.78.78-.78 2.05 0 2.83L4 21.41c.39.39.9.59 1.41.59.51 0 1.02-.2 1.41-.59l7.78-7.78 2.81-2.81c.8-.78.8-2.07 0-2.86zM5.41 20L4 18.59l7.72-7.72 1.47 1.35L5.41 20z\"/>\n",
              "  </svg>\n",
              "      </button>\n",
              "      \n",
              "  <style>\n",
              "    .colab-df-container {\n",
              "      display:flex;\n",
              "      flex-wrap:wrap;\n",
              "      gap: 12px;\n",
              "    }\n",
              "\n",
              "    .colab-df-convert {\n",
              "      background-color: #E8F0FE;\n",
              "      border: none;\n",
              "      border-radius: 50%;\n",
              "      cursor: pointer;\n",
              "      display: none;\n",
              "      fill: #1967D2;\n",
              "      height: 32px;\n",
              "      padding: 0 0 0 0;\n",
              "      width: 32px;\n",
              "    }\n",
              "\n",
              "    .colab-df-convert:hover {\n",
              "      background-color: #E2EBFA;\n",
              "      box-shadow: 0px 1px 2px rgba(60, 64, 67, 0.3), 0px 1px 3px 1px rgba(60, 64, 67, 0.15);\n",
              "      fill: #174EA6;\n",
              "    }\n",
              "\n",
              "    [theme=dark] .colab-df-convert {\n",
              "      background-color: #3B4455;\n",
              "      fill: #D2E3FC;\n",
              "    }\n",
              "\n",
              "    [theme=dark] .colab-df-convert:hover {\n",
              "      background-color: #434B5C;\n",
              "      box-shadow: 0px 1px 3px 1px rgba(0, 0, 0, 0.15);\n",
              "      filter: drop-shadow(0px 1px 2px rgba(0, 0, 0, 0.3));\n",
              "      fill: #FFFFFF;\n",
              "    }\n",
              "  </style>\n",
              "\n",
              "      <script>\n",
              "        const buttonEl =\n",
              "          document.querySelector('#df-7ebebf29-f086-41a5-9526-0aa0eee7857a button.colab-df-convert');\n",
              "        buttonEl.style.display =\n",
              "          google.colab.kernel.accessAllowed ? 'block' : 'none';\n",
              "\n",
              "        async function convertToInteractive(key) {\n",
              "          const element = document.querySelector('#df-7ebebf29-f086-41a5-9526-0aa0eee7857a');\n",
              "          const dataTable =\n",
              "            await google.colab.kernel.invokeFunction('convertToInteractive',\n",
              "                                                     [key], {});\n",
              "          if (!dataTable) return;\n",
              "\n",
              "          const docLinkHtml = 'Like what you see? Visit the ' +\n",
              "            '<a target=\"_blank\" href=https://colab.research.google.com/notebooks/data_table.ipynb>data table notebook</a>'\n",
              "            + ' to learn more about interactive tables.';\n",
              "          element.innerHTML = '';\n",
              "          dataTable['output_type'] = 'display_data';\n",
              "          await google.colab.output.renderOutput(dataTable, element);\n",
              "          const docLink = document.createElement('div');\n",
              "          docLink.innerHTML = docLinkHtml;\n",
              "          element.appendChild(docLink);\n",
              "        }\n",
              "      </script>\n",
              "    </div>\n",
              "  </div>\n",
              "  "
            ]
          },
          "metadata": {},
          "execution_count": 38
        }
      ],
      "source": [
        "decision_classifier = [accuracy7, f1_score7, precision7, recall7]\n",
        "final_matrix[\"Decision Tree Classifier\"] = decision_classifier\n",
        "final_matrix"
      ]
    },
    {
      "cell_type": "code",
      "execution_count": null,
      "metadata": {
        "colab": {
          "base_uri": "https://localhost:8080/"
        },
        "id": "Z9k8PkprxabI",
        "outputId": "911b1693-2db6-4304-8d6b-3677403640d4"
      },
      "outputs": [
        {
          "output_type": "stream",
          "name": "stdout",
          "text": [
            "Classifier trained in 11.804 seconds.\n"
          ]
        }
      ],
      "source": [
        "#AdaBoost Classifier\n",
        "from sklearn.ensemble import AdaBoostClassifier\n",
        "\n",
        "#Training a classifier\n",
        "clf8 = AdaBoostClassifier()\n",
        "t0 = time()\n",
        "clf8.fit(features, labels)\n",
        "tt = time() - t0\n",
        "print (\"Classifier trained in {} seconds.\".format(round(tt, 3)))"
      ]
    },
    {
      "cell_type": "code",
      "execution_count": null,
      "metadata": {
        "colab": {
          "base_uri": "https://localhost:8080/"
        },
        "id": "jp_8s4rvxjBg",
        "outputId": "4f8c6f3d-a281-43b9-ab14-c0186666b42e"
      },
      "outputs": [
        {
          "output_type": "stream",
          "name": "stdout",
          "text": [
            "Predicted in 0.016 seconds\n"
          ]
        },
        {
          "output_type": "stream",
          "name": "stderr",
          "text": [
            "/usr/local/lib/python3.7/dist-packages/sklearn/base.py:444: UserWarning: X has feature names, but AdaBoostClassifier was fitted without feature names\n",
            "  f\"X has feature names, but {self.__class__.__name__} was fitted without\"\n"
          ]
        }
      ],
      "source": [
        "#Predictions on the test data\n",
        "clf8.fit(features, labels)\n",
        "t0 = time()\n",
        "pred = clf8.predict(features_test)\n",
        "tt = time() - t0\n",
        "print (\"Predicted in {} seconds\".format(round(tt,3)))"
      ]
    },
    {
      "cell_type": "code",
      "execution_count": null,
      "metadata": {
        "colab": {
          "base_uri": "https://localhost:8080/"
        },
        "id": "BL6aQOB7xrKB",
        "outputId": "c7d004f6-f00b-4cb5-f377-426a7ef21fd2"
      },
      "outputs": [
        {
          "output_type": "stream",
          "name": "stdout",
          "text": [
            "Accuracy is 0.5738.\n",
            "F1 Score is 0.5251.\n",
            "Precision is 0.6111.\n",
            "Recall is 0.5738.\n"
          ]
        }
      ],
      "source": [
        "#Calculating out the accuracy\n",
        "accuracy8 = accuracy_score(pred, labels_test)\n",
        "f1_score8 = f1_score(pred, labels_test,average='weighted')\n",
        "precision8 = precision_score(pred, labels_test, average='weighted')\n",
        "recall8 = recall_score(pred, labels_test, average='weighted')\n",
        "print (\"Accuracy is {}.\".format(round(accuracy8,4)))\n",
        "print (\"F1 Score is {}.\".format(round(f1_score8,4)))\n",
        "print (\"Precision is {}.\".format(round(precision8,4)))\n",
        "print (\"Recall is {}.\".format(round(recall8,4)))"
      ]
    },
    {
      "cell_type": "code",
      "execution_count": null,
      "metadata": {
        "colab": {
          "base_uri": "https://localhost:8080/",
          "height": 174
        },
        "id": "_F56t7Uzxwux",
        "outputId": "fb5ccd50-a9b0-4654-bc79-224a22fbf9a1"
      },
      "outputs": [
        {
          "output_type": "execute_result",
          "data": {
            "text/plain": [
              "           KNN Classifier  SVC Classifier  Logistic Classifier  \\\n",
              "Accuracy         0.540928        0.538397             0.543460   \n",
              "F1_Score         0.491422        0.487719             0.493229   \n",
              "Precision        0.631242        0.608534             0.615102   \n",
              "Recall           0.540928        0.538397             0.543460   \n",
              "\n",
              "           MLP Classifier  SGD Classifier  Gaussian Classifier  \\\n",
              "Accuracy         0.568776        0.521519             0.624473   \n",
              "F1_Score         0.520270        0.470686             0.582197   \n",
              "Precision        0.631722        0.610168             0.614586   \n",
              "Recall           0.568776        0.521519             0.624473   \n",
              "\n",
              "           Decision Tree Classifier  AdaBoost Classifier  \n",
              "Accuracy                   0.599156             0.573840  \n",
              "F1_Score                   0.552960             0.525082  \n",
              "Precision                  0.611101             0.611076  \n",
              "Recall                     0.599156             0.573840  "
            ],
            "text/html": [
              "\n",
              "  <div id=\"df-ac555176-02b1-485e-9f58-d7ae85432900\">\n",
              "    <div class=\"colab-df-container\">\n",
              "      <div>\n",
              "<style scoped>\n",
              "    .dataframe tbody tr th:only-of-type {\n",
              "        vertical-align: middle;\n",
              "    }\n",
              "\n",
              "    .dataframe tbody tr th {\n",
              "        vertical-align: top;\n",
              "    }\n",
              "\n",
              "    .dataframe thead th {\n",
              "        text-align: right;\n",
              "    }\n",
              "</style>\n",
              "<table border=\"1\" class=\"dataframe\">\n",
              "  <thead>\n",
              "    <tr style=\"text-align: right;\">\n",
              "      <th></th>\n",
              "      <th>KNN Classifier</th>\n",
              "      <th>SVC Classifier</th>\n",
              "      <th>Logistic Classifier</th>\n",
              "      <th>MLP Classifier</th>\n",
              "      <th>SGD Classifier</th>\n",
              "      <th>Gaussian Classifier</th>\n",
              "      <th>Decision Tree Classifier</th>\n",
              "      <th>AdaBoost Classifier</th>\n",
              "    </tr>\n",
              "  </thead>\n",
              "  <tbody>\n",
              "    <tr>\n",
              "      <th>Accuracy</th>\n",
              "      <td>0.540928</td>\n",
              "      <td>0.538397</td>\n",
              "      <td>0.543460</td>\n",
              "      <td>0.568776</td>\n",
              "      <td>0.521519</td>\n",
              "      <td>0.624473</td>\n",
              "      <td>0.599156</td>\n",
              "      <td>0.573840</td>\n",
              "    </tr>\n",
              "    <tr>\n",
              "      <th>F1_Score</th>\n",
              "      <td>0.491422</td>\n",
              "      <td>0.487719</td>\n",
              "      <td>0.493229</td>\n",
              "      <td>0.520270</td>\n",
              "      <td>0.470686</td>\n",
              "      <td>0.582197</td>\n",
              "      <td>0.552960</td>\n",
              "      <td>0.525082</td>\n",
              "    </tr>\n",
              "    <tr>\n",
              "      <th>Precision</th>\n",
              "      <td>0.631242</td>\n",
              "      <td>0.608534</td>\n",
              "      <td>0.615102</td>\n",
              "      <td>0.631722</td>\n",
              "      <td>0.610168</td>\n",
              "      <td>0.614586</td>\n",
              "      <td>0.611101</td>\n",
              "      <td>0.611076</td>\n",
              "    </tr>\n",
              "    <tr>\n",
              "      <th>Recall</th>\n",
              "      <td>0.540928</td>\n",
              "      <td>0.538397</td>\n",
              "      <td>0.543460</td>\n",
              "      <td>0.568776</td>\n",
              "      <td>0.521519</td>\n",
              "      <td>0.624473</td>\n",
              "      <td>0.599156</td>\n",
              "      <td>0.573840</td>\n",
              "    </tr>\n",
              "  </tbody>\n",
              "</table>\n",
              "</div>\n",
              "      <button class=\"colab-df-convert\" onclick=\"convertToInteractive('df-ac555176-02b1-485e-9f58-d7ae85432900')\"\n",
              "              title=\"Convert this dataframe to an interactive table.\"\n",
              "              style=\"display:none;\">\n",
              "        \n",
              "  <svg xmlns=\"http://www.w3.org/2000/svg\" height=\"24px\"viewBox=\"0 0 24 24\"\n",
              "       width=\"24px\">\n",
              "    <path d=\"M0 0h24v24H0V0z\" fill=\"none\"/>\n",
              "    <path d=\"M18.56 5.44l.94 2.06.94-2.06 2.06-.94-2.06-.94-.94-2.06-.94 2.06-2.06.94zm-11 1L8.5 8.5l.94-2.06 2.06-.94-2.06-.94L8.5 2.5l-.94 2.06-2.06.94zm10 10l.94 2.06.94-2.06 2.06-.94-2.06-.94-.94-2.06-.94 2.06-2.06.94z\"/><path d=\"M17.41 7.96l-1.37-1.37c-.4-.4-.92-.59-1.43-.59-.52 0-1.04.2-1.43.59L10.3 9.45l-7.72 7.72c-.78.78-.78 2.05 0 2.83L4 21.41c.39.39.9.59 1.41.59.51 0 1.02-.2 1.41-.59l7.78-7.78 2.81-2.81c.8-.78.8-2.07 0-2.86zM5.41 20L4 18.59l7.72-7.72 1.47 1.35L5.41 20z\"/>\n",
              "  </svg>\n",
              "      </button>\n",
              "      \n",
              "  <style>\n",
              "    .colab-df-container {\n",
              "      display:flex;\n",
              "      flex-wrap:wrap;\n",
              "      gap: 12px;\n",
              "    }\n",
              "\n",
              "    .colab-df-convert {\n",
              "      background-color: #E8F0FE;\n",
              "      border: none;\n",
              "      border-radius: 50%;\n",
              "      cursor: pointer;\n",
              "      display: none;\n",
              "      fill: #1967D2;\n",
              "      height: 32px;\n",
              "      padding: 0 0 0 0;\n",
              "      width: 32px;\n",
              "    }\n",
              "\n",
              "    .colab-df-convert:hover {\n",
              "      background-color: #E2EBFA;\n",
              "      box-shadow: 0px 1px 2px rgba(60, 64, 67, 0.3), 0px 1px 3px 1px rgba(60, 64, 67, 0.15);\n",
              "      fill: #174EA6;\n",
              "    }\n",
              "\n",
              "    [theme=dark] .colab-df-convert {\n",
              "      background-color: #3B4455;\n",
              "      fill: #D2E3FC;\n",
              "    }\n",
              "\n",
              "    [theme=dark] .colab-df-convert:hover {\n",
              "      background-color: #434B5C;\n",
              "      box-shadow: 0px 1px 3px 1px rgba(0, 0, 0, 0.15);\n",
              "      filter: drop-shadow(0px 1px 2px rgba(0, 0, 0, 0.3));\n",
              "      fill: #FFFFFF;\n",
              "    }\n",
              "  </style>\n",
              "\n",
              "      <script>\n",
              "        const buttonEl =\n",
              "          document.querySelector('#df-ac555176-02b1-485e-9f58-d7ae85432900 button.colab-df-convert');\n",
              "        buttonEl.style.display =\n",
              "          google.colab.kernel.accessAllowed ? 'block' : 'none';\n",
              "\n",
              "        async function convertToInteractive(key) {\n",
              "          const element = document.querySelector('#df-ac555176-02b1-485e-9f58-d7ae85432900');\n",
              "          const dataTable =\n",
              "            await google.colab.kernel.invokeFunction('convertToInteractive',\n",
              "                                                     [key], {});\n",
              "          if (!dataTable) return;\n",
              "\n",
              "          const docLinkHtml = 'Like what you see? Visit the ' +\n",
              "            '<a target=\"_blank\" href=https://colab.research.google.com/notebooks/data_table.ipynb>data table notebook</a>'\n",
              "            + ' to learn more about interactive tables.';\n",
              "          element.innerHTML = '';\n",
              "          dataTable['output_type'] = 'display_data';\n",
              "          await google.colab.output.renderOutput(dataTable, element);\n",
              "          const docLink = document.createElement('div');\n",
              "          docLink.innerHTML = docLinkHtml;\n",
              "          element.appendChild(docLink);\n",
              "        }\n",
              "      </script>\n",
              "    </div>\n",
              "  </div>\n",
              "  "
            ]
          },
          "metadata": {},
          "execution_count": 42
        }
      ],
      "source": [
        "adaboost_classifier = [accuracy8, f1_score8, precision8, recall8]\n",
        "final_matrix[\"AdaBoost Classifier\"] = adaboost_classifier\n",
        "final_matrix"
      ]
    },
    {
      "cell_type": "code",
      "execution_count": null,
      "metadata": {
        "colab": {
          "base_uri": "https://localhost:8080/"
        },
        "id": "E7M2HfRDysMC",
        "outputId": "a0885187-dad1-4460-fc69-35ce06b95e46"
      },
      "outputs": [
        {
          "output_type": "stream",
          "name": "stdout",
          "text": [
            "Classifier trained in 10.21 seconds.\n"
          ]
        }
      ],
      "source": [
        "#Random Forest Classifier\n",
        "from sklearn.ensemble import RandomForestClassifier\n",
        "\n",
        "clf9 = RandomForestClassifier(random_state = 0)\n",
        "t0 = time()\n",
        "clf9.fit(features, labels)\n",
        "tt = time() - t0\n",
        "print (\"Classifier trained in {} seconds.\".format(round(tt, 3)))"
      ]
    },
    {
      "cell_type": "code",
      "execution_count": null,
      "metadata": {
        "colab": {
          "base_uri": "https://localhost:8080/"
        },
        "id": "_r1MJnuJy6CX",
        "outputId": "6576746f-b833-4e05-abc1-b345f6429236"
      },
      "outputs": [
        {
          "output_type": "stream",
          "name": "stdout",
          "text": [
            "Predicted in 0.027 seconds\n"
          ]
        },
        {
          "output_type": "stream",
          "name": "stderr",
          "text": [
            "/usr/local/lib/python3.7/dist-packages/sklearn/base.py:444: UserWarning: X has feature names, but RandomForestClassifier was fitted without feature names\n",
            "  f\"X has feature names, but {self.__class__.__name__} was fitted without\"\n"
          ]
        }
      ],
      "source": [
        "#Predictions on the test data\n",
        "clf9.fit(features, labels)\n",
        "t0 = time()\n",
        "pred = clf9.predict(features_test)\n",
        "tt = time() - t0\n",
        "print (\"Predicted in {} seconds\".format(round(tt,3)))"
      ]
    },
    {
      "cell_type": "code",
      "execution_count": null,
      "metadata": {
        "colab": {
          "base_uri": "https://localhost:8080/"
        },
        "id": "RnuE9HCvzAWn",
        "outputId": "fc116eb9-f693-4966-daba-d051a3764019"
      },
      "outputs": [
        {
          "output_type": "stream",
          "name": "stdout",
          "text": [
            "Accuracy is 0.5165.\n",
            "F1 Score is 0.4647.\n",
            "Precision is 0.5935.\n",
            "Recall is 0.5165.\n"
          ]
        }
      ],
      "source": [
        "#Calculating out the accuracy\n",
        "accuracy9 = accuracy_score(pred, labels_test)\n",
        "f1_score9 = f1_score(pred, labels_test,average='weighted')\n",
        "precision9 = precision_score(pred, labels_test, average='weighted')\n",
        "recall9 = recall_score(pred, labels_test, average='weighted')\n",
        "print (\"Accuracy is {}.\".format(round(accuracy9,4)))\n",
        "print (\"F1 Score is {}.\".format(round(f1_score9,4)))\n",
        "print (\"Precision is {}.\".format(round(precision9,4)))\n",
        "print (\"Recall is {}.\".format(round(recall9,4)))"
      ]
    },
    {
      "cell_type": "code",
      "execution_count": null,
      "metadata": {
        "id": "0PQBf3UHzGZn",
        "colab": {
          "base_uri": "https://localhost:8080/",
          "height": 236
        },
        "outputId": "e3d4feb5-87cd-42c1-f9c8-54ddbbd145e8"
      },
      "outputs": [
        {
          "output_type": "execute_result",
          "data": {
            "text/plain": [
              "           KNN Classifier  SVC Classifier  Logistic Classifier  \\\n",
              "Accuracy         0.540928        0.538397             0.543460   \n",
              "F1_Score         0.491422        0.487719             0.493229   \n",
              "Precision        0.631242        0.608534             0.615102   \n",
              "Recall           0.540928        0.538397             0.543460   \n",
              "\n",
              "           MLP Classifier  SGD Classifier  Gaussian Classifier  \\\n",
              "Accuracy         0.568776        0.521519             0.624473   \n",
              "F1_Score         0.520270        0.470686             0.582197   \n",
              "Precision        0.631722        0.610168             0.614586   \n",
              "Recall           0.568776        0.521519             0.624473   \n",
              "\n",
              "           Decision Tree Classifier  AdaBoost Classifier  \\\n",
              "Accuracy                   0.599156             0.573840   \n",
              "F1_Score                   0.552960             0.525082   \n",
              "Precision                  0.611101             0.611076   \n",
              "Recall                     0.599156             0.573840   \n",
              "\n",
              "           Random Forest Classifier  \n",
              "Accuracy                   0.516456  \n",
              "F1_Score                   0.464653  \n",
              "Precision                  0.593523  \n",
              "Recall                     0.516456  "
            ],
            "text/html": [
              "\n",
              "  <div id=\"df-fcc03cf3-1163-44d1-a5e3-0dce1e3279fd\">\n",
              "    <div class=\"colab-df-container\">\n",
              "      <div>\n",
              "<style scoped>\n",
              "    .dataframe tbody tr th:only-of-type {\n",
              "        vertical-align: middle;\n",
              "    }\n",
              "\n",
              "    .dataframe tbody tr th {\n",
              "        vertical-align: top;\n",
              "    }\n",
              "\n",
              "    .dataframe thead th {\n",
              "        text-align: right;\n",
              "    }\n",
              "</style>\n",
              "<table border=\"1\" class=\"dataframe\">\n",
              "  <thead>\n",
              "    <tr style=\"text-align: right;\">\n",
              "      <th></th>\n",
              "      <th>KNN Classifier</th>\n",
              "      <th>SVC Classifier</th>\n",
              "      <th>Logistic Classifier</th>\n",
              "      <th>MLP Classifier</th>\n",
              "      <th>SGD Classifier</th>\n",
              "      <th>Gaussian Classifier</th>\n",
              "      <th>Decision Tree Classifier</th>\n",
              "      <th>AdaBoost Classifier</th>\n",
              "      <th>Random Forest Classifier</th>\n",
              "    </tr>\n",
              "  </thead>\n",
              "  <tbody>\n",
              "    <tr>\n",
              "      <th>Accuracy</th>\n",
              "      <td>0.540928</td>\n",
              "      <td>0.538397</td>\n",
              "      <td>0.543460</td>\n",
              "      <td>0.568776</td>\n",
              "      <td>0.521519</td>\n",
              "      <td>0.624473</td>\n",
              "      <td>0.599156</td>\n",
              "      <td>0.573840</td>\n",
              "      <td>0.516456</td>\n",
              "    </tr>\n",
              "    <tr>\n",
              "      <th>F1_Score</th>\n",
              "      <td>0.491422</td>\n",
              "      <td>0.487719</td>\n",
              "      <td>0.493229</td>\n",
              "      <td>0.520270</td>\n",
              "      <td>0.470686</td>\n",
              "      <td>0.582197</td>\n",
              "      <td>0.552960</td>\n",
              "      <td>0.525082</td>\n",
              "      <td>0.464653</td>\n",
              "    </tr>\n",
              "    <tr>\n",
              "      <th>Precision</th>\n",
              "      <td>0.631242</td>\n",
              "      <td>0.608534</td>\n",
              "      <td>0.615102</td>\n",
              "      <td>0.631722</td>\n",
              "      <td>0.610168</td>\n",
              "      <td>0.614586</td>\n",
              "      <td>0.611101</td>\n",
              "      <td>0.611076</td>\n",
              "      <td>0.593523</td>\n",
              "    </tr>\n",
              "    <tr>\n",
              "      <th>Recall</th>\n",
              "      <td>0.540928</td>\n",
              "      <td>0.538397</td>\n",
              "      <td>0.543460</td>\n",
              "      <td>0.568776</td>\n",
              "      <td>0.521519</td>\n",
              "      <td>0.624473</td>\n",
              "      <td>0.599156</td>\n",
              "      <td>0.573840</td>\n",
              "      <td>0.516456</td>\n",
              "    </tr>\n",
              "  </tbody>\n",
              "</table>\n",
              "</div>\n",
              "      <button class=\"colab-df-convert\" onclick=\"convertToInteractive('df-fcc03cf3-1163-44d1-a5e3-0dce1e3279fd')\"\n",
              "              title=\"Convert this dataframe to an interactive table.\"\n",
              "              style=\"display:none;\">\n",
              "        \n",
              "  <svg xmlns=\"http://www.w3.org/2000/svg\" height=\"24px\"viewBox=\"0 0 24 24\"\n",
              "       width=\"24px\">\n",
              "    <path d=\"M0 0h24v24H0V0z\" fill=\"none\"/>\n",
              "    <path d=\"M18.56 5.44l.94 2.06.94-2.06 2.06-.94-2.06-.94-.94-2.06-.94 2.06-2.06.94zm-11 1L8.5 8.5l.94-2.06 2.06-.94-2.06-.94L8.5 2.5l-.94 2.06-2.06.94zm10 10l.94 2.06.94-2.06 2.06-.94-2.06-.94-.94-2.06-.94 2.06-2.06.94z\"/><path d=\"M17.41 7.96l-1.37-1.37c-.4-.4-.92-.59-1.43-.59-.52 0-1.04.2-1.43.59L10.3 9.45l-7.72 7.72c-.78.78-.78 2.05 0 2.83L4 21.41c.39.39.9.59 1.41.59.51 0 1.02-.2 1.41-.59l7.78-7.78 2.81-2.81c.8-.78.8-2.07 0-2.86zM5.41 20L4 18.59l7.72-7.72 1.47 1.35L5.41 20z\"/>\n",
              "  </svg>\n",
              "      </button>\n",
              "      \n",
              "  <style>\n",
              "    .colab-df-container {\n",
              "      display:flex;\n",
              "      flex-wrap:wrap;\n",
              "      gap: 12px;\n",
              "    }\n",
              "\n",
              "    .colab-df-convert {\n",
              "      background-color: #E8F0FE;\n",
              "      border: none;\n",
              "      border-radius: 50%;\n",
              "      cursor: pointer;\n",
              "      display: none;\n",
              "      fill: #1967D2;\n",
              "      height: 32px;\n",
              "      padding: 0 0 0 0;\n",
              "      width: 32px;\n",
              "    }\n",
              "\n",
              "    .colab-df-convert:hover {\n",
              "      background-color: #E2EBFA;\n",
              "      box-shadow: 0px 1px 2px rgba(60, 64, 67, 0.3), 0px 1px 3px 1px rgba(60, 64, 67, 0.15);\n",
              "      fill: #174EA6;\n",
              "    }\n",
              "\n",
              "    [theme=dark] .colab-df-convert {\n",
              "      background-color: #3B4455;\n",
              "      fill: #D2E3FC;\n",
              "    }\n",
              "\n",
              "    [theme=dark] .colab-df-convert:hover {\n",
              "      background-color: #434B5C;\n",
              "      box-shadow: 0px 1px 3px 1px rgba(0, 0, 0, 0.15);\n",
              "      filter: drop-shadow(0px 1px 2px rgba(0, 0, 0, 0.3));\n",
              "      fill: #FFFFFF;\n",
              "    }\n",
              "  </style>\n",
              "\n",
              "      <script>\n",
              "        const buttonEl =\n",
              "          document.querySelector('#df-fcc03cf3-1163-44d1-a5e3-0dce1e3279fd button.colab-df-convert');\n",
              "        buttonEl.style.display =\n",
              "          google.colab.kernel.accessAllowed ? 'block' : 'none';\n",
              "\n",
              "        async function convertToInteractive(key) {\n",
              "          const element = document.querySelector('#df-fcc03cf3-1163-44d1-a5e3-0dce1e3279fd');\n",
              "          const dataTable =\n",
              "            await google.colab.kernel.invokeFunction('convertToInteractive',\n",
              "                                                     [key], {});\n",
              "          if (!dataTable) return;\n",
              "\n",
              "          const docLinkHtml = 'Like what you see? Visit the ' +\n",
              "            '<a target=\"_blank\" href=https://colab.research.google.com/notebooks/data_table.ipynb>data table notebook</a>'\n",
              "            + ' to learn more about interactive tables.';\n",
              "          element.innerHTML = '';\n",
              "          dataTable['output_type'] = 'display_data';\n",
              "          await google.colab.output.renderOutput(dataTable, element);\n",
              "          const docLink = document.createElement('div');\n",
              "          docLink.innerHTML = docLinkHtml;\n",
              "          element.appendChild(docLink);\n",
              "        }\n",
              "      </script>\n",
              "    </div>\n",
              "  </div>\n",
              "  "
            ]
          },
          "metadata": {},
          "execution_count": 46
        }
      ],
      "source": [
        "random_classifier = [accuracy9, f1_score9, precision9, recall9]\n",
        "final_matrix[\"Random Forest Classifier\"] = random_classifier\n",
        "final_matrix"
      ]
    },
    {
      "cell_type": "code",
      "source": [
        "from keras.preprocessing import sequence\n",
        "from keras.models import Sequential\n",
        "from keras.layers import Dense, Dropout, Activation, Lambda\n",
        "from keras.layers import Embedding\n",
        "from keras.layers import Convolution1D,MaxPooling1D, Flatten\n",
        "from sklearn.preprocessing import Normalizer\n",
        "import numpy as np\n",
        "\n",
        "\n",
        "X = features.copy()\n",
        "Y = labels.copy()\n",
        "T = features_test.copy()"
      ],
      "metadata": {
        "id": "-VtVx2It329u"
      },
      "execution_count": null,
      "outputs": []
    },
    {
      "cell_type": "code",
      "source": [
        "Y[Y!='normal'] = 1\n",
        "Y[Y=='normal'] = 0"
      ],
      "metadata": {
        "id": "Lcjbrv6bN35q"
      },
      "execution_count": null,
      "outputs": []
    },
    {
      "cell_type": "code",
      "source": [
        "Y"
      ],
      "metadata": {
        "colab": {
          "base_uri": "https://localhost:8080/"
        },
        "id": "eRBbVrLAPtTR",
        "outputId": "46deaeee-72e2-47be-d8da-cfb79f175f04"
      },
      "execution_count": null,
      "outputs": [
        {
          "output_type": "execute_result",
          "data": {
            "text/plain": [
              "0         0\n",
              "1         0\n",
              "2         1\n",
              "3         0\n",
              "4         0\n",
              "         ..\n",
              "125968    1\n",
              "125969    0\n",
              "125970    0\n",
              "125971    1\n",
              "125972    0\n",
              "Name: label, Length: 125973, dtype: object"
            ]
          },
          "metadata": {},
          "execution_count": 49
        }
      ]
    },
    {
      "cell_type": "code",
      "source": [
        "X=np.asarray(X).astype(np.int)\n",
        "Y=np.asarray(Y).astype(np.int)"
      ],
      "metadata": {
        "id": "t7fUDtklPcHi"
      },
      "execution_count": null,
      "outputs": []
    },
    {
      "cell_type": "code",
      "source": [
        "labels"
      ],
      "metadata": {
        "colab": {
          "base_uri": "https://localhost:8080/"
        },
        "id": "RNqbR6jXN8xL",
        "outputId": "41595c77-5694-42b9-bf42-cb2900ca2c5b"
      },
      "execution_count": null,
      "outputs": [
        {
          "output_type": "execute_result",
          "data": {
            "text/plain": [
              "0         normal\n",
              "1         normal\n",
              "2         attack\n",
              "3         normal\n",
              "4         normal\n",
              "           ...  \n",
              "125968    attack\n",
              "125969    normal\n",
              "125970    normal\n",
              "125971    attack\n",
              "125972    normal\n",
              "Name: label, Length: 125973, dtype: object"
            ]
          },
          "metadata": {},
          "execution_count": 51
        }
      ]
    },
    {
      "cell_type": "code",
      "source": [
        "cnn = Sequential()\n",
        "cnn.add(Convolution1D(64, 3, padding=\"same\",activation=\"relu\",input_shape=(38,1)))\n",
        "cnn.add(MaxPooling1D(pool_size=(2)))\n",
        "cnn.add(Flatten())\n",
        "cnn.add(Dense(128, activation=\"relu\"))\n",
        "cnn.add(Dropout(0.5))\n",
        "cnn.add(Dense(1, activation=\"sigmoid\"))\n",
        "print(cnn.summary())"
      ],
      "metadata": {
        "colab": {
          "base_uri": "https://localhost:8080/"
        },
        "id": "P_3-0t447NoR",
        "outputId": "bb725934-62a1-466b-d5ec-f1c7551be9c7"
      },
      "execution_count": null,
      "outputs": [
        {
          "output_type": "stream",
          "name": "stdout",
          "text": [
            "Model: \"sequential\"\n",
            "_________________________________________________________________\n",
            " Layer (type)                Output Shape              Param #   \n",
            "=================================================================\n",
            " conv1d (Conv1D)             (None, 38, 64)            256       \n",
            "                                                                 \n",
            " max_pooling1d (MaxPooling1D  (None, 19, 64)           0         \n",
            " )                                                               \n",
            "                                                                 \n",
            " flatten (Flatten)           (None, 1216)              0         \n",
            "                                                                 \n",
            " dense (Dense)               (None, 128)               155776    \n",
            "                                                                 \n",
            " dropout (Dropout)           (None, 128)               0         \n",
            "                                                                 \n",
            " dense_1 (Dense)             (None, 1)                 129       \n",
            "                                                                 \n",
            "=================================================================\n",
            "Total params: 156,161\n",
            "Trainable params: 156,161\n",
            "Non-trainable params: 0\n",
            "_________________________________________________________________\n",
            "None\n"
          ]
        }
      ]
    },
    {
      "cell_type": "code",
      "source": [
        "cnn.compile(loss=\"binary_crossentropy\", optimizer=\"adam\",metrics=['accuracy'])\n",
        "cnn.fit(X, Y, epochs=10)"
      ],
      "metadata": {
        "colab": {
          "base_uri": "https://localhost:8080/"
        },
        "id": "QcMwnIkkAEih",
        "outputId": "1ea506af-4d19-4695-df77-63b09580a250"
      },
      "execution_count": null,
      "outputs": [
        {
          "output_type": "stream",
          "name": "stdout",
          "text": [
            "Epoch 1/10\n",
            "3937/3937 [==============================] - 15s 4ms/step - loss: 0.1300 - accuracy: 0.9518\n",
            "Epoch 2/10\n",
            "3937/3937 [==============================] - 15s 4ms/step - loss: 0.1142 - accuracy: 0.9556\n",
            "Epoch 3/10\n",
            "3937/3937 [==============================] - 15s 4ms/step - loss: 0.1115 - accuracy: 0.9559\n",
            "Epoch 4/10\n",
            "3937/3937 [==============================] - 15s 4ms/step - loss: 0.1102 - accuracy: 0.9557\n",
            "Epoch 5/10\n",
            "3937/3937 [==============================] - 15s 4ms/step - loss: 0.1090 - accuracy: 0.9567\n",
            "Epoch 6/10\n",
            "3937/3937 [==============================] - 15s 4ms/step - loss: 0.1087 - accuracy: 0.9568\n",
            "Epoch 7/10\n",
            "3937/3937 [==============================] - 15s 4ms/step - loss: 0.1082 - accuracy: 0.9571\n",
            "Epoch 8/10\n",
            "3937/3937 [==============================] - 15s 4ms/step - loss: 0.1077 - accuracy: 0.9575\n",
            "Epoch 9/10\n",
            "3937/3937 [==============================] - 15s 4ms/step - loss: 0.1076 - accuracy: 0.9569\n",
            "Epoch 10/10\n",
            "3937/3937 [==============================] - 15s 4ms/step - loss: 0.1073 - accuracy: 0.9573\n"
          ]
        },
        {
          "output_type": "execute_result",
          "data": {
            "text/plain": [
              "<keras.callbacks.History at 0x7f496fb9bb10>"
            ]
          },
          "metadata": {},
          "execution_count": 53
        }
      ]
    },
    {
      "cell_type": "code",
      "source": [
        "T=np.asarray(T).astype(np.int)\n",
        "t0 = time()\n",
        "y_pred = cnn.predict(T)\n",
        "tt = time() - t0\n",
        "print (\"Predicted in {} seconds\".format(round(tt,3)))\n"
      ],
      "metadata": {
        "colab": {
          "base_uri": "https://localhost:8080/"
        },
        "id": "0_hbvm0GCiJY",
        "outputId": "d0cdb168-fafe-4345-d3ac-314631c51cd7"
      },
      "execution_count": null,
      "outputs": [
        {
          "output_type": "stream",
          "name": "stdout",
          "text": [
            "Predicted in 0.144 seconds\n"
          ]
        }
      ]
    },
    {
      "cell_type": "code",
      "source": [
        "y_pred= np.round(y_pred)\n",
        "Y=np.asarray(Y).astype(np.int)"
      ],
      "metadata": {
        "id": "nnkKrLScK6RP"
      },
      "execution_count": null,
      "outputs": []
    },
    {
      "cell_type": "code",
      "source": [
        "y_pred"
      ],
      "metadata": {
        "colab": {
          "base_uri": "https://localhost:8080/"
        },
        "id": "AvV7p5IuROVa",
        "outputId": "b48abb28-84d4-40f6-db9d-e5b56e37a9f8"
      },
      "execution_count": null,
      "outputs": [
        {
          "output_type": "execute_result",
          "data": {
            "text/plain": [
              "array([[0.],\n",
              "       [1.],\n",
              "       [0.],\n",
              "       ...,\n",
              "       [0.],\n",
              "       [1.],\n",
              "       [0.]], dtype=float32)"
            ]
          },
          "metadata": {},
          "execution_count": 56
        }
      ]
    },
    {
      "cell_type": "code",
      "source": [
        "Z = labels_test.copy()"
      ],
      "metadata": {
        "id": "dgEM-JnsKu41"
      },
      "execution_count": null,
      "outputs": []
    },
    {
      "cell_type": "code",
      "source": [
        "Z[Z != 'normal'] = 1\n",
        "Z[Z=='normal']=0\n",
        "Z=np.asarray(Z).astype(np.int)"
      ],
      "metadata": {
        "id": "7ohCGe3lJnya"
      },
      "execution_count": null,
      "outputs": []
    },
    {
      "cell_type": "code",
      "source": [
        "Z"
      ],
      "metadata": {
        "colab": {
          "base_uri": "https://localhost:8080/"
        },
        "id": "xTQP8xbHRebw",
        "outputId": "70917193-60e0-401d-a1ce-63b16eca0a62"
      },
      "execution_count": null,
      "outputs": [
        {
          "output_type": "execute_result",
          "data": {
            "text/plain": [
              "array([1, 1, 1, ..., 0, 1, 1])"
            ]
          },
          "metadata": {},
          "execution_count": 59
        }
      ]
    },
    {
      "cell_type": "code",
      "source": [
        "#Calculating out the accuracy\n",
        "accuracy10 = accuracy_score(y_pred, Z)\n",
        "f1_score10 = f1_score(y_pred, Z,average='weighted')\n",
        "precision10 = precision_score(y_pred, Z, average='weighted')\n",
        "recall10 = recall_score(y_pred, Z, average='weighted')\n",
        "print (\"Accuracy is {}.\".format(round(accuracy10,4)))\n",
        "print (\"F1 Score is {}.\".format(round(f1_score10,4)))\n",
        "print (\"Precision is {}.\".format(round(precision10,4)))\n",
        "print (\"Recall is {}.\".format(round(recall10,4)))"
      ],
      "metadata": {
        "colab": {
          "base_uri": "https://localhost:8080/"
        },
        "id": "CBh3RlHeJfXk",
        "outputId": "15f9bcf0-af5f-438a-826b-96a89636fc5b"
      },
      "execution_count": null,
      "outputs": [
        {
          "output_type": "stream",
          "name": "stdout",
          "text": [
            "Accuracy is 0.6008.\n",
            "F1 Score is 0.5562.\n",
            "Precision is 0.6962.\n",
            "Recall is 0.6008.\n"
          ]
        }
      ]
    },
    {
      "cell_type": "code",
      "source": [
        "CNN = [accuracy10, f1_score10, precision10, recall10]\n",
        "final_matrix[\"CNN\"] = CNN\n",
        "final_matrix"
      ],
      "metadata": {
        "colab": {
          "base_uri": "https://localhost:8080/",
          "height": 236
        },
        "id": "YkfpzPJPS1K7",
        "outputId": "617ced38-287f-4d93-89fc-224f3cc1a150"
      },
      "execution_count": null,
      "outputs": [
        {
          "output_type": "execute_result",
          "data": {
            "text/plain": [
              "           KNN Classifier  SVC Classifier  Logistic Classifier  \\\n",
              "Accuracy         0.540928        0.538397             0.543460   \n",
              "F1_Score         0.491422        0.487719             0.493229   \n",
              "Precision        0.631242        0.608534             0.615102   \n",
              "Recall           0.540928        0.538397             0.543460   \n",
              "\n",
              "           MLP Classifier  SGD Classifier  Gaussian Classifier  \\\n",
              "Accuracy         0.568776        0.521519             0.624473   \n",
              "F1_Score         0.520270        0.470686             0.582197   \n",
              "Precision        0.631722        0.610168             0.614586   \n",
              "Recall           0.568776        0.521519             0.624473   \n",
              "\n",
              "           Decision Tree Classifier  AdaBoost Classifier  \\\n",
              "Accuracy                   0.599156             0.573840   \n",
              "F1_Score                   0.552960             0.525082   \n",
              "Precision                  0.611101             0.611076   \n",
              "Recall                     0.599156             0.573840   \n",
              "\n",
              "           Random Forest Classifier       CNN  \n",
              "Accuracy                   0.516456  0.600844  \n",
              "F1_Score                   0.464653  0.556239  \n",
              "Precision                  0.593523  0.696213  \n",
              "Recall                     0.516456  0.600844  "
            ],
            "text/html": [
              "\n",
              "  <div id=\"df-ed1fdd8d-8bc2-4a19-b95d-2552a606d0fe\">\n",
              "    <div class=\"colab-df-container\">\n",
              "      <div>\n",
              "<style scoped>\n",
              "    .dataframe tbody tr th:only-of-type {\n",
              "        vertical-align: middle;\n",
              "    }\n",
              "\n",
              "    .dataframe tbody tr th {\n",
              "        vertical-align: top;\n",
              "    }\n",
              "\n",
              "    .dataframe thead th {\n",
              "        text-align: right;\n",
              "    }\n",
              "</style>\n",
              "<table border=\"1\" class=\"dataframe\">\n",
              "  <thead>\n",
              "    <tr style=\"text-align: right;\">\n",
              "      <th></th>\n",
              "      <th>KNN Classifier</th>\n",
              "      <th>SVC Classifier</th>\n",
              "      <th>Logistic Classifier</th>\n",
              "      <th>MLP Classifier</th>\n",
              "      <th>SGD Classifier</th>\n",
              "      <th>Gaussian Classifier</th>\n",
              "      <th>Decision Tree Classifier</th>\n",
              "      <th>AdaBoost Classifier</th>\n",
              "      <th>Random Forest Classifier</th>\n",
              "      <th>CNN</th>\n",
              "    </tr>\n",
              "  </thead>\n",
              "  <tbody>\n",
              "    <tr>\n",
              "      <th>Accuracy</th>\n",
              "      <td>0.540928</td>\n",
              "      <td>0.538397</td>\n",
              "      <td>0.543460</td>\n",
              "      <td>0.568776</td>\n",
              "      <td>0.521519</td>\n",
              "      <td>0.624473</td>\n",
              "      <td>0.599156</td>\n",
              "      <td>0.573840</td>\n",
              "      <td>0.516456</td>\n",
              "      <td>0.600844</td>\n",
              "    </tr>\n",
              "    <tr>\n",
              "      <th>F1_Score</th>\n",
              "      <td>0.491422</td>\n",
              "      <td>0.487719</td>\n",
              "      <td>0.493229</td>\n",
              "      <td>0.520270</td>\n",
              "      <td>0.470686</td>\n",
              "      <td>0.582197</td>\n",
              "      <td>0.552960</td>\n",
              "      <td>0.525082</td>\n",
              "      <td>0.464653</td>\n",
              "      <td>0.556239</td>\n",
              "    </tr>\n",
              "    <tr>\n",
              "      <th>Precision</th>\n",
              "      <td>0.631242</td>\n",
              "      <td>0.608534</td>\n",
              "      <td>0.615102</td>\n",
              "      <td>0.631722</td>\n",
              "      <td>0.610168</td>\n",
              "      <td>0.614586</td>\n",
              "      <td>0.611101</td>\n",
              "      <td>0.611076</td>\n",
              "      <td>0.593523</td>\n",
              "      <td>0.696213</td>\n",
              "    </tr>\n",
              "    <tr>\n",
              "      <th>Recall</th>\n",
              "      <td>0.540928</td>\n",
              "      <td>0.538397</td>\n",
              "      <td>0.543460</td>\n",
              "      <td>0.568776</td>\n",
              "      <td>0.521519</td>\n",
              "      <td>0.624473</td>\n",
              "      <td>0.599156</td>\n",
              "      <td>0.573840</td>\n",
              "      <td>0.516456</td>\n",
              "      <td>0.600844</td>\n",
              "    </tr>\n",
              "  </tbody>\n",
              "</table>\n",
              "</div>\n",
              "      <button class=\"colab-df-convert\" onclick=\"convertToInteractive('df-ed1fdd8d-8bc2-4a19-b95d-2552a606d0fe')\"\n",
              "              title=\"Convert this dataframe to an interactive table.\"\n",
              "              style=\"display:none;\">\n",
              "        \n",
              "  <svg xmlns=\"http://www.w3.org/2000/svg\" height=\"24px\"viewBox=\"0 0 24 24\"\n",
              "       width=\"24px\">\n",
              "    <path d=\"M0 0h24v24H0V0z\" fill=\"none\"/>\n",
              "    <path d=\"M18.56 5.44l.94 2.06.94-2.06 2.06-.94-2.06-.94-.94-2.06-.94 2.06-2.06.94zm-11 1L8.5 8.5l.94-2.06 2.06-.94-2.06-.94L8.5 2.5l-.94 2.06-2.06.94zm10 10l.94 2.06.94-2.06 2.06-.94-2.06-.94-.94-2.06-.94 2.06-2.06.94z\"/><path d=\"M17.41 7.96l-1.37-1.37c-.4-.4-.92-.59-1.43-.59-.52 0-1.04.2-1.43.59L10.3 9.45l-7.72 7.72c-.78.78-.78 2.05 0 2.83L4 21.41c.39.39.9.59 1.41.59.51 0 1.02-.2 1.41-.59l7.78-7.78 2.81-2.81c.8-.78.8-2.07 0-2.86zM5.41 20L4 18.59l7.72-7.72 1.47 1.35L5.41 20z\"/>\n",
              "  </svg>\n",
              "      </button>\n",
              "      \n",
              "  <style>\n",
              "    .colab-df-container {\n",
              "      display:flex;\n",
              "      flex-wrap:wrap;\n",
              "      gap: 12px;\n",
              "    }\n",
              "\n",
              "    .colab-df-convert {\n",
              "      background-color: #E8F0FE;\n",
              "      border: none;\n",
              "      border-radius: 50%;\n",
              "      cursor: pointer;\n",
              "      display: none;\n",
              "      fill: #1967D2;\n",
              "      height: 32px;\n",
              "      padding: 0 0 0 0;\n",
              "      width: 32px;\n",
              "    }\n",
              "\n",
              "    .colab-df-convert:hover {\n",
              "      background-color: #E2EBFA;\n",
              "      box-shadow: 0px 1px 2px rgba(60, 64, 67, 0.3), 0px 1px 3px 1px rgba(60, 64, 67, 0.15);\n",
              "      fill: #174EA6;\n",
              "    }\n",
              "\n",
              "    [theme=dark] .colab-df-convert {\n",
              "      background-color: #3B4455;\n",
              "      fill: #D2E3FC;\n",
              "    }\n",
              "\n",
              "    [theme=dark] .colab-df-convert:hover {\n",
              "      background-color: #434B5C;\n",
              "      box-shadow: 0px 1px 3px 1px rgba(0, 0, 0, 0.15);\n",
              "      filter: drop-shadow(0px 1px 2px rgba(0, 0, 0, 0.3));\n",
              "      fill: #FFFFFF;\n",
              "    }\n",
              "  </style>\n",
              "\n",
              "      <script>\n",
              "        const buttonEl =\n",
              "          document.querySelector('#df-ed1fdd8d-8bc2-4a19-b95d-2552a606d0fe button.colab-df-convert');\n",
              "        buttonEl.style.display =\n",
              "          google.colab.kernel.accessAllowed ? 'block' : 'none';\n",
              "\n",
              "        async function convertToInteractive(key) {\n",
              "          const element = document.querySelector('#df-ed1fdd8d-8bc2-4a19-b95d-2552a606d0fe');\n",
              "          const dataTable =\n",
              "            await google.colab.kernel.invokeFunction('convertToInteractive',\n",
              "                                                     [key], {});\n",
              "          if (!dataTable) return;\n",
              "\n",
              "          const docLinkHtml = 'Like what you see? Visit the ' +\n",
              "            '<a target=\"_blank\" href=https://colab.research.google.com/notebooks/data_table.ipynb>data table notebook</a>'\n",
              "            + ' to learn more about interactive tables.';\n",
              "          element.innerHTML = '';\n",
              "          dataTable['output_type'] = 'display_data';\n",
              "          await google.colab.output.renderOutput(dataTable, element);\n",
              "          const docLink = document.createElement('div');\n",
              "          docLink.innerHTML = docLinkHtml;\n",
              "          element.appendChild(docLink);\n",
              "        }\n",
              "      </script>\n",
              "    </div>\n",
              "  </div>\n",
              "  "
            ]
          },
          "metadata": {},
          "execution_count": 61
        }
      ]
    }
  ],
  "metadata": {
    "colab": {
      "collapsed_sections": [],
      "name": "Notebook2.ipynb",
      "provenance": []
    },
    "kernelspec": {
      "display_name": "Python 3",
      "name": "python3"
    },
    "language_info": {
      "name": "python"
    }
  },
  "nbformat": 4,
  "nbformat_minor": 0
}