{
  "cells": [
    {
      "cell_type": "code",
      "execution_count": null,
      "metadata": {
        "colab": {
          "base_uri": "https://localhost:8080/"
        },
        "id": "tV6YU1R8DfgT",
        "outputId": "60e06c79-057c-4b47-d457-b550f9c0942c"
      },
      "outputs": [
        {
          "output_type": "stream",
          "name": "stdout",
          "text": [
            "Mounted at /content/drive\n"
          ]
        }
      ],
      "source": [
        "from google.colab import drive\n",
        "drive.mount('/content/drive')"
      ]
    },
    {
      "cell_type": "code",
      "execution_count": null,
      "metadata": {
        "colab": {
          "base_uri": "https://localhost:8080/",
          "height": 394
        },
        "id": "oBSdBqsCRdbQ",
        "outputId": "c5324b97-a3b2-43fc-f347-cf3be9291636"
      },
      "outputs": [
        {
          "output_type": "execute_result",
          "data": {
            "text/plain": [
              "           duration     src_bytes     dst_bytes           land  \\\n",
              "count  125973.00000  1.259730e+05  1.259730e+05  125973.000000   \n",
              "mean      287.14465  4.556674e+04  1.977911e+04       0.000198   \n",
              "std      2604.51531  5.870331e+06  4.021269e+06       0.014086   \n",
              "min         0.00000  0.000000e+00  0.000000e+00       0.000000   \n",
              "25%         0.00000  0.000000e+00  0.000000e+00       0.000000   \n",
              "50%         0.00000  4.400000e+01  0.000000e+00       0.000000   \n",
              "75%         0.00000  2.760000e+02  5.160000e+02       0.000000   \n",
              "max     42908.00000  1.379964e+09  1.309937e+09       1.000000   \n",
              "\n",
              "       wrong_fragment         urgent            hot  num_failed_logins  \\\n",
              "count   125973.000000  125973.000000  125973.000000      125973.000000   \n",
              "mean         0.022687       0.000111       0.204409           0.001222   \n",
              "std          0.253530       0.014366       2.149968           0.045239   \n",
              "min          0.000000       0.000000       0.000000           0.000000   \n",
              "25%          0.000000       0.000000       0.000000           0.000000   \n",
              "50%          0.000000       0.000000       0.000000           0.000000   \n",
              "75%          0.000000       0.000000       0.000000           0.000000   \n",
              "max          3.000000       3.000000      77.000000           5.000000   \n",
              "\n",
              "           logged_in  num_compromised  ...  dst_host_count  \\\n",
              "count  125973.000000    125973.000000  ...   125973.000000   \n",
              "mean        0.395736         0.279250  ...      182.148945   \n",
              "std         0.489010        23.942042  ...       99.206213   \n",
              "min         0.000000         0.000000  ...        0.000000   \n",
              "25%         0.000000         0.000000  ...       82.000000   \n",
              "50%         0.000000         0.000000  ...      255.000000   \n",
              "75%         1.000000         0.000000  ...      255.000000   \n",
              "max         1.000000      7479.000000  ...      255.000000   \n",
              "\n",
              "       dst_host_srv_count  dst_host_same_srv_rate  dst_host_diff_srv_rate  \\\n",
              "count       125973.000000           125973.000000           125973.000000   \n",
              "mean           115.653005                0.521242                0.082951   \n",
              "std            110.702741                0.448949                0.188922   \n",
              "min              0.000000                0.000000                0.000000   \n",
              "25%             10.000000                0.050000                0.000000   \n",
              "50%             63.000000                0.510000                0.020000   \n",
              "75%            255.000000                1.000000                0.070000   \n",
              "max            255.000000                1.000000                1.000000   \n",
              "\n",
              "       dst_host_same_src_port_rate  dst_host_srv_diff_host_rate  \\\n",
              "count                125973.000000                125973.000000   \n",
              "mean                      0.148379                     0.032542   \n",
              "std                       0.308997                     0.112564   \n",
              "min                       0.000000                     0.000000   \n",
              "25%                       0.000000                     0.000000   \n",
              "50%                       0.000000                     0.000000   \n",
              "75%                       0.060000                     0.020000   \n",
              "max                       1.000000                     1.000000   \n",
              "\n",
              "       dst_host_serror_rate  dst_host_srv_serror_rate  dst_host_rerror_rate  \\\n",
              "count         125973.000000             125973.000000         125973.000000   \n",
              "mean               0.284452                  0.278485              0.118832   \n",
              "std                0.444784                  0.445669              0.306557   \n",
              "min                0.000000                  0.000000              0.000000   \n",
              "25%                0.000000                  0.000000              0.000000   \n",
              "50%                0.000000                  0.000000              0.000000   \n",
              "75%                1.000000                  1.000000              0.000000   \n",
              "max                1.000000                  1.000000              1.000000   \n",
              "\n",
              "       dst_host_srv_rerror_rate  \n",
              "count             125973.000000  \n",
              "mean                   0.120240  \n",
              "std                    0.319459  \n",
              "min                    0.000000  \n",
              "25%                    0.000000  \n",
              "50%                    0.000000  \n",
              "75%                    0.000000  \n",
              "max                    1.000000  \n",
              "\n",
              "[8 rows x 38 columns]"
            ],
            "text/html": [
              "\n",
              "  <div id=\"df-7626f4bf-eba5-4afa-ac63-b65049b54fd8\">\n",
              "    <div class=\"colab-df-container\">\n",
              "      <div>\n",
              "<style scoped>\n",
              "    .dataframe tbody tr th:only-of-type {\n",
              "        vertical-align: middle;\n",
              "    }\n",
              "\n",
              "    .dataframe tbody tr th {\n",
              "        vertical-align: top;\n",
              "    }\n",
              "\n",
              "    .dataframe thead th {\n",
              "        text-align: right;\n",
              "    }\n",
              "</style>\n",
              "<table border=\"1\" class=\"dataframe\">\n",
              "  <thead>\n",
              "    <tr style=\"text-align: right;\">\n",
              "      <th></th>\n",
              "      <th>duration</th>\n",
              "      <th>src_bytes</th>\n",
              "      <th>dst_bytes</th>\n",
              "      <th>land</th>\n",
              "      <th>wrong_fragment</th>\n",
              "      <th>urgent</th>\n",
              "      <th>hot</th>\n",
              "      <th>num_failed_logins</th>\n",
              "      <th>logged_in</th>\n",
              "      <th>num_compromised</th>\n",
              "      <th>...</th>\n",
              "      <th>dst_host_count</th>\n",
              "      <th>dst_host_srv_count</th>\n",
              "      <th>dst_host_same_srv_rate</th>\n",
              "      <th>dst_host_diff_srv_rate</th>\n",
              "      <th>dst_host_same_src_port_rate</th>\n",
              "      <th>dst_host_srv_diff_host_rate</th>\n",
              "      <th>dst_host_serror_rate</th>\n",
              "      <th>dst_host_srv_serror_rate</th>\n",
              "      <th>dst_host_rerror_rate</th>\n",
              "      <th>dst_host_srv_rerror_rate</th>\n",
              "    </tr>\n",
              "  </thead>\n",
              "  <tbody>\n",
              "    <tr>\n",
              "      <th>count</th>\n",
              "      <td>125973.00000</td>\n",
              "      <td>1.259730e+05</td>\n",
              "      <td>1.259730e+05</td>\n",
              "      <td>125973.000000</td>\n",
              "      <td>125973.000000</td>\n",
              "      <td>125973.000000</td>\n",
              "      <td>125973.000000</td>\n",
              "      <td>125973.000000</td>\n",
              "      <td>125973.000000</td>\n",
              "      <td>125973.000000</td>\n",
              "      <td>...</td>\n",
              "      <td>125973.000000</td>\n",
              "      <td>125973.000000</td>\n",
              "      <td>125973.000000</td>\n",
              "      <td>125973.000000</td>\n",
              "      <td>125973.000000</td>\n",
              "      <td>125973.000000</td>\n",
              "      <td>125973.000000</td>\n",
              "      <td>125973.000000</td>\n",
              "      <td>125973.000000</td>\n",
              "      <td>125973.000000</td>\n",
              "    </tr>\n",
              "    <tr>\n",
              "      <th>mean</th>\n",
              "      <td>287.14465</td>\n",
              "      <td>4.556674e+04</td>\n",
              "      <td>1.977911e+04</td>\n",
              "      <td>0.000198</td>\n",
              "      <td>0.022687</td>\n",
              "      <td>0.000111</td>\n",
              "      <td>0.204409</td>\n",
              "      <td>0.001222</td>\n",
              "      <td>0.395736</td>\n",
              "      <td>0.279250</td>\n",
              "      <td>...</td>\n",
              "      <td>182.148945</td>\n",
              "      <td>115.653005</td>\n",
              "      <td>0.521242</td>\n",
              "      <td>0.082951</td>\n",
              "      <td>0.148379</td>\n",
              "      <td>0.032542</td>\n",
              "      <td>0.284452</td>\n",
              "      <td>0.278485</td>\n",
              "      <td>0.118832</td>\n",
              "      <td>0.120240</td>\n",
              "    </tr>\n",
              "    <tr>\n",
              "      <th>std</th>\n",
              "      <td>2604.51531</td>\n",
              "      <td>5.870331e+06</td>\n",
              "      <td>4.021269e+06</td>\n",
              "      <td>0.014086</td>\n",
              "      <td>0.253530</td>\n",
              "      <td>0.014366</td>\n",
              "      <td>2.149968</td>\n",
              "      <td>0.045239</td>\n",
              "      <td>0.489010</td>\n",
              "      <td>23.942042</td>\n",
              "      <td>...</td>\n",
              "      <td>99.206213</td>\n",
              "      <td>110.702741</td>\n",
              "      <td>0.448949</td>\n",
              "      <td>0.188922</td>\n",
              "      <td>0.308997</td>\n",
              "      <td>0.112564</td>\n",
              "      <td>0.444784</td>\n",
              "      <td>0.445669</td>\n",
              "      <td>0.306557</td>\n",
              "      <td>0.319459</td>\n",
              "    </tr>\n",
              "    <tr>\n",
              "      <th>min</th>\n",
              "      <td>0.00000</td>\n",
              "      <td>0.000000e+00</td>\n",
              "      <td>0.000000e+00</td>\n",
              "      <td>0.000000</td>\n",
              "      <td>0.000000</td>\n",
              "      <td>0.000000</td>\n",
              "      <td>0.000000</td>\n",
              "      <td>0.000000</td>\n",
              "      <td>0.000000</td>\n",
              "      <td>0.000000</td>\n",
              "      <td>...</td>\n",
              "      <td>0.000000</td>\n",
              "      <td>0.000000</td>\n",
              "      <td>0.000000</td>\n",
              "      <td>0.000000</td>\n",
              "      <td>0.000000</td>\n",
              "      <td>0.000000</td>\n",
              "      <td>0.000000</td>\n",
              "      <td>0.000000</td>\n",
              "      <td>0.000000</td>\n",
              "      <td>0.000000</td>\n",
              "    </tr>\n",
              "    <tr>\n",
              "      <th>25%</th>\n",
              "      <td>0.00000</td>\n",
              "      <td>0.000000e+00</td>\n",
              "      <td>0.000000e+00</td>\n",
              "      <td>0.000000</td>\n",
              "      <td>0.000000</td>\n",
              "      <td>0.000000</td>\n",
              "      <td>0.000000</td>\n",
              "      <td>0.000000</td>\n",
              "      <td>0.000000</td>\n",
              "      <td>0.000000</td>\n",
              "      <td>...</td>\n",
              "      <td>82.000000</td>\n",
              "      <td>10.000000</td>\n",
              "      <td>0.050000</td>\n",
              "      <td>0.000000</td>\n",
              "      <td>0.000000</td>\n",
              "      <td>0.000000</td>\n",
              "      <td>0.000000</td>\n",
              "      <td>0.000000</td>\n",
              "      <td>0.000000</td>\n",
              "      <td>0.000000</td>\n",
              "    </tr>\n",
              "    <tr>\n",
              "      <th>50%</th>\n",
              "      <td>0.00000</td>\n",
              "      <td>4.400000e+01</td>\n",
              "      <td>0.000000e+00</td>\n",
              "      <td>0.000000</td>\n",
              "      <td>0.000000</td>\n",
              "      <td>0.000000</td>\n",
              "      <td>0.000000</td>\n",
              "      <td>0.000000</td>\n",
              "      <td>0.000000</td>\n",
              "      <td>0.000000</td>\n",
              "      <td>...</td>\n",
              "      <td>255.000000</td>\n",
              "      <td>63.000000</td>\n",
              "      <td>0.510000</td>\n",
              "      <td>0.020000</td>\n",
              "      <td>0.000000</td>\n",
              "      <td>0.000000</td>\n",
              "      <td>0.000000</td>\n",
              "      <td>0.000000</td>\n",
              "      <td>0.000000</td>\n",
              "      <td>0.000000</td>\n",
              "    </tr>\n",
              "    <tr>\n",
              "      <th>75%</th>\n",
              "      <td>0.00000</td>\n",
              "      <td>2.760000e+02</td>\n",
              "      <td>5.160000e+02</td>\n",
              "      <td>0.000000</td>\n",
              "      <td>0.000000</td>\n",
              "      <td>0.000000</td>\n",
              "      <td>0.000000</td>\n",
              "      <td>0.000000</td>\n",
              "      <td>1.000000</td>\n",
              "      <td>0.000000</td>\n",
              "      <td>...</td>\n",
              "      <td>255.000000</td>\n",
              "      <td>255.000000</td>\n",
              "      <td>1.000000</td>\n",
              "      <td>0.070000</td>\n",
              "      <td>0.060000</td>\n",
              "      <td>0.020000</td>\n",
              "      <td>1.000000</td>\n",
              "      <td>1.000000</td>\n",
              "      <td>0.000000</td>\n",
              "      <td>0.000000</td>\n",
              "    </tr>\n",
              "    <tr>\n",
              "      <th>max</th>\n",
              "      <td>42908.00000</td>\n",
              "      <td>1.379964e+09</td>\n",
              "      <td>1.309937e+09</td>\n",
              "      <td>1.000000</td>\n",
              "      <td>3.000000</td>\n",
              "      <td>3.000000</td>\n",
              "      <td>77.000000</td>\n",
              "      <td>5.000000</td>\n",
              "      <td>1.000000</td>\n",
              "      <td>7479.000000</td>\n",
              "      <td>...</td>\n",
              "      <td>255.000000</td>\n",
              "      <td>255.000000</td>\n",
              "      <td>1.000000</td>\n",
              "      <td>1.000000</td>\n",
              "      <td>1.000000</td>\n",
              "      <td>1.000000</td>\n",
              "      <td>1.000000</td>\n",
              "      <td>1.000000</td>\n",
              "      <td>1.000000</td>\n",
              "      <td>1.000000</td>\n",
              "    </tr>\n",
              "  </tbody>\n",
              "</table>\n",
              "<p>8 rows × 38 columns</p>\n",
              "</div>\n",
              "      <button class=\"colab-df-convert\" onclick=\"convertToInteractive('df-7626f4bf-eba5-4afa-ac63-b65049b54fd8')\"\n",
              "              title=\"Convert this dataframe to an interactive table.\"\n",
              "              style=\"display:none;\">\n",
              "        \n",
              "  <svg xmlns=\"http://www.w3.org/2000/svg\" height=\"24px\"viewBox=\"0 0 24 24\"\n",
              "       width=\"24px\">\n",
              "    <path d=\"M0 0h24v24H0V0z\" fill=\"none\"/>\n",
              "    <path d=\"M18.56 5.44l.94 2.06.94-2.06 2.06-.94-2.06-.94-.94-2.06-.94 2.06-2.06.94zm-11 1L8.5 8.5l.94-2.06 2.06-.94-2.06-.94L8.5 2.5l-.94 2.06-2.06.94zm10 10l.94 2.06.94-2.06 2.06-.94-2.06-.94-.94-2.06-.94 2.06-2.06.94z\"/><path d=\"M17.41 7.96l-1.37-1.37c-.4-.4-.92-.59-1.43-.59-.52 0-1.04.2-1.43.59L10.3 9.45l-7.72 7.72c-.78.78-.78 2.05 0 2.83L4 21.41c.39.39.9.59 1.41.59.51 0 1.02-.2 1.41-.59l7.78-7.78 2.81-2.81c.8-.78.8-2.07 0-2.86zM5.41 20L4 18.59l7.72-7.72 1.47 1.35L5.41 20z\"/>\n",
              "  </svg>\n",
              "      </button>\n",
              "      \n",
              "  <style>\n",
              "    .colab-df-container {\n",
              "      display:flex;\n",
              "      flex-wrap:wrap;\n",
              "      gap: 12px;\n",
              "    }\n",
              "\n",
              "    .colab-df-convert {\n",
              "      background-color: #E8F0FE;\n",
              "      border: none;\n",
              "      border-radius: 50%;\n",
              "      cursor: pointer;\n",
              "      display: none;\n",
              "      fill: #1967D2;\n",
              "      height: 32px;\n",
              "      padding: 0 0 0 0;\n",
              "      width: 32px;\n",
              "    }\n",
              "\n",
              "    .colab-df-convert:hover {\n",
              "      background-color: #E2EBFA;\n",
              "      box-shadow: 0px 1px 2px rgba(60, 64, 67, 0.3), 0px 1px 3px 1px rgba(60, 64, 67, 0.15);\n",
              "      fill: #174EA6;\n",
              "    }\n",
              "\n",
              "    [theme=dark] .colab-df-convert {\n",
              "      background-color: #3B4455;\n",
              "      fill: #D2E3FC;\n",
              "    }\n",
              "\n",
              "    [theme=dark] .colab-df-convert:hover {\n",
              "      background-color: #434B5C;\n",
              "      box-shadow: 0px 1px 3px 1px rgba(0, 0, 0, 0.15);\n",
              "      filter: drop-shadow(0px 1px 2px rgba(0, 0, 0, 0.3));\n",
              "      fill: #FFFFFF;\n",
              "    }\n",
              "  </style>\n",
              "\n",
              "      <script>\n",
              "        const buttonEl =\n",
              "          document.querySelector('#df-7626f4bf-eba5-4afa-ac63-b65049b54fd8 button.colab-df-convert');\n",
              "        buttonEl.style.display =\n",
              "          google.colab.kernel.accessAllowed ? 'block' : 'none';\n",
              "\n",
              "        async function convertToInteractive(key) {\n",
              "          const element = document.querySelector('#df-7626f4bf-eba5-4afa-ac63-b65049b54fd8');\n",
              "          const dataTable =\n",
              "            await google.colab.kernel.invokeFunction('convertToInteractive',\n",
              "                                                     [key], {});\n",
              "          if (!dataTable) return;\n",
              "\n",
              "          const docLinkHtml = 'Like what you see? Visit the ' +\n",
              "            '<a target=\"_blank\" href=https://colab.research.google.com/notebooks/data_table.ipynb>data table notebook</a>'\n",
              "            + ' to learn more about interactive tables.';\n",
              "          element.innerHTML = '';\n",
              "          dataTable['output_type'] = 'display_data';\n",
              "          await google.colab.output.renderOutput(dataTable, element);\n",
              "          const docLink = document.createElement('div');\n",
              "          docLink.innerHTML = docLinkHtml;\n",
              "          element.appendChild(docLink);\n",
              "        }\n",
              "      </script>\n",
              "    </div>\n",
              "  </div>\n",
              "  "
            ]
          },
          "metadata": {},
          "execution_count": 2
        }
      ],
      "source": [
        "#loading the data\n",
        "import pandas\n",
        "from time import time\n",
        "col_names = [\"duration\", \"protocol_type\", \"service\", \"flag\", \"src_bytes\", \"dst_bytes\", \"land\", \"wrong_fragment\", \"urgent\", \"hot\", \n",
        "             \"num_failed_logins\", \"logged_in\", \"num_compromised\", \"root_shell\", \"su_attempted\", \"num_root\", \"num_file_creations\", \n",
        "             \"num_shells\", \"num_access_files\", \"num_outbound_cmds\", \"is_host_login\", \"is_guest_login\", \"count\", \"srv_count\", \n",
        "             \"serror_rate\", \"srv_serror_rate\", \"rerror_rate\", \"srv_rerror_rate\", \"same_srv_rate\", \"diff_srv_rate\", \n",
        "             \"srv_diff_host_rate\", \"dst_host_count\",\"dst_host_srv_count\", \"dst_host_same_srv_rate\", \"dst_host_diff_srv_rate\", \n",
        "             \"dst_host_same_src_port_rate\", \"dst_host_srv_diff_host_rate\", \"dst_host_serror_rate\", \"dst_host_srv_serror_rate\", \n",
        "             \"dst_host_rerror_rate\", \"dst_host_srv_rerror_rate\", \"label\"]\n",
        "kdd_data_train = pandas.read_csv(\"/content/drive/MyDrive/NSL-KDD/KDDTrain+.arff\", names = col_names)\n",
        "kdd_data_train.describe()"
      ]
    },
    {
      "cell_type": "code",
      "execution_count": null,
      "metadata": {
        "colab": {
          "base_uri": "https://localhost:8080/"
        },
        "id": "PQ6nBGZYzRLt",
        "outputId": "66bcf6d3-478c-4a98-b670-b0d36ca900b6"
      },
      "outputs": [
        {
          "output_type": "execute_result",
          "data": {
            "text/plain": [
              "normal     67343\n",
              "anomaly    58630\n",
              "Name: label, dtype: int64"
            ]
          },
          "metadata": {},
          "execution_count": 3
        }
      ],
      "source": [
        "#a look at how the labels are distributed\n",
        "kdd_data_train['label'].value_counts()"
      ]
    },
    {
      "cell_type": "code",
      "execution_count": null,
      "metadata": {
        "colab": {
          "base_uri": "https://localhost:8080/"
        },
        "id": "xSemtbk7XlUi",
        "outputId": "fbcd5df0-387a-4778-c553-140573ae19e5"
      },
      "outputs": [
        {
          "output_type": "execute_result",
          "data": {
            "text/plain": [
              "0         0.0\n",
              "1         0.0\n",
              "2         0.0\n",
              "3         0.0\n",
              "4         0.0\n",
              "         ... \n",
              "125968    0.0\n",
              "125969    8.0\n",
              "125970    0.0\n",
              "125971    0.0\n",
              "125972    0.0\n",
              "Name: duration, Length: 125973, dtype: float64"
            ]
          },
          "metadata": {},
          "execution_count": 4
        }
      ],
      "source": [
        "#Initially, we will use all features\n",
        "num_features = [\"duration\", \"src_bytes\", \"dst_bytes\", \"land\", \"wrong_fragment\", \"urgent\", \"hot\", \"num_failed_logins\", \n",
        "                \"logged_in\", \"num_compromised\", \"root_shell\", \"su_attempted\", \"num_root\", \"num_file_creations\", \"num_shells\",\n",
        "                \"num_access_files\", \"num_outbound_cmds\", \"is_host_login\", \"is_guest_login\", \"count\", \"srv_count\", \"serror_rate\", \n",
        "                \"srv_serror_rate\", \"rerror_rate\", \"srv_rerror_rate\", \"same_srv_rate\", \"diff_srv_rate\", \"srv_diff_host_rate\",\n",
        "                \"dst_host_count\", \"dst_host_srv_count\", \"dst_host_same_srv_rate\", \"dst_host_diff_srv_rate\", \n",
        "                \"dst_host_same_src_port_rate\", \"dst_host_srv_diff_host_rate\", \"dst_host_serror_rate\", \"dst_host_srv_serror_rate\",\n",
        "                \"dst_host_rerror_rate\", \"dst_host_srv_rerror_rate\"]\n",
        "features = kdd_data_train[num_features].astype(float)\n",
        "features[\"duration\"]"
      ]
    },
    {
      "cell_type": "code",
      "execution_count": null,
      "metadata": {
        "colab": {
          "base_uri": "https://localhost:8080/"
        },
        "id": "U4OKZWebx2wn",
        "outputId": "aba384df-8c2b-4ee1-ee9f-6fffd4426b9c"
      },
      "outputs": [
        {
          "output_type": "execute_result",
          "data": {
            "text/plain": [
              "normal    67343\n",
              "attack    58630\n",
              "Name: label, dtype: int64"
            ]
          },
          "metadata": {},
          "execution_count": 5
        }
      ],
      "source": [
        "#KNN Classifier\n",
        "from sklearn.neighbors import KNeighborsClassifier\n",
        "labels = kdd_data_train['label'].copy()\n",
        "labels[labels != 'normal'] = 'attack'\n",
        "labels.value_counts()"
      ]
    },
    {
      "cell_type": "code",
      "execution_count": null,
      "metadata": {
        "colab": {
          "base_uri": "https://localhost:8080/"
        },
        "id": "5EBqSfsi-tGh",
        "outputId": "90a10739-6287-4e24-91b5-a2d4defc874f"
      },
      "outputs": [
        {
          "output_type": "execute_result",
          "data": {
            "text/plain": [
              "array([[0.00000000e+00, 3.55806412e-07, 0.00000000e+00, ...,\n",
              "        0.00000000e+00, 5.00000000e-02, 0.00000000e+00],\n",
              "       [0.00000000e+00, 1.05799870e-07, 0.00000000e+00, ...,\n",
              "        0.00000000e+00, 0.00000000e+00, 0.00000000e+00],\n",
              "       [0.00000000e+00, 0.00000000e+00, 0.00000000e+00, ...,\n",
              "        1.00000000e+00, 0.00000000e+00, 0.00000000e+00],\n",
              "       ...,\n",
              "       [0.00000000e+00, 1.61670897e-06, 2.93143779e-07, ...,\n",
              "        0.00000000e+00, 1.00000000e-02, 0.00000000e+00],\n",
              "       [0.00000000e+00, 0.00000000e+00, 0.00000000e+00, ...,\n",
              "        1.00000000e+00, 0.00000000e+00, 0.00000000e+00],\n",
              "       [0.00000000e+00, 1.09423153e-07, 0.00000000e+00, ...,\n",
              "        0.00000000e+00, 0.00000000e+00, 0.00000000e+00]])"
            ]
          },
          "metadata": {},
          "execution_count": 6
        }
      ],
      "source": [
        "#Ignoring the deprecation warnings\n",
        "import warnings\n",
        "warnings.filterwarnings(\"ignore\", category = DeprecationWarning) \n",
        "\n",
        "#Rescaling the data\n",
        "from sklearn.preprocessing import MinMaxScaler\n",
        "scaler = MinMaxScaler()\n",
        "features= scaler.fit_transform(features)\n",
        "features.view()"
      ]
    },
    {
      "cell_type": "code",
      "execution_count": null,
      "metadata": {
        "colab": {
          "base_uri": "https://localhost:8080/"
        },
        "id": "xePt3Vwj-4tX",
        "outputId": "cc45357c-73e0-4b2c-fa1e-7b8a89408ec0"
      },
      "outputs": [
        {
          "output_type": "stream",
          "name": "stdout",
          "text": [
            "Classifier trained in 0.815 seconds.\n"
          ]
        }
      ],
      "source": [
        "#Training a classifier\n",
        "clf1 = KNeighborsClassifier(n_neighbors = 5, algorithm = 'ball_tree', leaf_size = 500)\n",
        "t0 = time()\n",
        "clf1.fit(features, labels)\n",
        "tt = time() - t0\n",
        "print (\"Classifier trained in {} seconds.\".format(round(tt, 3)))"
      ]
    },
    {
      "cell_type": "code",
      "execution_count": null,
      "metadata": {
        "colab": {
          "base_uri": "https://localhost:8080/"
        },
        "id": "_DhQQV95-_Z3",
        "outputId": "eb2efffe-505b-439b-fc47-4ca7fa543cef"
      },
      "outputs": [
        {
          "output_type": "execute_result",
          "data": {
            "text/plain": [
              "anomaly    12833\n",
              "normal      9711\n",
              "Name: label, dtype: int64"
            ]
          },
          "metadata": {},
          "execution_count": 8
        }
      ],
      "source": [
        "#Loading the labelled test data\n",
        "kdd_data_test = pandas.read_csv(\"/content/drive/MyDrive/NSL-KDD/KDDTest+.arff\", header=None, names = col_names)\n",
        "kdd_data_test['label'].value_counts()"
      ]
    },
    {
      "cell_type": "code",
      "execution_count": null,
      "metadata": {
        "colab": {
          "base_uri": "https://localhost:8080/"
        },
        "id": "je6nF_hA_gzx",
        "outputId": "ba68c329-ff8d-4187-88fe-13ef992d0517"
      },
      "outputs": [
        {
          "output_type": "stream",
          "name": "stderr",
          "text": [
            "/usr/local/lib/python3.7/dist-packages/ipykernel_launcher.py:2: SettingWithCopyWarning: \n",
            "A value is trying to be set on a copy of a slice from a DataFrame\n",
            "\n",
            "See the caveats in the documentation: https://pandas.pydata.org/pandas-docs/stable/user_guide/indexing.html#returning-a-view-versus-a-copy\n",
            "  \n"
          ]
        },
        {
          "output_type": "execute_result",
          "data": {
            "text/plain": [
              "attack    12833\n",
              "normal     9711\n",
              "Name: label, dtype: int64"
            ]
          },
          "metadata": {},
          "execution_count": 9
        }
      ],
      "source": [
        "#Converting all the new attack labels to 'attack.'\n",
        "kdd_data_test['label'][kdd_data_test['label']!='normal'] = 'attack'\n",
        "kdd_data_test['label'].value_counts()"
      ]
    },
    {
      "cell_type": "code",
      "execution_count": null,
      "metadata": {
        "id": "IXqvbgKB_sWg"
      },
      "outputs": [],
      "source": [
        "#Ignoring the deprecation warnings\n",
        "import warnings\n",
        "warnings.filterwarnings(\"ignore\", category = DeprecationWarning) \n",
        "\n",
        "kdd_data_test[num_features] = kdd_data_test[num_features].astype(float)\n",
        "kdd_data_test[num_features] = scaler.fit_transform(kdd_data_test[num_features])"
      ]
    },
    {
      "cell_type": "code",
      "execution_count": null,
      "metadata": {
        "id": "HeDlKwZ6_2t_"
      },
      "outputs": [],
      "source": [
        "#Now, after scaling, we can sample 10% of the training data\n",
        "from sklearn.model_selection import train_test_split\n",
        "features_train, features_test, labels_train, labels_test = train_test_split(kdd_data_test[num_features], \n",
        "                                                                            kdd_data_test['label'], test_size=0.1, \n",
        "                                                                            random_state=42)"
      ]
    },
    {
      "cell_type": "code",
      "execution_count": null,
      "metadata": {
        "colab": {
          "base_uri": "https://localhost:8080/"
        },
        "id": "aat7dSaH_9j2",
        "outputId": "fcb71b94-132e-49df-984f-03fed563e4cd"
      },
      "outputs": [
        {
          "output_type": "stream",
          "name": "stderr",
          "text": [
            "/usr/local/lib/python3.7/dist-packages/sklearn/base.py:444: UserWarning: X has feature names, but KNeighborsClassifier was fitted without feature names\n",
            "  f\"X has feature names, but {self.__class__.__name__} was fitted without\"\n"
          ]
        },
        {
          "output_type": "stream",
          "name": "stdout",
          "text": [
            "Predicted in 24.546 seconds\n"
          ]
        }
      ],
      "source": [
        "#Predictions on the test data\n",
        "clf1.fit(features, labels)\n",
        "t0 = time()\n",
        "pred = clf1.predict(features_test)\n",
        "tt = time() - t0\n",
        "print (\"Predicted in {} seconds\".format(round(tt,3)))"
      ]
    },
    {
      "cell_type": "code",
      "execution_count": null,
      "metadata": {
        "colab": {
          "base_uri": "https://localhost:8080/"
        },
        "id": "UNT8nTVOAnc_",
        "outputId": "48238831-0c0e-443a-8afc-8bd31bed4a7b"
      },
      "outputs": [
        {
          "output_type": "stream",
          "name": "stdout",
          "text": [
            "Accuracy is 0.7424.\n",
            "F1 Score is 0.7458.\n",
            "Precision is 0.8173.\n",
            "Recall is 0.7424.\n"
          ]
        }
      ],
      "source": [
        "#Calculating out the accuracy\n",
        "from sklearn.metrics import accuracy_score, f1_score, precision_score, recall_score\n",
        "accuracy1 = accuracy_score(pred, labels_test)\n",
        "f1_score1 = f1_score(pred, labels_test,average='weighted')\n",
        "precision1 = precision_score(pred, labels_test, average='weighted')\n",
        "recall1 = recall_score(pred, labels_test, average='weighted')\n",
        "print (\"Accuracy is {}.\".format(round(accuracy1,4)))\n",
        "print (\"F1 Score is {}.\".format(round(f1_score1,4)))\n",
        "print (\"Precision is {}.\".format(round(precision1,4)))\n",
        "print (\"Recall is {}.\".format(round(recall1,4)))"
      ]
    },
    {
      "cell_type": "code",
      "execution_count": null,
      "metadata": {
        "colab": {
          "base_uri": "https://localhost:8080/",
          "height": 174
        },
        "id": "wNYLZ3omPRy8",
        "outputId": "a4430ff7-5b41-4343-b8c8-ef6ff93adee0"
      },
      "outputs": [
        {
          "output_type": "execute_result",
          "data": {
            "text/plain": [
              "           KNN Classifier\n",
              "Accuracy         0.742350\n",
              "F1_Score         0.745796\n",
              "Precision        0.817301\n",
              "Recall           0.742350"
            ],
            "text/html": [
              "\n",
              "  <div id=\"df-c39949c3-7a18-44cd-b655-0a56f64b3ab9\">\n",
              "    <div class=\"colab-df-container\">\n",
              "      <div>\n",
              "<style scoped>\n",
              "    .dataframe tbody tr th:only-of-type {\n",
              "        vertical-align: middle;\n",
              "    }\n",
              "\n",
              "    .dataframe tbody tr th {\n",
              "        vertical-align: top;\n",
              "    }\n",
              "\n",
              "    .dataframe thead th {\n",
              "        text-align: right;\n",
              "    }\n",
              "</style>\n",
              "<table border=\"1\" class=\"dataframe\">\n",
              "  <thead>\n",
              "    <tr style=\"text-align: right;\">\n",
              "      <th></th>\n",
              "      <th>KNN Classifier</th>\n",
              "    </tr>\n",
              "  </thead>\n",
              "  <tbody>\n",
              "    <tr>\n",
              "      <th>Accuracy</th>\n",
              "      <td>0.742350</td>\n",
              "    </tr>\n",
              "    <tr>\n",
              "      <th>F1_Score</th>\n",
              "      <td>0.745796</td>\n",
              "    </tr>\n",
              "    <tr>\n",
              "      <th>Precision</th>\n",
              "      <td>0.817301</td>\n",
              "    </tr>\n",
              "    <tr>\n",
              "      <th>Recall</th>\n",
              "      <td>0.742350</td>\n",
              "    </tr>\n",
              "  </tbody>\n",
              "</table>\n",
              "</div>\n",
              "      <button class=\"colab-df-convert\" onclick=\"convertToInteractive('df-c39949c3-7a18-44cd-b655-0a56f64b3ab9')\"\n",
              "              title=\"Convert this dataframe to an interactive table.\"\n",
              "              style=\"display:none;\">\n",
              "        \n",
              "  <svg xmlns=\"http://www.w3.org/2000/svg\" height=\"24px\"viewBox=\"0 0 24 24\"\n",
              "       width=\"24px\">\n",
              "    <path d=\"M0 0h24v24H0V0z\" fill=\"none\"/>\n",
              "    <path d=\"M18.56 5.44l.94 2.06.94-2.06 2.06-.94-2.06-.94-.94-2.06-.94 2.06-2.06.94zm-11 1L8.5 8.5l.94-2.06 2.06-.94-2.06-.94L8.5 2.5l-.94 2.06-2.06.94zm10 10l.94 2.06.94-2.06 2.06-.94-2.06-.94-.94-2.06-.94 2.06-2.06.94z\"/><path d=\"M17.41 7.96l-1.37-1.37c-.4-.4-.92-.59-1.43-.59-.52 0-1.04.2-1.43.59L10.3 9.45l-7.72 7.72c-.78.78-.78 2.05 0 2.83L4 21.41c.39.39.9.59 1.41.59.51 0 1.02-.2 1.41-.59l7.78-7.78 2.81-2.81c.8-.78.8-2.07 0-2.86zM5.41 20L4 18.59l7.72-7.72 1.47 1.35L5.41 20z\"/>\n",
              "  </svg>\n",
              "      </button>\n",
              "      \n",
              "  <style>\n",
              "    .colab-df-container {\n",
              "      display:flex;\n",
              "      flex-wrap:wrap;\n",
              "      gap: 12px;\n",
              "    }\n",
              "\n",
              "    .colab-df-convert {\n",
              "      background-color: #E8F0FE;\n",
              "      border: none;\n",
              "      border-radius: 50%;\n",
              "      cursor: pointer;\n",
              "      display: none;\n",
              "      fill: #1967D2;\n",
              "      height: 32px;\n",
              "      padding: 0 0 0 0;\n",
              "      width: 32px;\n",
              "    }\n",
              "\n",
              "    .colab-df-convert:hover {\n",
              "      background-color: #E2EBFA;\n",
              "      box-shadow: 0px 1px 2px rgba(60, 64, 67, 0.3), 0px 1px 3px 1px rgba(60, 64, 67, 0.15);\n",
              "      fill: #174EA6;\n",
              "    }\n",
              "\n",
              "    [theme=dark] .colab-df-convert {\n",
              "      background-color: #3B4455;\n",
              "      fill: #D2E3FC;\n",
              "    }\n",
              "\n",
              "    [theme=dark] .colab-df-convert:hover {\n",
              "      background-color: #434B5C;\n",
              "      box-shadow: 0px 1px 3px 1px rgba(0, 0, 0, 0.15);\n",
              "      filter: drop-shadow(0px 1px 2px rgba(0, 0, 0, 0.3));\n",
              "      fill: #FFFFFF;\n",
              "    }\n",
              "  </style>\n",
              "\n",
              "      <script>\n",
              "        const buttonEl =\n",
              "          document.querySelector('#df-c39949c3-7a18-44cd-b655-0a56f64b3ab9 button.colab-df-convert');\n",
              "        buttonEl.style.display =\n",
              "          google.colab.kernel.accessAllowed ? 'block' : 'none';\n",
              "\n",
              "        async function convertToInteractive(key) {\n",
              "          const element = document.querySelector('#df-c39949c3-7a18-44cd-b655-0a56f64b3ab9');\n",
              "          const dataTable =\n",
              "            await google.colab.kernel.invokeFunction('convertToInteractive',\n",
              "                                                     [key], {});\n",
              "          if (!dataTable) return;\n",
              "\n",
              "          const docLinkHtml = 'Like what you see? Visit the ' +\n",
              "            '<a target=\"_blank\" href=https://colab.research.google.com/notebooks/data_table.ipynb>data table notebook</a>'\n",
              "            + ' to learn more about interactive tables.';\n",
              "          element.innerHTML = '';\n",
              "          dataTable['output_type'] = 'display_data';\n",
              "          await google.colab.output.renderOutput(dataTable, element);\n",
              "          const docLink = document.createElement('div');\n",
              "          docLink.innerHTML = docLinkHtml;\n",
              "          element.appendChild(docLink);\n",
              "        }\n",
              "      </script>\n",
              "    </div>\n",
              "  </div>\n",
              "  "
            ]
          },
          "metadata": {},
          "execution_count": 14
        }
      ],
      "source": [
        "final_matrix = pandas.DataFrame({\"KNN Classifier\":[accuracy1,f1_score1,precision1,recall1]})\n",
        "final_matrix.index = [\"Accuracy\", \"F1_Score\", \"Precision\", \"Recall\"]\n",
        "final_matrix"
      ]
    },
    {
      "cell_type": "code",
      "execution_count": null,
      "metadata": {
        "colab": {
          "base_uri": "https://localhost:8080/"
        },
        "id": "BMBKX-6kCYub",
        "outputId": "c630c0e0-8e6e-42f3-abd1-4050f50deb48"
      },
      "outputs": [
        {
          "output_type": "stream",
          "name": "stdout",
          "text": [
            "Classifier trained in 3.368 seconds.\n"
          ]
        }
      ],
      "source": [
        "#LinearSVC Classifier\n",
        "from sklearn.svm import LinearSVC\n",
        "\n",
        "clf2 = LinearSVC(random_state = 0)\n",
        "t0 = time()\n",
        "clf2.fit(features, labels)\n",
        "tt = time() - t0\n",
        "print (\"Classifier trained in {} seconds.\".format(round(tt, 3)))"
      ]
    },
    {
      "cell_type": "code",
      "execution_count": null,
      "metadata": {
        "id": "Jei-mFeEDiot",
        "colab": {
          "base_uri": "https://localhost:8080/"
        },
        "outputId": "2a87993a-5628-4ff8-90dd-f6fefed8e949"
      },
      "outputs": [
        {
          "output_type": "stream",
          "name": "stdout",
          "text": [
            "Predicted in 0.017 seconds\n"
          ]
        },
        {
          "output_type": "stream",
          "name": "stderr",
          "text": [
            "/usr/local/lib/python3.7/dist-packages/sklearn/base.py:444: UserWarning: X has feature names, but LinearSVC was fitted without feature names\n",
            "  f\"X has feature names, but {self.__class__.__name__} was fitted without\"\n"
          ]
        }
      ],
      "source": [
        "#Predictions on the test data\n",
        "clf2.fit(features, labels)\n",
        "t0 = time()\n",
        "pred = clf2.predict(features_test)\n",
        "tt = time() - t0\n",
        "print (\"Predicted in {} seconds\".format(round(tt,3)))"
      ]
    },
    {
      "cell_type": "code",
      "execution_count": null,
      "metadata": {
        "id": "7zBiF0dnDnL2",
        "colab": {
          "base_uri": "https://localhost:8080/"
        },
        "outputId": "8e828183-0cf2-4ace-b82a-d1cacc5c5c73"
      },
      "outputs": [
        {
          "output_type": "stream",
          "name": "stdout",
          "text": [
            "Accuracy is 0.7499.\n",
            "F1 Score is 0.7523.\n",
            "Precision is 0.8149.\n",
            "Recall is 0.7499.\n"
          ]
        }
      ],
      "source": [
        "#Calculating out the accuracy\n",
        "accuracy2 = accuracy_score(pred, labels_test)\n",
        "f1_score2 = f1_score(pred, labels_test,average='weighted')\n",
        "precision2 = precision_score(pred, labels_test, average='weighted')\n",
        "recall2 = recall_score(pred, labels_test, average='weighted')\n",
        "print (\"Accuracy is {}.\".format(round(accuracy2,4)))\n",
        "print (\"F1 Score is {}.\".format(round(f1_score2,4)))\n",
        "print (\"Precision is {}.\".format(round(precision2,4)))\n",
        "print (\"Recall is {}.\".format(round(recall2,4)))"
      ]
    },
    {
      "cell_type": "code",
      "execution_count": null,
      "metadata": {
        "id": "wF6ksmW1QwPm",
        "colab": {
          "base_uri": "https://localhost:8080/",
          "height": 174
        },
        "outputId": "186e1e11-11b8-496e-abcc-9103b8521021"
      },
      "outputs": [
        {
          "output_type": "execute_result",
          "data": {
            "text/plain": [
              "           KNN Classifier  SVC Classifier\n",
              "Accuracy         0.742350        0.749889\n",
              "F1_Score         0.745796        0.752330\n",
              "Precision        0.817301        0.814861\n",
              "Recall           0.742350        0.749889"
            ],
            "text/html": [
              "\n",
              "  <div id=\"df-d6369f09-8ab4-49ad-a390-da4b5a42a945\">\n",
              "    <div class=\"colab-df-container\">\n",
              "      <div>\n",
              "<style scoped>\n",
              "    .dataframe tbody tr th:only-of-type {\n",
              "        vertical-align: middle;\n",
              "    }\n",
              "\n",
              "    .dataframe tbody tr th {\n",
              "        vertical-align: top;\n",
              "    }\n",
              "\n",
              "    .dataframe thead th {\n",
              "        text-align: right;\n",
              "    }\n",
              "</style>\n",
              "<table border=\"1\" class=\"dataframe\">\n",
              "  <thead>\n",
              "    <tr style=\"text-align: right;\">\n",
              "      <th></th>\n",
              "      <th>KNN Classifier</th>\n",
              "      <th>SVC Classifier</th>\n",
              "    </tr>\n",
              "  </thead>\n",
              "  <tbody>\n",
              "    <tr>\n",
              "      <th>Accuracy</th>\n",
              "      <td>0.742350</td>\n",
              "      <td>0.749889</td>\n",
              "    </tr>\n",
              "    <tr>\n",
              "      <th>F1_Score</th>\n",
              "      <td>0.745796</td>\n",
              "      <td>0.752330</td>\n",
              "    </tr>\n",
              "    <tr>\n",
              "      <th>Precision</th>\n",
              "      <td>0.817301</td>\n",
              "      <td>0.814861</td>\n",
              "    </tr>\n",
              "    <tr>\n",
              "      <th>Recall</th>\n",
              "      <td>0.742350</td>\n",
              "      <td>0.749889</td>\n",
              "    </tr>\n",
              "  </tbody>\n",
              "</table>\n",
              "</div>\n",
              "      <button class=\"colab-df-convert\" onclick=\"convertToInteractive('df-d6369f09-8ab4-49ad-a390-da4b5a42a945')\"\n",
              "              title=\"Convert this dataframe to an interactive table.\"\n",
              "              style=\"display:none;\">\n",
              "        \n",
              "  <svg xmlns=\"http://www.w3.org/2000/svg\" height=\"24px\"viewBox=\"0 0 24 24\"\n",
              "       width=\"24px\">\n",
              "    <path d=\"M0 0h24v24H0V0z\" fill=\"none\"/>\n",
              "    <path d=\"M18.56 5.44l.94 2.06.94-2.06 2.06-.94-2.06-.94-.94-2.06-.94 2.06-2.06.94zm-11 1L8.5 8.5l.94-2.06 2.06-.94-2.06-.94L8.5 2.5l-.94 2.06-2.06.94zm10 10l.94 2.06.94-2.06 2.06-.94-2.06-.94-.94-2.06-.94 2.06-2.06.94z\"/><path d=\"M17.41 7.96l-1.37-1.37c-.4-.4-.92-.59-1.43-.59-.52 0-1.04.2-1.43.59L10.3 9.45l-7.72 7.72c-.78.78-.78 2.05 0 2.83L4 21.41c.39.39.9.59 1.41.59.51 0 1.02-.2 1.41-.59l7.78-7.78 2.81-2.81c.8-.78.8-2.07 0-2.86zM5.41 20L4 18.59l7.72-7.72 1.47 1.35L5.41 20z\"/>\n",
              "  </svg>\n",
              "      </button>\n",
              "      \n",
              "  <style>\n",
              "    .colab-df-container {\n",
              "      display:flex;\n",
              "      flex-wrap:wrap;\n",
              "      gap: 12px;\n",
              "    }\n",
              "\n",
              "    .colab-df-convert {\n",
              "      background-color: #E8F0FE;\n",
              "      border: none;\n",
              "      border-radius: 50%;\n",
              "      cursor: pointer;\n",
              "      display: none;\n",
              "      fill: #1967D2;\n",
              "      height: 32px;\n",
              "      padding: 0 0 0 0;\n",
              "      width: 32px;\n",
              "    }\n",
              "\n",
              "    .colab-df-convert:hover {\n",
              "      background-color: #E2EBFA;\n",
              "      box-shadow: 0px 1px 2px rgba(60, 64, 67, 0.3), 0px 1px 3px 1px rgba(60, 64, 67, 0.15);\n",
              "      fill: #174EA6;\n",
              "    }\n",
              "\n",
              "    [theme=dark] .colab-df-convert {\n",
              "      background-color: #3B4455;\n",
              "      fill: #D2E3FC;\n",
              "    }\n",
              "\n",
              "    [theme=dark] .colab-df-convert:hover {\n",
              "      background-color: #434B5C;\n",
              "      box-shadow: 0px 1px 3px 1px rgba(0, 0, 0, 0.15);\n",
              "      filter: drop-shadow(0px 1px 2px rgba(0, 0, 0, 0.3));\n",
              "      fill: #FFFFFF;\n",
              "    }\n",
              "  </style>\n",
              "\n",
              "      <script>\n",
              "        const buttonEl =\n",
              "          document.querySelector('#df-d6369f09-8ab4-49ad-a390-da4b5a42a945 button.colab-df-convert');\n",
              "        buttonEl.style.display =\n",
              "          google.colab.kernel.accessAllowed ? 'block' : 'none';\n",
              "\n",
              "        async function convertToInteractive(key) {\n",
              "          const element = document.querySelector('#df-d6369f09-8ab4-49ad-a390-da4b5a42a945');\n",
              "          const dataTable =\n",
              "            await google.colab.kernel.invokeFunction('convertToInteractive',\n",
              "                                                     [key], {});\n",
              "          if (!dataTable) return;\n",
              "\n",
              "          const docLinkHtml = 'Like what you see? Visit the ' +\n",
              "            '<a target=\"_blank\" href=https://colab.research.google.com/notebooks/data_table.ipynb>data table notebook</a>'\n",
              "            + ' to learn more about interactive tables.';\n",
              "          element.innerHTML = '';\n",
              "          dataTable['output_type'] = 'display_data';\n",
              "          await google.colab.output.renderOutput(dataTable, element);\n",
              "          const docLink = document.createElement('div');\n",
              "          docLink.innerHTML = docLinkHtml;\n",
              "          element.appendChild(docLink);\n",
              "        }\n",
              "      </script>\n",
              "    </div>\n",
              "  </div>\n",
              "  "
            ]
          },
          "metadata": {},
          "execution_count": 18
        }
      ],
      "source": [
        "svc_classifier = [accuracy2, f1_score2, precision2, recall2]\n",
        "final_matrix[\"SVC Classifier\"] = svc_classifier\n",
        "final_matrix"
      ]
    },
    {
      "cell_type": "code",
      "execution_count": null,
      "metadata": {
        "id": "z_0QzQkHuvrh",
        "colab": {
          "base_uri": "https://localhost:8080/"
        },
        "outputId": "272f10b6-e38f-4a09-f8ed-8b049ccb807a"
      },
      "outputs": [
        {
          "output_type": "stream",
          "name": "stdout",
          "text": [
            "Classifier trained in 6.186 seconds.\n"
          ]
        }
      ],
      "source": [
        "#Logistic Regression\n",
        "from sklearn.linear_model import LogisticRegression\n",
        "\n",
        "#Training a classifier\n",
        "clf3 = LogisticRegression(max_iter=1000)\n",
        "t0 = time()\n",
        "clf3.fit(features, labels)\n",
        "tt = time() - t0\n",
        "print (\"Classifier trained in {} seconds.\".format(round(tt, 3)))"
      ]
    },
    {
      "cell_type": "code",
      "execution_count": null,
      "metadata": {
        "id": "2YjcAgu7vy5D",
        "colab": {
          "base_uri": "https://localhost:8080/"
        },
        "outputId": "67f7b00a-53fe-4889-c50f-d92740b49891"
      },
      "outputs": [
        {
          "output_type": "stream",
          "name": "stdout",
          "text": [
            "Predicted in 0.004 seconds\n"
          ]
        },
        {
          "output_type": "stream",
          "name": "stderr",
          "text": [
            "/usr/local/lib/python3.7/dist-packages/sklearn/base.py:444: UserWarning: X has feature names, but LogisticRegression was fitted without feature names\n",
            "  f\"X has feature names, but {self.__class__.__name__} was fitted without\"\n"
          ]
        }
      ],
      "source": [
        "#Predictions on the test data\n",
        "clf3.fit(features, labels)\n",
        "t0 = time()\n",
        "pred = clf3.predict(features_test)\n",
        "tt = time() - t0\n",
        "print (\"Predicted in {} seconds\".format(round(tt,3)))"
      ]
    },
    {
      "cell_type": "code",
      "execution_count": null,
      "metadata": {
        "colab": {
          "base_uri": "https://localhost:8080/"
        },
        "id": "rydRYj3ywBgb",
        "outputId": "0b40a1a7-6772-4378-bc17-75bf4410ad0e"
      },
      "outputs": [
        {
          "output_type": "stream",
          "name": "stdout",
          "text": [
            "Accuracy is 0.7508.\n",
            "F1 Score is 0.753.\n",
            "Precision is 0.8139.\n",
            "Recall is 0.7508.\n"
          ]
        }
      ],
      "source": [
        "#Calculating out the accuracy\n",
        "accuracy3 = accuracy_score(pred, labels_test)\n",
        "f1_score3 = f1_score(pred, labels_test,average='weighted')\n",
        "precision3 = precision_score(pred, labels_test, average='weighted')\n",
        "recall3 = recall_score(pred, labels_test, average='weighted')\n",
        "print (\"Accuracy is {}.\".format(round(accuracy3,4)))\n",
        "print (\"F1 Score is {}.\".format(round(f1_score3,4)))\n",
        "print (\"Precision is {}.\".format(round(precision3,4)))\n",
        "print (\"Recall is {}.\".format(round(recall3,4)))"
      ]
    },
    {
      "cell_type": "code",
      "execution_count": null,
      "metadata": {
        "colab": {
          "base_uri": "https://localhost:8080/",
          "height": 174
        },
        "id": "zNnWmAbxwJGx",
        "outputId": "fc23847c-5316-4328-e989-b650f3a34cc3"
      },
      "outputs": [
        {
          "output_type": "execute_result",
          "data": {
            "text/plain": [
              "           KNN Classifier  SVC Classifier  Logistic Classifier\n",
              "Accuracy         0.742350        0.749889             0.750776\n",
              "F1_Score         0.745796        0.752330             0.753045\n",
              "Precision        0.817301        0.814861             0.813865\n",
              "Recall           0.742350        0.749889             0.750776"
            ],
            "text/html": [
              "\n",
              "  <div id=\"df-77efe7d8-e2b3-4320-9118-7b53039fc8a7\">\n",
              "    <div class=\"colab-df-container\">\n",
              "      <div>\n",
              "<style scoped>\n",
              "    .dataframe tbody tr th:only-of-type {\n",
              "        vertical-align: middle;\n",
              "    }\n",
              "\n",
              "    .dataframe tbody tr th {\n",
              "        vertical-align: top;\n",
              "    }\n",
              "\n",
              "    .dataframe thead th {\n",
              "        text-align: right;\n",
              "    }\n",
              "</style>\n",
              "<table border=\"1\" class=\"dataframe\">\n",
              "  <thead>\n",
              "    <tr style=\"text-align: right;\">\n",
              "      <th></th>\n",
              "      <th>KNN Classifier</th>\n",
              "      <th>SVC Classifier</th>\n",
              "      <th>Logistic Classifier</th>\n",
              "    </tr>\n",
              "  </thead>\n",
              "  <tbody>\n",
              "    <tr>\n",
              "      <th>Accuracy</th>\n",
              "      <td>0.742350</td>\n",
              "      <td>0.749889</td>\n",
              "      <td>0.750776</td>\n",
              "    </tr>\n",
              "    <tr>\n",
              "      <th>F1_Score</th>\n",
              "      <td>0.745796</td>\n",
              "      <td>0.752330</td>\n",
              "      <td>0.753045</td>\n",
              "    </tr>\n",
              "    <tr>\n",
              "      <th>Precision</th>\n",
              "      <td>0.817301</td>\n",
              "      <td>0.814861</td>\n",
              "      <td>0.813865</td>\n",
              "    </tr>\n",
              "    <tr>\n",
              "      <th>Recall</th>\n",
              "      <td>0.742350</td>\n",
              "      <td>0.749889</td>\n",
              "      <td>0.750776</td>\n",
              "    </tr>\n",
              "  </tbody>\n",
              "</table>\n",
              "</div>\n",
              "      <button class=\"colab-df-convert\" onclick=\"convertToInteractive('df-77efe7d8-e2b3-4320-9118-7b53039fc8a7')\"\n",
              "              title=\"Convert this dataframe to an interactive table.\"\n",
              "              style=\"display:none;\">\n",
              "        \n",
              "  <svg xmlns=\"http://www.w3.org/2000/svg\" height=\"24px\"viewBox=\"0 0 24 24\"\n",
              "       width=\"24px\">\n",
              "    <path d=\"M0 0h24v24H0V0z\" fill=\"none\"/>\n",
              "    <path d=\"M18.56 5.44l.94 2.06.94-2.06 2.06-.94-2.06-.94-.94-2.06-.94 2.06-2.06.94zm-11 1L8.5 8.5l.94-2.06 2.06-.94-2.06-.94L8.5 2.5l-.94 2.06-2.06.94zm10 10l.94 2.06.94-2.06 2.06-.94-2.06-.94-.94-2.06-.94 2.06-2.06.94z\"/><path d=\"M17.41 7.96l-1.37-1.37c-.4-.4-.92-.59-1.43-.59-.52 0-1.04.2-1.43.59L10.3 9.45l-7.72 7.72c-.78.78-.78 2.05 0 2.83L4 21.41c.39.39.9.59 1.41.59.51 0 1.02-.2 1.41-.59l7.78-7.78 2.81-2.81c.8-.78.8-2.07 0-2.86zM5.41 20L4 18.59l7.72-7.72 1.47 1.35L5.41 20z\"/>\n",
              "  </svg>\n",
              "      </button>\n",
              "      \n",
              "  <style>\n",
              "    .colab-df-container {\n",
              "      display:flex;\n",
              "      flex-wrap:wrap;\n",
              "      gap: 12px;\n",
              "    }\n",
              "\n",
              "    .colab-df-convert {\n",
              "      background-color: #E8F0FE;\n",
              "      border: none;\n",
              "      border-radius: 50%;\n",
              "      cursor: pointer;\n",
              "      display: none;\n",
              "      fill: #1967D2;\n",
              "      height: 32px;\n",
              "      padding: 0 0 0 0;\n",
              "      width: 32px;\n",
              "    }\n",
              "\n",
              "    .colab-df-convert:hover {\n",
              "      background-color: #E2EBFA;\n",
              "      box-shadow: 0px 1px 2px rgba(60, 64, 67, 0.3), 0px 1px 3px 1px rgba(60, 64, 67, 0.15);\n",
              "      fill: #174EA6;\n",
              "    }\n",
              "\n",
              "    [theme=dark] .colab-df-convert {\n",
              "      background-color: #3B4455;\n",
              "      fill: #D2E3FC;\n",
              "    }\n",
              "\n",
              "    [theme=dark] .colab-df-convert:hover {\n",
              "      background-color: #434B5C;\n",
              "      box-shadow: 0px 1px 3px 1px rgba(0, 0, 0, 0.15);\n",
              "      filter: drop-shadow(0px 1px 2px rgba(0, 0, 0, 0.3));\n",
              "      fill: #FFFFFF;\n",
              "    }\n",
              "  </style>\n",
              "\n",
              "      <script>\n",
              "        const buttonEl =\n",
              "          document.querySelector('#df-77efe7d8-e2b3-4320-9118-7b53039fc8a7 button.colab-df-convert');\n",
              "        buttonEl.style.display =\n",
              "          google.colab.kernel.accessAllowed ? 'block' : 'none';\n",
              "\n",
              "        async function convertToInteractive(key) {\n",
              "          const element = document.querySelector('#df-77efe7d8-e2b3-4320-9118-7b53039fc8a7');\n",
              "          const dataTable =\n",
              "            await google.colab.kernel.invokeFunction('convertToInteractive',\n",
              "                                                     [key], {});\n",
              "          if (!dataTable) return;\n",
              "\n",
              "          const docLinkHtml = 'Like what you see? Visit the ' +\n",
              "            '<a target=\"_blank\" href=https://colab.research.google.com/notebooks/data_table.ipynb>data table notebook</a>'\n",
              "            + ' to learn more about interactive tables.';\n",
              "          element.innerHTML = '';\n",
              "          dataTable['output_type'] = 'display_data';\n",
              "          await google.colab.output.renderOutput(dataTable, element);\n",
              "          const docLink = document.createElement('div');\n",
              "          docLink.innerHTML = docLinkHtml;\n",
              "          element.appendChild(docLink);\n",
              "        }\n",
              "      </script>\n",
              "    </div>\n",
              "  </div>\n",
              "  "
            ]
          },
          "metadata": {},
          "execution_count": 22
        }
      ],
      "source": [
        "logistic_classifier = [accuracy3, f1_score3, precision3, recall3]\n",
        "final_matrix[\"Logistic Classifier\"] = logistic_classifier\n",
        "final_matrix"
      ]
    },
    {
      "cell_type": "code",
      "execution_count": null,
      "metadata": {
        "colab": {
          "base_uri": "https://localhost:8080/"
        },
        "id": "jgIWk-AGzIzt",
        "outputId": "952dc78d-cc45-4cc2-9776-4a09dcbded69"
      },
      "outputs": [
        {
          "output_type": "stream",
          "name": "stdout",
          "text": [
            "Classifier trained in 26.373 seconds.\n"
          ]
        }
      ],
      "source": [
        "#MLP Classifier\n",
        "from sklearn.neural_network import MLPClassifier\n",
        "\n",
        "#Training a classifier\n",
        "from sklearn.neural_network import MLPClassifier\n",
        "mlp = MLPClassifier(alpha = 1)\n",
        "t0 = time()\n",
        "mlp.fit(features, labels)\n",
        "tt = time() - t0\n",
        "print (\"Classifier trained in {} seconds.\".format(round(tt, 3)))"
      ]
    },
    {
      "cell_type": "code",
      "execution_count": null,
      "metadata": {
        "colab": {
          "base_uri": "https://localhost:8080/"
        },
        "id": "NBpbDDOnzZeo",
        "outputId": "162e24e3-8111-4cc8-a7db-a2d5e5b68c96"
      },
      "outputs": [
        {
          "output_type": "stream",
          "name": "stdout",
          "text": [
            "Predicted in 0.009 seconds\n"
          ]
        },
        {
          "output_type": "stream",
          "name": "stderr",
          "text": [
            "/usr/local/lib/python3.7/dist-packages/sklearn/base.py:444: UserWarning: X has feature names, but MLPClassifier was fitted without feature names\n",
            "  f\"X has feature names, but {self.__class__.__name__} was fitted without\"\n"
          ]
        }
      ],
      "source": [
        "#Predictions on the test data\n",
        "mlp.fit(features, labels)\n",
        "t0 = time()\n",
        "pred = mlp.predict(features_test)\n",
        "tt = time() - t0\n",
        "print (\"Predicted in {} seconds\".format(round(tt,3)))"
      ]
    },
    {
      "cell_type": "code",
      "execution_count": null,
      "metadata": {
        "colab": {
          "base_uri": "https://localhost:8080/"
        },
        "id": "tUt9R8OJzqfs",
        "outputId": "247797ce-803e-439a-df74-ae286eb98470"
      },
      "outputs": [
        {
          "output_type": "stream",
          "name": "stdout",
          "text": [
            "Accuracy is 0.761.\n",
            "F1 Score is 0.7625.\n",
            "Precision is 0.8169.\n",
            "Recall is 0.761.\n"
          ]
        }
      ],
      "source": [
        "#Calculating out the accuracy\n",
        "accuracy4 = accuracy_score(pred, labels_test)\n",
        "f1_score4 = f1_score(pred, labels_test,average='weighted')\n",
        "precision4 = precision_score(pred, labels_test, average='weighted')\n",
        "recall4 = recall_score(pred, labels_test, average='weighted')\n",
        "print (\"Accuracy is {}.\".format(round(accuracy4,4)))\n",
        "print (\"F1 Score is {}.\".format(round(f1_score4,4)))\n",
        "print (\"Precision is {}.\".format(round(precision4,4)))\n",
        "print (\"Recall is {}.\".format(round(recall4,4)))"
      ]
    },
    {
      "cell_type": "code",
      "execution_count": null,
      "metadata": {
        "colab": {
          "base_uri": "https://localhost:8080/",
          "height": 174
        },
        "id": "2u02JGFQz0Wo",
        "outputId": "32d0e0ec-a71a-4c41-8a89-a19bd4703565"
      },
      "outputs": [
        {
          "output_type": "execute_result",
          "data": {
            "text/plain": [
              "           KNN Classifier  SVC Classifier  Logistic Classifier  MLP Classifier\n",
              "Accuracy         0.742350        0.749889             0.750776        0.760976\n",
              "F1_Score         0.745796        0.752330             0.753045        0.762538\n",
              "Precision        0.817301        0.814861             0.813865        0.816878\n",
              "Recall           0.742350        0.749889             0.750776        0.760976"
            ],
            "text/html": [
              "\n",
              "  <div id=\"df-583b6350-57fa-4e37-b04a-66dcef4df744\">\n",
              "    <div class=\"colab-df-container\">\n",
              "      <div>\n",
              "<style scoped>\n",
              "    .dataframe tbody tr th:only-of-type {\n",
              "        vertical-align: middle;\n",
              "    }\n",
              "\n",
              "    .dataframe tbody tr th {\n",
              "        vertical-align: top;\n",
              "    }\n",
              "\n",
              "    .dataframe thead th {\n",
              "        text-align: right;\n",
              "    }\n",
              "</style>\n",
              "<table border=\"1\" class=\"dataframe\">\n",
              "  <thead>\n",
              "    <tr style=\"text-align: right;\">\n",
              "      <th></th>\n",
              "      <th>KNN Classifier</th>\n",
              "      <th>SVC Classifier</th>\n",
              "      <th>Logistic Classifier</th>\n",
              "      <th>MLP Classifier</th>\n",
              "    </tr>\n",
              "  </thead>\n",
              "  <tbody>\n",
              "    <tr>\n",
              "      <th>Accuracy</th>\n",
              "      <td>0.742350</td>\n",
              "      <td>0.749889</td>\n",
              "      <td>0.750776</td>\n",
              "      <td>0.760976</td>\n",
              "    </tr>\n",
              "    <tr>\n",
              "      <th>F1_Score</th>\n",
              "      <td>0.745796</td>\n",
              "      <td>0.752330</td>\n",
              "      <td>0.753045</td>\n",
              "      <td>0.762538</td>\n",
              "    </tr>\n",
              "    <tr>\n",
              "      <th>Precision</th>\n",
              "      <td>0.817301</td>\n",
              "      <td>0.814861</td>\n",
              "      <td>0.813865</td>\n",
              "      <td>0.816878</td>\n",
              "    </tr>\n",
              "    <tr>\n",
              "      <th>Recall</th>\n",
              "      <td>0.742350</td>\n",
              "      <td>0.749889</td>\n",
              "      <td>0.750776</td>\n",
              "      <td>0.760976</td>\n",
              "    </tr>\n",
              "  </tbody>\n",
              "</table>\n",
              "</div>\n",
              "      <button class=\"colab-df-convert\" onclick=\"convertToInteractive('df-583b6350-57fa-4e37-b04a-66dcef4df744')\"\n",
              "              title=\"Convert this dataframe to an interactive table.\"\n",
              "              style=\"display:none;\">\n",
              "        \n",
              "  <svg xmlns=\"http://www.w3.org/2000/svg\" height=\"24px\"viewBox=\"0 0 24 24\"\n",
              "       width=\"24px\">\n",
              "    <path d=\"M0 0h24v24H0V0z\" fill=\"none\"/>\n",
              "    <path d=\"M18.56 5.44l.94 2.06.94-2.06 2.06-.94-2.06-.94-.94-2.06-.94 2.06-2.06.94zm-11 1L8.5 8.5l.94-2.06 2.06-.94-2.06-.94L8.5 2.5l-.94 2.06-2.06.94zm10 10l.94 2.06.94-2.06 2.06-.94-2.06-.94-.94-2.06-.94 2.06-2.06.94z\"/><path d=\"M17.41 7.96l-1.37-1.37c-.4-.4-.92-.59-1.43-.59-.52 0-1.04.2-1.43.59L10.3 9.45l-7.72 7.72c-.78.78-.78 2.05 0 2.83L4 21.41c.39.39.9.59 1.41.59.51 0 1.02-.2 1.41-.59l7.78-7.78 2.81-2.81c.8-.78.8-2.07 0-2.86zM5.41 20L4 18.59l7.72-7.72 1.47 1.35L5.41 20z\"/>\n",
              "  </svg>\n",
              "      </button>\n",
              "      \n",
              "  <style>\n",
              "    .colab-df-container {\n",
              "      display:flex;\n",
              "      flex-wrap:wrap;\n",
              "      gap: 12px;\n",
              "    }\n",
              "\n",
              "    .colab-df-convert {\n",
              "      background-color: #E8F0FE;\n",
              "      border: none;\n",
              "      border-radius: 50%;\n",
              "      cursor: pointer;\n",
              "      display: none;\n",
              "      fill: #1967D2;\n",
              "      height: 32px;\n",
              "      padding: 0 0 0 0;\n",
              "      width: 32px;\n",
              "    }\n",
              "\n",
              "    .colab-df-convert:hover {\n",
              "      background-color: #E2EBFA;\n",
              "      box-shadow: 0px 1px 2px rgba(60, 64, 67, 0.3), 0px 1px 3px 1px rgba(60, 64, 67, 0.15);\n",
              "      fill: #174EA6;\n",
              "    }\n",
              "\n",
              "    [theme=dark] .colab-df-convert {\n",
              "      background-color: #3B4455;\n",
              "      fill: #D2E3FC;\n",
              "    }\n",
              "\n",
              "    [theme=dark] .colab-df-convert:hover {\n",
              "      background-color: #434B5C;\n",
              "      box-shadow: 0px 1px 3px 1px rgba(0, 0, 0, 0.15);\n",
              "      filter: drop-shadow(0px 1px 2px rgba(0, 0, 0, 0.3));\n",
              "      fill: #FFFFFF;\n",
              "    }\n",
              "  </style>\n",
              "\n",
              "      <script>\n",
              "        const buttonEl =\n",
              "          document.querySelector('#df-583b6350-57fa-4e37-b04a-66dcef4df744 button.colab-df-convert');\n",
              "        buttonEl.style.display =\n",
              "          google.colab.kernel.accessAllowed ? 'block' : 'none';\n",
              "\n",
              "        async function convertToInteractive(key) {\n",
              "          const element = document.querySelector('#df-583b6350-57fa-4e37-b04a-66dcef4df744');\n",
              "          const dataTable =\n",
              "            await google.colab.kernel.invokeFunction('convertToInteractive',\n",
              "                                                     [key], {});\n",
              "          if (!dataTable) return;\n",
              "\n",
              "          const docLinkHtml = 'Like what you see? Visit the ' +\n",
              "            '<a target=\"_blank\" href=https://colab.research.google.com/notebooks/data_table.ipynb>data table notebook</a>'\n",
              "            + ' to learn more about interactive tables.';\n",
              "          element.innerHTML = '';\n",
              "          dataTable['output_type'] = 'display_data';\n",
              "          await google.colab.output.renderOutput(dataTable, element);\n",
              "          const docLink = document.createElement('div');\n",
              "          docLink.innerHTML = docLinkHtml;\n",
              "          element.appendChild(docLink);\n",
              "        }\n",
              "      </script>\n",
              "    </div>\n",
              "  </div>\n",
              "  "
            ]
          },
          "metadata": {},
          "execution_count": 26
        }
      ],
      "source": [
        "mlp_classifier = [accuracy4, f1_score4, precision4, recall4]\n",
        "final_matrix[\"MLP Classifier\"] = mlp_classifier\n",
        "final_matrix"
      ]
    },
    {
      "cell_type": "code",
      "execution_count": null,
      "metadata": {
        "colab": {
          "base_uri": "https://localhost:8080/"
        },
        "id": "MpDT9CiG0EsX",
        "outputId": "bde51e26-7451-4ee7-8521-58162ff51ce1"
      },
      "outputs": [
        {
          "output_type": "stream",
          "name": "stdout",
          "text": [
            "Classifier trained in 0.55 seconds.\n"
          ]
        }
      ],
      "source": [
        "# SGD Classifier\n",
        "from sklearn import linear_model\n",
        "#Training a classifier\n",
        "clf5 = linear_model.SGDClassifier()\n",
        "t0 = time()\n",
        "clf5.fit(features, labels)\n",
        "tt = time() - t0\n",
        "print (\"Classifier trained in {} seconds.\".format(round(tt, 3)))"
      ]
    },
    {
      "cell_type": "code",
      "execution_count": null,
      "metadata": {
        "colab": {
          "base_uri": "https://localhost:8080/"
        },
        "id": "hKxSc4rW0byh",
        "outputId": "f054a7df-1d64-419a-ab46-d4e84f0a32e3"
      },
      "outputs": [
        {
          "output_type": "stream",
          "name": "stdout",
          "text": [
            "Predicted in 0.005 seconds\n"
          ]
        },
        {
          "output_type": "stream",
          "name": "stderr",
          "text": [
            "/usr/local/lib/python3.7/dist-packages/sklearn/base.py:444: UserWarning: X has feature names, but SGDClassifier was fitted without feature names\n",
            "  f\"X has feature names, but {self.__class__.__name__} was fitted without\"\n"
          ]
        }
      ],
      "source": [
        "#Predictions on the test data\n",
        "clf5.fit(features, labels)\n",
        "t0 = time()\n",
        "pred = clf5.predict(features_test)\n",
        "tt = time() - t0\n",
        "print (\"Predicted in {} seconds\".format(round(tt,3)))"
      ]
    },
    {
      "cell_type": "code",
      "execution_count": null,
      "metadata": {
        "colab": {
          "base_uri": "https://localhost:8080/"
        },
        "id": "g6zutS3m0lSh",
        "outputId": "7771a8e2-75a8-458a-866c-e2da96ad329c"
      },
      "outputs": [
        {
          "output_type": "stream",
          "name": "stdout",
          "text": [
            "Accuracy is 0.7459.\n",
            "F1 Score is 0.7488.\n",
            "Precision is 0.8149.\n",
            "Recall is 0.7459.\n"
          ]
        }
      ],
      "source": [
        "#Calculating out the accuracy\n",
        "accuracy5 = accuracy_score(pred, labels_test)\n",
        "f1_score5 = f1_score(pred, labels_test,average='weighted')\n",
        "precision5 = precision_score(pred, labels_test, average='weighted')\n",
        "recall5 = recall_score(pred, labels_test, average='weighted')\n",
        "print (\"Accuracy is {}.\".format(round(accuracy5,4)))\n",
        "print (\"F1 Score is {}.\".format(round(f1_score5,4)))\n",
        "print (\"Precision is {}.\".format(round(precision5,4)))\n",
        "print (\"Recall is {}.\".format(round(recall5,4)))"
      ]
    },
    {
      "cell_type": "code",
      "execution_count": null,
      "metadata": {
        "colab": {
          "base_uri": "https://localhost:8080/",
          "height": 174
        },
        "id": "0L7nu7lz0sRx",
        "outputId": "fe78407a-fe54-4c30-dc4a-773456170537"
      },
      "outputs": [
        {
          "output_type": "execute_result",
          "data": {
            "text/plain": [
              "           KNN Classifier  SVC Classifier  Logistic Classifier  \\\n",
              "Accuracy         0.742350        0.749889             0.750776   \n",
              "F1_Score         0.745796        0.752330             0.753045   \n",
              "Precision        0.817301        0.814861             0.813865   \n",
              "Recall           0.742350        0.749889             0.750776   \n",
              "\n",
              "           MLP Classifier  SGD Classifier  \n",
              "Accuracy         0.760976        0.745898  \n",
              "F1_Score         0.762538        0.748751  \n",
              "Precision        0.816878        0.814917  \n",
              "Recall           0.760976        0.745898  "
            ],
            "text/html": [
              "\n",
              "  <div id=\"df-d92d2eb8-f284-4260-b2a2-b3dfeae8fce4\">\n",
              "    <div class=\"colab-df-container\">\n",
              "      <div>\n",
              "<style scoped>\n",
              "    .dataframe tbody tr th:only-of-type {\n",
              "        vertical-align: middle;\n",
              "    }\n",
              "\n",
              "    .dataframe tbody tr th {\n",
              "        vertical-align: top;\n",
              "    }\n",
              "\n",
              "    .dataframe thead th {\n",
              "        text-align: right;\n",
              "    }\n",
              "</style>\n",
              "<table border=\"1\" class=\"dataframe\">\n",
              "  <thead>\n",
              "    <tr style=\"text-align: right;\">\n",
              "      <th></th>\n",
              "      <th>KNN Classifier</th>\n",
              "      <th>SVC Classifier</th>\n",
              "      <th>Logistic Classifier</th>\n",
              "      <th>MLP Classifier</th>\n",
              "      <th>SGD Classifier</th>\n",
              "    </tr>\n",
              "  </thead>\n",
              "  <tbody>\n",
              "    <tr>\n",
              "      <th>Accuracy</th>\n",
              "      <td>0.742350</td>\n",
              "      <td>0.749889</td>\n",
              "      <td>0.750776</td>\n",
              "      <td>0.760976</td>\n",
              "      <td>0.745898</td>\n",
              "    </tr>\n",
              "    <tr>\n",
              "      <th>F1_Score</th>\n",
              "      <td>0.745796</td>\n",
              "      <td>0.752330</td>\n",
              "      <td>0.753045</td>\n",
              "      <td>0.762538</td>\n",
              "      <td>0.748751</td>\n",
              "    </tr>\n",
              "    <tr>\n",
              "      <th>Precision</th>\n",
              "      <td>0.817301</td>\n",
              "      <td>0.814861</td>\n",
              "      <td>0.813865</td>\n",
              "      <td>0.816878</td>\n",
              "      <td>0.814917</td>\n",
              "    </tr>\n",
              "    <tr>\n",
              "      <th>Recall</th>\n",
              "      <td>0.742350</td>\n",
              "      <td>0.749889</td>\n",
              "      <td>0.750776</td>\n",
              "      <td>0.760976</td>\n",
              "      <td>0.745898</td>\n",
              "    </tr>\n",
              "  </tbody>\n",
              "</table>\n",
              "</div>\n",
              "      <button class=\"colab-df-convert\" onclick=\"convertToInteractive('df-d92d2eb8-f284-4260-b2a2-b3dfeae8fce4')\"\n",
              "              title=\"Convert this dataframe to an interactive table.\"\n",
              "              style=\"display:none;\">\n",
              "        \n",
              "  <svg xmlns=\"http://www.w3.org/2000/svg\" height=\"24px\"viewBox=\"0 0 24 24\"\n",
              "       width=\"24px\">\n",
              "    <path d=\"M0 0h24v24H0V0z\" fill=\"none\"/>\n",
              "    <path d=\"M18.56 5.44l.94 2.06.94-2.06 2.06-.94-2.06-.94-.94-2.06-.94 2.06-2.06.94zm-11 1L8.5 8.5l.94-2.06 2.06-.94-2.06-.94L8.5 2.5l-.94 2.06-2.06.94zm10 10l.94 2.06.94-2.06 2.06-.94-2.06-.94-.94-2.06-.94 2.06-2.06.94z\"/><path d=\"M17.41 7.96l-1.37-1.37c-.4-.4-.92-.59-1.43-.59-.52 0-1.04.2-1.43.59L10.3 9.45l-7.72 7.72c-.78.78-.78 2.05 0 2.83L4 21.41c.39.39.9.59 1.41.59.51 0 1.02-.2 1.41-.59l7.78-7.78 2.81-2.81c.8-.78.8-2.07 0-2.86zM5.41 20L4 18.59l7.72-7.72 1.47 1.35L5.41 20z\"/>\n",
              "  </svg>\n",
              "      </button>\n",
              "      \n",
              "  <style>\n",
              "    .colab-df-container {\n",
              "      display:flex;\n",
              "      flex-wrap:wrap;\n",
              "      gap: 12px;\n",
              "    }\n",
              "\n",
              "    .colab-df-convert {\n",
              "      background-color: #E8F0FE;\n",
              "      border: none;\n",
              "      border-radius: 50%;\n",
              "      cursor: pointer;\n",
              "      display: none;\n",
              "      fill: #1967D2;\n",
              "      height: 32px;\n",
              "      padding: 0 0 0 0;\n",
              "      width: 32px;\n",
              "    }\n",
              "\n",
              "    .colab-df-convert:hover {\n",
              "      background-color: #E2EBFA;\n",
              "      box-shadow: 0px 1px 2px rgba(60, 64, 67, 0.3), 0px 1px 3px 1px rgba(60, 64, 67, 0.15);\n",
              "      fill: #174EA6;\n",
              "    }\n",
              "\n",
              "    [theme=dark] .colab-df-convert {\n",
              "      background-color: #3B4455;\n",
              "      fill: #D2E3FC;\n",
              "    }\n",
              "\n",
              "    [theme=dark] .colab-df-convert:hover {\n",
              "      background-color: #434B5C;\n",
              "      box-shadow: 0px 1px 3px 1px rgba(0, 0, 0, 0.15);\n",
              "      filter: drop-shadow(0px 1px 2px rgba(0, 0, 0, 0.3));\n",
              "      fill: #FFFFFF;\n",
              "    }\n",
              "  </style>\n",
              "\n",
              "      <script>\n",
              "        const buttonEl =\n",
              "          document.querySelector('#df-d92d2eb8-f284-4260-b2a2-b3dfeae8fce4 button.colab-df-convert');\n",
              "        buttonEl.style.display =\n",
              "          google.colab.kernel.accessAllowed ? 'block' : 'none';\n",
              "\n",
              "        async function convertToInteractive(key) {\n",
              "          const element = document.querySelector('#df-d92d2eb8-f284-4260-b2a2-b3dfeae8fce4');\n",
              "          const dataTable =\n",
              "            await google.colab.kernel.invokeFunction('convertToInteractive',\n",
              "                                                     [key], {});\n",
              "          if (!dataTable) return;\n",
              "\n",
              "          const docLinkHtml = 'Like what you see? Visit the ' +\n",
              "            '<a target=\"_blank\" href=https://colab.research.google.com/notebooks/data_table.ipynb>data table notebook</a>'\n",
              "            + ' to learn more about interactive tables.';\n",
              "          element.innerHTML = '';\n",
              "          dataTable['output_type'] = 'display_data';\n",
              "          await google.colab.output.renderOutput(dataTable, element);\n",
              "          const docLink = document.createElement('div');\n",
              "          docLink.innerHTML = docLinkHtml;\n",
              "          element.appendChild(docLink);\n",
              "        }\n",
              "      </script>\n",
              "    </div>\n",
              "  </div>\n",
              "  "
            ]
          },
          "metadata": {},
          "execution_count": 30
        }
      ],
      "source": [
        "sgd_classifier = [accuracy5, f1_score5, precision5, recall5]\n",
        "final_matrix[\"SGD Classifier\"] = sgd_classifier\n",
        "final_matrix"
      ]
    },
    {
      "cell_type": "code",
      "execution_count": null,
      "metadata": {
        "colab": {
          "base_uri": "https://localhost:8080/"
        },
        "id": "UvFzuEahtVQc",
        "outputId": "e91aa027-a589-4e74-b2a1-bcd3a11dbe22"
      },
      "outputs": [
        {
          "output_type": "stream",
          "name": "stdout",
          "text": [
            "Classifier trained in 0.275 seconds.\n"
          ]
        }
      ],
      "source": [
        "#Gaussian NB Classifier\n",
        "from sklearn.naive_bayes import GaussianNB\n",
        "\n",
        "#Training a classifier\n",
        "clf6 = GaussianNB()\n",
        "t0 = time()\n",
        "clf6.fit(features, labels)\n",
        "tt = time() - t0\n",
        "print (\"Classifier trained in {} seconds.\".format(round(tt, 3)))"
      ]
    },
    {
      "cell_type": "code",
      "execution_count": null,
      "metadata": {
        "colab": {
          "base_uri": "https://localhost:8080/"
        },
        "id": "r6QGH9Q1wAac",
        "outputId": "c79a3159-89e6-46e2-e956-3124072af2ef"
      },
      "outputs": [
        {
          "output_type": "stream",
          "name": "stdout",
          "text": [
            "Predicted in 0.004 seconds\n"
          ]
        },
        {
          "output_type": "stream",
          "name": "stderr",
          "text": [
            "/usr/local/lib/python3.7/dist-packages/sklearn/base.py:444: UserWarning: X has feature names, but GaussianNB was fitted without feature names\n",
            "  f\"X has feature names, but {self.__class__.__name__} was fitted without\"\n"
          ]
        }
      ],
      "source": [
        "#Predictions on the test data\n",
        "clf6.fit(features, labels)\n",
        "t0 = time()\n",
        "pred = clf6.predict(features_test)\n",
        "tt = time() - t0\n",
        "print (\"Predicted in {} seconds\".format(round(tt,3)))"
      ]
    },
    {
      "cell_type": "code",
      "execution_count": null,
      "metadata": {
        "colab": {
          "base_uri": "https://localhost:8080/"
        },
        "id": "m0stUAZJwIgj",
        "outputId": "39e7b208-f2c5-44f4-fa0d-90be350f15a7"
      },
      "outputs": [
        {
          "output_type": "stream",
          "name": "stdout",
          "text": [
            "Accuracy is 0.5796.\n",
            "F1 Score is 0.5884.\n",
            "Precision is 0.6053.\n",
            "Recall is 0.5796.\n"
          ]
        }
      ],
      "source": [
        "#Calculating out the accuracy\n",
        "accuracy6 = accuracy_score(pred, labels_test)\n",
        "f1_score6 = f1_score(pred, labels_test,average='weighted')\n",
        "precision6 = precision_score(pred, labels_test, average='weighted')\n",
        "recall6 = recall_score(pred, labels_test, average='weighted')\n",
        "print (\"Accuracy is {}.\".format(round(accuracy6,4)))\n",
        "print (\"F1 Score is {}.\".format(round(f1_score6,4)))\n",
        "print (\"Precision is {}.\".format(round(precision6,4)))\n",
        "print (\"Recall is {}.\".format(round(recall6,4)))"
      ]
    },
    {
      "cell_type": "code",
      "execution_count": null,
      "metadata": {
        "colab": {
          "base_uri": "https://localhost:8080/",
          "height": 174
        },
        "id": "eu66bKwDwR5f",
        "outputId": "637f7d1d-a7e9-4769-ec8f-64251537aa42"
      },
      "outputs": [
        {
          "output_type": "execute_result",
          "data": {
            "text/plain": [
              "           KNN Classifier  SVC Classifier  Logistic Classifier  \\\n",
              "Accuracy         0.742350        0.749889             0.750776   \n",
              "F1_Score         0.745796        0.752330             0.753045   \n",
              "Precision        0.817301        0.814861             0.813865   \n",
              "Recall           0.742350        0.749889             0.750776   \n",
              "\n",
              "           MLP Classifier  SGD Classifier  Gaussian Classifier  \n",
              "Accuracy         0.760976        0.745898             0.579601  \n",
              "F1_Score         0.762538        0.748751             0.588449  \n",
              "Precision        0.816878        0.814917             0.605302  \n",
              "Recall           0.760976        0.745898             0.579601  "
            ],
            "text/html": [
              "\n",
              "  <div id=\"df-11359396-6a59-4c88-bf60-ad6ff8b29f91\">\n",
              "    <div class=\"colab-df-container\">\n",
              "      <div>\n",
              "<style scoped>\n",
              "    .dataframe tbody tr th:only-of-type {\n",
              "        vertical-align: middle;\n",
              "    }\n",
              "\n",
              "    .dataframe tbody tr th {\n",
              "        vertical-align: top;\n",
              "    }\n",
              "\n",
              "    .dataframe thead th {\n",
              "        text-align: right;\n",
              "    }\n",
              "</style>\n",
              "<table border=\"1\" class=\"dataframe\">\n",
              "  <thead>\n",
              "    <tr style=\"text-align: right;\">\n",
              "      <th></th>\n",
              "      <th>KNN Classifier</th>\n",
              "      <th>SVC Classifier</th>\n",
              "      <th>Logistic Classifier</th>\n",
              "      <th>MLP Classifier</th>\n",
              "      <th>SGD Classifier</th>\n",
              "      <th>Gaussian Classifier</th>\n",
              "    </tr>\n",
              "  </thead>\n",
              "  <tbody>\n",
              "    <tr>\n",
              "      <th>Accuracy</th>\n",
              "      <td>0.742350</td>\n",
              "      <td>0.749889</td>\n",
              "      <td>0.750776</td>\n",
              "      <td>0.760976</td>\n",
              "      <td>0.745898</td>\n",
              "      <td>0.579601</td>\n",
              "    </tr>\n",
              "    <tr>\n",
              "      <th>F1_Score</th>\n",
              "      <td>0.745796</td>\n",
              "      <td>0.752330</td>\n",
              "      <td>0.753045</td>\n",
              "      <td>0.762538</td>\n",
              "      <td>0.748751</td>\n",
              "      <td>0.588449</td>\n",
              "    </tr>\n",
              "    <tr>\n",
              "      <th>Precision</th>\n",
              "      <td>0.817301</td>\n",
              "      <td>0.814861</td>\n",
              "      <td>0.813865</td>\n",
              "      <td>0.816878</td>\n",
              "      <td>0.814917</td>\n",
              "      <td>0.605302</td>\n",
              "    </tr>\n",
              "    <tr>\n",
              "      <th>Recall</th>\n",
              "      <td>0.742350</td>\n",
              "      <td>0.749889</td>\n",
              "      <td>0.750776</td>\n",
              "      <td>0.760976</td>\n",
              "      <td>0.745898</td>\n",
              "      <td>0.579601</td>\n",
              "    </tr>\n",
              "  </tbody>\n",
              "</table>\n",
              "</div>\n",
              "      <button class=\"colab-df-convert\" onclick=\"convertToInteractive('df-11359396-6a59-4c88-bf60-ad6ff8b29f91')\"\n",
              "              title=\"Convert this dataframe to an interactive table.\"\n",
              "              style=\"display:none;\">\n",
              "        \n",
              "  <svg xmlns=\"http://www.w3.org/2000/svg\" height=\"24px\"viewBox=\"0 0 24 24\"\n",
              "       width=\"24px\">\n",
              "    <path d=\"M0 0h24v24H0V0z\" fill=\"none\"/>\n",
              "    <path d=\"M18.56 5.44l.94 2.06.94-2.06 2.06-.94-2.06-.94-.94-2.06-.94 2.06-2.06.94zm-11 1L8.5 8.5l.94-2.06 2.06-.94-2.06-.94L8.5 2.5l-.94 2.06-2.06.94zm10 10l.94 2.06.94-2.06 2.06-.94-2.06-.94-.94-2.06-.94 2.06-2.06.94z\"/><path d=\"M17.41 7.96l-1.37-1.37c-.4-.4-.92-.59-1.43-.59-.52 0-1.04.2-1.43.59L10.3 9.45l-7.72 7.72c-.78.78-.78 2.05 0 2.83L4 21.41c.39.39.9.59 1.41.59.51 0 1.02-.2 1.41-.59l7.78-7.78 2.81-2.81c.8-.78.8-2.07 0-2.86zM5.41 20L4 18.59l7.72-7.72 1.47 1.35L5.41 20z\"/>\n",
              "  </svg>\n",
              "      </button>\n",
              "      \n",
              "  <style>\n",
              "    .colab-df-container {\n",
              "      display:flex;\n",
              "      flex-wrap:wrap;\n",
              "      gap: 12px;\n",
              "    }\n",
              "\n",
              "    .colab-df-convert {\n",
              "      background-color: #E8F0FE;\n",
              "      border: none;\n",
              "      border-radius: 50%;\n",
              "      cursor: pointer;\n",
              "      display: none;\n",
              "      fill: #1967D2;\n",
              "      height: 32px;\n",
              "      padding: 0 0 0 0;\n",
              "      width: 32px;\n",
              "    }\n",
              "\n",
              "    .colab-df-convert:hover {\n",
              "      background-color: #E2EBFA;\n",
              "      box-shadow: 0px 1px 2px rgba(60, 64, 67, 0.3), 0px 1px 3px 1px rgba(60, 64, 67, 0.15);\n",
              "      fill: #174EA6;\n",
              "    }\n",
              "\n",
              "    [theme=dark] .colab-df-convert {\n",
              "      background-color: #3B4455;\n",
              "      fill: #D2E3FC;\n",
              "    }\n",
              "\n",
              "    [theme=dark] .colab-df-convert:hover {\n",
              "      background-color: #434B5C;\n",
              "      box-shadow: 0px 1px 3px 1px rgba(0, 0, 0, 0.15);\n",
              "      filter: drop-shadow(0px 1px 2px rgba(0, 0, 0, 0.3));\n",
              "      fill: #FFFFFF;\n",
              "    }\n",
              "  </style>\n",
              "\n",
              "      <script>\n",
              "        const buttonEl =\n",
              "          document.querySelector('#df-11359396-6a59-4c88-bf60-ad6ff8b29f91 button.colab-df-convert');\n",
              "        buttonEl.style.display =\n",
              "          google.colab.kernel.accessAllowed ? 'block' : 'none';\n",
              "\n",
              "        async function convertToInteractive(key) {\n",
              "          const element = document.querySelector('#df-11359396-6a59-4c88-bf60-ad6ff8b29f91');\n",
              "          const dataTable =\n",
              "            await google.colab.kernel.invokeFunction('convertToInteractive',\n",
              "                                                     [key], {});\n",
              "          if (!dataTable) return;\n",
              "\n",
              "          const docLinkHtml = 'Like what you see? Visit the ' +\n",
              "            '<a target=\"_blank\" href=https://colab.research.google.com/notebooks/data_table.ipynb>data table notebook</a>'\n",
              "            + ' to learn more about interactive tables.';\n",
              "          element.innerHTML = '';\n",
              "          dataTable['output_type'] = 'display_data';\n",
              "          await google.colab.output.renderOutput(dataTable, element);\n",
              "          const docLink = document.createElement('div');\n",
              "          docLink.innerHTML = docLinkHtml;\n",
              "          element.appendChild(docLink);\n",
              "        }\n",
              "      </script>\n",
              "    </div>\n",
              "  </div>\n",
              "  "
            ]
          },
          "metadata": {},
          "execution_count": 34
        }
      ],
      "source": [
        "gaussian_classifier = [accuracy6, f1_score6, precision6, recall6]\n",
        "final_matrix[\"Gaussian Classifier\"] = gaussian_classifier\n",
        "final_matrix"
      ]
    },
    {
      "cell_type": "code",
      "execution_count": null,
      "metadata": {
        "colab": {
          "base_uri": "https://localhost:8080/"
        },
        "id": "L5cgAKDIwsMH",
        "outputId": "29f82feb-7bef-4538-a123-b47a3763ab2d"
      },
      "outputs": [
        {
          "output_type": "stream",
          "name": "stdout",
          "text": [
            "Classifier trained in 1.388 seconds.\n"
          ]
        }
      ],
      "source": [
        "#Decision Tree Classifier\n",
        "from sklearn.tree import DecisionTreeClassifier\n",
        "\n",
        "#Training a classifier\n",
        "clf7 = DecisionTreeClassifier(random_state=0)\n",
        "t0 = time()\n",
        "clf7.fit(features, labels)\n",
        "tt = time() - t0\n",
        "print (\"Classifier trained in {} seconds.\".format(round(tt, 3)))"
      ]
    },
    {
      "cell_type": "code",
      "execution_count": null,
      "metadata": {
        "colab": {
          "base_uri": "https://localhost:8080/"
        },
        "id": "WNFixg2uw8fR",
        "outputId": "37504ccc-0b30-42fc-e2f1-65cb23939b53"
      },
      "outputs": [
        {
          "output_type": "stream",
          "name": "stdout",
          "text": [
            "Predicted in 0.004 seconds\n"
          ]
        },
        {
          "output_type": "stream",
          "name": "stderr",
          "text": [
            "/usr/local/lib/python3.7/dist-packages/sklearn/base.py:444: UserWarning: X has feature names, but DecisionTreeClassifier was fitted without feature names\n",
            "  f\"X has feature names, but {self.__class__.__name__} was fitted without\"\n"
          ]
        }
      ],
      "source": [
        "#Predictions on the test data\n",
        "clf7.fit(features, labels)\n",
        "t0 = time()\n",
        "pred = clf7.predict(features_test)\n",
        "tt = time() - t0\n",
        "print (\"Predicted in {} seconds\".format(round(tt,3)))"
      ]
    },
    {
      "cell_type": "code",
      "execution_count": null,
      "metadata": {
        "colab": {
          "base_uri": "https://localhost:8080/"
        },
        "id": "leZcercOxBj7",
        "outputId": "aa02bcee-f8d9-4142-a3ba-7b23f4be9d47"
      },
      "outputs": [
        {
          "output_type": "stream",
          "name": "stdout",
          "text": [
            "Accuracy is 0.7863.\n",
            "F1 Score is 0.7863.\n",
            "Precision is 0.822.\n",
            "Recall is 0.7863.\n"
          ]
        }
      ],
      "source": [
        "#Calculating out the accuracy\n",
        "accuracy7 = accuracy_score(pred, labels_test)\n",
        "f1_score7 = f1_score(pred, labels_test,average='weighted')\n",
        "precision7 = precision_score(pred, labels_test, average='weighted')\n",
        "recall7 = recall_score(pred, labels_test, average='weighted')\n",
        "print (\"Accuracy is {}.\".format(round(accuracy7,4)))\n",
        "print (\"F1 Score is {}.\".format(round(f1_score7,4)))\n",
        "print (\"Precision is {}.\".format(round(precision7,4)))\n",
        "print (\"Recall is {}.\".format(round(recall7,4)))"
      ]
    },
    {
      "cell_type": "code",
      "execution_count": null,
      "metadata": {
        "colab": {
          "base_uri": "https://localhost:8080/",
          "height": 174
        },
        "id": "dHgQq1RbxIsX",
        "outputId": "52491c77-02ff-477b-f960-3963682a9031"
      },
      "outputs": [
        {
          "output_type": "execute_result",
          "data": {
            "text/plain": [
              "           KNN Classifier  SVC Classifier  Logistic Classifier  \\\n",
              "Accuracy         0.742350        0.749889             0.750776   \n",
              "F1_Score         0.745796        0.752330             0.753045   \n",
              "Precision        0.817301        0.814861             0.813865   \n",
              "Recall           0.742350        0.749889             0.750776   \n",
              "\n",
              "           MLP Classifier  SGD Classifier  Gaussian Classifier  \\\n",
              "Accuracy         0.760976        0.745898             0.579601   \n",
              "F1_Score         0.762538        0.748751             0.588449   \n",
              "Precision        0.816878        0.814917             0.605302   \n",
              "Recall           0.760976        0.745898             0.579601   \n",
              "\n",
              "           Decision Tree Classifier  \n",
              "Accuracy                   0.786253  \n",
              "F1_Score                   0.786267  \n",
              "Precision                  0.821982  \n",
              "Recall                     0.786253  "
            ],
            "text/html": [
              "\n",
              "  <div id=\"df-a0bf644a-77c9-46ce-9c34-d9b52c815c8d\">\n",
              "    <div class=\"colab-df-container\">\n",
              "      <div>\n",
              "<style scoped>\n",
              "    .dataframe tbody tr th:only-of-type {\n",
              "        vertical-align: middle;\n",
              "    }\n",
              "\n",
              "    .dataframe tbody tr th {\n",
              "        vertical-align: top;\n",
              "    }\n",
              "\n",
              "    .dataframe thead th {\n",
              "        text-align: right;\n",
              "    }\n",
              "</style>\n",
              "<table border=\"1\" class=\"dataframe\">\n",
              "  <thead>\n",
              "    <tr style=\"text-align: right;\">\n",
              "      <th></th>\n",
              "      <th>KNN Classifier</th>\n",
              "      <th>SVC Classifier</th>\n",
              "      <th>Logistic Classifier</th>\n",
              "      <th>MLP Classifier</th>\n",
              "      <th>SGD Classifier</th>\n",
              "      <th>Gaussian Classifier</th>\n",
              "      <th>Decision Tree Classifier</th>\n",
              "    </tr>\n",
              "  </thead>\n",
              "  <tbody>\n",
              "    <tr>\n",
              "      <th>Accuracy</th>\n",
              "      <td>0.742350</td>\n",
              "      <td>0.749889</td>\n",
              "      <td>0.750776</td>\n",
              "      <td>0.760976</td>\n",
              "      <td>0.745898</td>\n",
              "      <td>0.579601</td>\n",
              "      <td>0.786253</td>\n",
              "    </tr>\n",
              "    <tr>\n",
              "      <th>F1_Score</th>\n",
              "      <td>0.745796</td>\n",
              "      <td>0.752330</td>\n",
              "      <td>0.753045</td>\n",
              "      <td>0.762538</td>\n",
              "      <td>0.748751</td>\n",
              "      <td>0.588449</td>\n",
              "      <td>0.786267</td>\n",
              "    </tr>\n",
              "    <tr>\n",
              "      <th>Precision</th>\n",
              "      <td>0.817301</td>\n",
              "      <td>0.814861</td>\n",
              "      <td>0.813865</td>\n",
              "      <td>0.816878</td>\n",
              "      <td>0.814917</td>\n",
              "      <td>0.605302</td>\n",
              "      <td>0.821982</td>\n",
              "    </tr>\n",
              "    <tr>\n",
              "      <th>Recall</th>\n",
              "      <td>0.742350</td>\n",
              "      <td>0.749889</td>\n",
              "      <td>0.750776</td>\n",
              "      <td>0.760976</td>\n",
              "      <td>0.745898</td>\n",
              "      <td>0.579601</td>\n",
              "      <td>0.786253</td>\n",
              "    </tr>\n",
              "  </tbody>\n",
              "</table>\n",
              "</div>\n",
              "      <button class=\"colab-df-convert\" onclick=\"convertToInteractive('df-a0bf644a-77c9-46ce-9c34-d9b52c815c8d')\"\n",
              "              title=\"Convert this dataframe to an interactive table.\"\n",
              "              style=\"display:none;\">\n",
              "        \n",
              "  <svg xmlns=\"http://www.w3.org/2000/svg\" height=\"24px\"viewBox=\"0 0 24 24\"\n",
              "       width=\"24px\">\n",
              "    <path d=\"M0 0h24v24H0V0z\" fill=\"none\"/>\n",
              "    <path d=\"M18.56 5.44l.94 2.06.94-2.06 2.06-.94-2.06-.94-.94-2.06-.94 2.06-2.06.94zm-11 1L8.5 8.5l.94-2.06 2.06-.94-2.06-.94L8.5 2.5l-.94 2.06-2.06.94zm10 10l.94 2.06.94-2.06 2.06-.94-2.06-.94-.94-2.06-.94 2.06-2.06.94z\"/><path d=\"M17.41 7.96l-1.37-1.37c-.4-.4-.92-.59-1.43-.59-.52 0-1.04.2-1.43.59L10.3 9.45l-7.72 7.72c-.78.78-.78 2.05 0 2.83L4 21.41c.39.39.9.59 1.41.59.51 0 1.02-.2 1.41-.59l7.78-7.78 2.81-2.81c.8-.78.8-2.07 0-2.86zM5.41 20L4 18.59l7.72-7.72 1.47 1.35L5.41 20z\"/>\n",
              "  </svg>\n",
              "      </button>\n",
              "      \n",
              "  <style>\n",
              "    .colab-df-container {\n",
              "      display:flex;\n",
              "      flex-wrap:wrap;\n",
              "      gap: 12px;\n",
              "    }\n",
              "\n",
              "    .colab-df-convert {\n",
              "      background-color: #E8F0FE;\n",
              "      border: none;\n",
              "      border-radius: 50%;\n",
              "      cursor: pointer;\n",
              "      display: none;\n",
              "      fill: #1967D2;\n",
              "      height: 32px;\n",
              "      padding: 0 0 0 0;\n",
              "      width: 32px;\n",
              "    }\n",
              "\n",
              "    .colab-df-convert:hover {\n",
              "      background-color: #E2EBFA;\n",
              "      box-shadow: 0px 1px 2px rgba(60, 64, 67, 0.3), 0px 1px 3px 1px rgba(60, 64, 67, 0.15);\n",
              "      fill: #174EA6;\n",
              "    }\n",
              "\n",
              "    [theme=dark] .colab-df-convert {\n",
              "      background-color: #3B4455;\n",
              "      fill: #D2E3FC;\n",
              "    }\n",
              "\n",
              "    [theme=dark] .colab-df-convert:hover {\n",
              "      background-color: #434B5C;\n",
              "      box-shadow: 0px 1px 3px 1px rgba(0, 0, 0, 0.15);\n",
              "      filter: drop-shadow(0px 1px 2px rgba(0, 0, 0, 0.3));\n",
              "      fill: #FFFFFF;\n",
              "    }\n",
              "  </style>\n",
              "\n",
              "      <script>\n",
              "        const buttonEl =\n",
              "          document.querySelector('#df-a0bf644a-77c9-46ce-9c34-d9b52c815c8d button.colab-df-convert');\n",
              "        buttonEl.style.display =\n",
              "          google.colab.kernel.accessAllowed ? 'block' : 'none';\n",
              "\n",
              "        async function convertToInteractive(key) {\n",
              "          const element = document.querySelector('#df-a0bf644a-77c9-46ce-9c34-d9b52c815c8d');\n",
              "          const dataTable =\n",
              "            await google.colab.kernel.invokeFunction('convertToInteractive',\n",
              "                                                     [key], {});\n",
              "          if (!dataTable) return;\n",
              "\n",
              "          const docLinkHtml = 'Like what you see? Visit the ' +\n",
              "            '<a target=\"_blank\" href=https://colab.research.google.com/notebooks/data_table.ipynb>data table notebook</a>'\n",
              "            + ' to learn more about interactive tables.';\n",
              "          element.innerHTML = '';\n",
              "          dataTable['output_type'] = 'display_data';\n",
              "          await google.colab.output.renderOutput(dataTable, element);\n",
              "          const docLink = document.createElement('div');\n",
              "          docLink.innerHTML = docLinkHtml;\n",
              "          element.appendChild(docLink);\n",
              "        }\n",
              "      </script>\n",
              "    </div>\n",
              "  </div>\n",
              "  "
            ]
          },
          "metadata": {},
          "execution_count": 38
        }
      ],
      "source": [
        "decision_classifier = [accuracy7, f1_score7, precision7, recall7]\n",
        "final_matrix[\"Decision Tree Classifier\"] = decision_classifier\n",
        "final_matrix"
      ]
    },
    {
      "cell_type": "code",
      "execution_count": null,
      "metadata": {
        "colab": {
          "base_uri": "https://localhost:8080/"
        },
        "id": "Z9k8PkprxabI",
        "outputId": "4c8489c6-fefd-4b5b-cdef-7ffa5e278b9d"
      },
      "outputs": [
        {
          "output_type": "stream",
          "name": "stdout",
          "text": [
            "Classifier trained in 14.985 seconds.\n"
          ]
        }
      ],
      "source": [
        "#AdaBoost Classifier\n",
        "from sklearn.ensemble import AdaBoostClassifier\n",
        "\n",
        "#Training a classifier\n",
        "clf8 = AdaBoostClassifier()\n",
        "t0 = time()\n",
        "clf8.fit(features, labels)\n",
        "tt = time() - t0\n",
        "print (\"Classifier trained in {} seconds.\".format(round(tt, 3)))"
      ]
    },
    {
      "cell_type": "code",
      "execution_count": null,
      "metadata": {
        "colab": {
          "base_uri": "https://localhost:8080/"
        },
        "id": "jp_8s4rvxjBg",
        "outputId": "2e0680b5-0b6c-44a3-c3f5-9d291a5098b3"
      },
      "outputs": [
        {
          "output_type": "stream",
          "name": "stdout",
          "text": [
            "Predicted in 0.037 seconds\n"
          ]
        },
        {
          "output_type": "stream",
          "name": "stderr",
          "text": [
            "/usr/local/lib/python3.7/dist-packages/sklearn/base.py:444: UserWarning: X has feature names, but AdaBoostClassifier was fitted without feature names\n",
            "  f\"X has feature names, but {self.__class__.__name__} was fitted without\"\n"
          ]
        }
      ],
      "source": [
        "#Predictions on the test data\n",
        "clf8.fit(features, labels)\n",
        "t0 = time()\n",
        "pred = clf8.predict(features_test)\n",
        "tt = time() - t0\n",
        "print (\"Predicted in {} seconds\".format(round(tt,3)))"
      ]
    },
    {
      "cell_type": "code",
      "execution_count": null,
      "metadata": {
        "colab": {
          "base_uri": "https://localhost:8080/"
        },
        "id": "BL6aQOB7xrKB",
        "outputId": "585d18b0-6c95-48dc-8f8e-68b522ceae17"
      },
      "outputs": [
        {
          "output_type": "stream",
          "name": "stdout",
          "text": [
            "Accuracy is 0.7783.\n",
            "F1 Score is 0.7788.\n",
            "Precision is 0.8212.\n",
            "Recall is 0.7783.\n"
          ]
        }
      ],
      "source": [
        "#Calculating out the accuracy\n",
        "accuracy8 = accuracy_score(pred, labels_test)\n",
        "f1_score8 = f1_score(pred, labels_test,average='weighted')\n",
        "precision8 = precision_score(pred, labels_test, average='weighted')\n",
        "recall8 = recall_score(pred, labels_test, average='weighted')\n",
        "print (\"Accuracy is {}.\".format(round(accuracy8,4)))\n",
        "print (\"F1 Score is {}.\".format(round(f1_score8,4)))\n",
        "print (\"Precision is {}.\".format(round(precision8,4)))\n",
        "print (\"Recall is {}.\".format(round(recall8,4)))"
      ]
    },
    {
      "cell_type": "code",
      "execution_count": null,
      "metadata": {
        "colab": {
          "base_uri": "https://localhost:8080/",
          "height": 174
        },
        "id": "_F56t7Uzxwux",
        "outputId": "2cface13-90ef-4796-f6c6-adb3d8a4917d"
      },
      "outputs": [
        {
          "output_type": "execute_result",
          "data": {
            "text/plain": [
              "           KNN Classifier  SVC Classifier  Logistic Classifier  \\\n",
              "Accuracy         0.742350        0.749889             0.750776   \n",
              "F1_Score         0.745796        0.752330             0.753045   \n",
              "Precision        0.817301        0.814861             0.813865   \n",
              "Recall           0.742350        0.749889             0.750776   \n",
              "\n",
              "           MLP Classifier  SGD Classifier  Gaussian Classifier  \\\n",
              "Accuracy         0.760976        0.745898             0.579601   \n",
              "F1_Score         0.762538        0.748751             0.588449   \n",
              "Precision        0.816878        0.814917             0.605302   \n",
              "Recall           0.760976        0.745898             0.579601   \n",
              "\n",
              "           Decision Tree Classifier  AdaBoost Classifier  \n",
              "Accuracy                   0.786253             0.778271  \n",
              "F1_Score                   0.786267             0.778765  \n",
              "Precision                  0.821982             0.821212  \n",
              "Recall                     0.786253             0.778271  "
            ],
            "text/html": [
              "\n",
              "  <div id=\"df-8c876665-ffa1-47f6-94a7-7b0c9c594575\">\n",
              "    <div class=\"colab-df-container\">\n",
              "      <div>\n",
              "<style scoped>\n",
              "    .dataframe tbody tr th:only-of-type {\n",
              "        vertical-align: middle;\n",
              "    }\n",
              "\n",
              "    .dataframe tbody tr th {\n",
              "        vertical-align: top;\n",
              "    }\n",
              "\n",
              "    .dataframe thead th {\n",
              "        text-align: right;\n",
              "    }\n",
              "</style>\n",
              "<table border=\"1\" class=\"dataframe\">\n",
              "  <thead>\n",
              "    <tr style=\"text-align: right;\">\n",
              "      <th></th>\n",
              "      <th>KNN Classifier</th>\n",
              "      <th>SVC Classifier</th>\n",
              "      <th>Logistic Classifier</th>\n",
              "      <th>MLP Classifier</th>\n",
              "      <th>SGD Classifier</th>\n",
              "      <th>Gaussian Classifier</th>\n",
              "      <th>Decision Tree Classifier</th>\n",
              "      <th>AdaBoost Classifier</th>\n",
              "    </tr>\n",
              "  </thead>\n",
              "  <tbody>\n",
              "    <tr>\n",
              "      <th>Accuracy</th>\n",
              "      <td>0.742350</td>\n",
              "      <td>0.749889</td>\n",
              "      <td>0.750776</td>\n",
              "      <td>0.760976</td>\n",
              "      <td>0.745898</td>\n",
              "      <td>0.579601</td>\n",
              "      <td>0.786253</td>\n",
              "      <td>0.778271</td>\n",
              "    </tr>\n",
              "    <tr>\n",
              "      <th>F1_Score</th>\n",
              "      <td>0.745796</td>\n",
              "      <td>0.752330</td>\n",
              "      <td>0.753045</td>\n",
              "      <td>0.762538</td>\n",
              "      <td>0.748751</td>\n",
              "      <td>0.588449</td>\n",
              "      <td>0.786267</td>\n",
              "      <td>0.778765</td>\n",
              "    </tr>\n",
              "    <tr>\n",
              "      <th>Precision</th>\n",
              "      <td>0.817301</td>\n",
              "      <td>0.814861</td>\n",
              "      <td>0.813865</td>\n",
              "      <td>0.816878</td>\n",
              "      <td>0.814917</td>\n",
              "      <td>0.605302</td>\n",
              "      <td>0.821982</td>\n",
              "      <td>0.821212</td>\n",
              "    </tr>\n",
              "    <tr>\n",
              "      <th>Recall</th>\n",
              "      <td>0.742350</td>\n",
              "      <td>0.749889</td>\n",
              "      <td>0.750776</td>\n",
              "      <td>0.760976</td>\n",
              "      <td>0.745898</td>\n",
              "      <td>0.579601</td>\n",
              "      <td>0.786253</td>\n",
              "      <td>0.778271</td>\n",
              "    </tr>\n",
              "  </tbody>\n",
              "</table>\n",
              "</div>\n",
              "      <button class=\"colab-df-convert\" onclick=\"convertToInteractive('df-8c876665-ffa1-47f6-94a7-7b0c9c594575')\"\n",
              "              title=\"Convert this dataframe to an interactive table.\"\n",
              "              style=\"display:none;\">\n",
              "        \n",
              "  <svg xmlns=\"http://www.w3.org/2000/svg\" height=\"24px\"viewBox=\"0 0 24 24\"\n",
              "       width=\"24px\">\n",
              "    <path d=\"M0 0h24v24H0V0z\" fill=\"none\"/>\n",
              "    <path d=\"M18.56 5.44l.94 2.06.94-2.06 2.06-.94-2.06-.94-.94-2.06-.94 2.06-2.06.94zm-11 1L8.5 8.5l.94-2.06 2.06-.94-2.06-.94L8.5 2.5l-.94 2.06-2.06.94zm10 10l.94 2.06.94-2.06 2.06-.94-2.06-.94-.94-2.06-.94 2.06-2.06.94z\"/><path d=\"M17.41 7.96l-1.37-1.37c-.4-.4-.92-.59-1.43-.59-.52 0-1.04.2-1.43.59L10.3 9.45l-7.72 7.72c-.78.78-.78 2.05 0 2.83L4 21.41c.39.39.9.59 1.41.59.51 0 1.02-.2 1.41-.59l7.78-7.78 2.81-2.81c.8-.78.8-2.07 0-2.86zM5.41 20L4 18.59l7.72-7.72 1.47 1.35L5.41 20z\"/>\n",
              "  </svg>\n",
              "      </button>\n",
              "      \n",
              "  <style>\n",
              "    .colab-df-container {\n",
              "      display:flex;\n",
              "      flex-wrap:wrap;\n",
              "      gap: 12px;\n",
              "    }\n",
              "\n",
              "    .colab-df-convert {\n",
              "      background-color: #E8F0FE;\n",
              "      border: none;\n",
              "      border-radius: 50%;\n",
              "      cursor: pointer;\n",
              "      display: none;\n",
              "      fill: #1967D2;\n",
              "      height: 32px;\n",
              "      padding: 0 0 0 0;\n",
              "      width: 32px;\n",
              "    }\n",
              "\n",
              "    .colab-df-convert:hover {\n",
              "      background-color: #E2EBFA;\n",
              "      box-shadow: 0px 1px 2px rgba(60, 64, 67, 0.3), 0px 1px 3px 1px rgba(60, 64, 67, 0.15);\n",
              "      fill: #174EA6;\n",
              "    }\n",
              "\n",
              "    [theme=dark] .colab-df-convert {\n",
              "      background-color: #3B4455;\n",
              "      fill: #D2E3FC;\n",
              "    }\n",
              "\n",
              "    [theme=dark] .colab-df-convert:hover {\n",
              "      background-color: #434B5C;\n",
              "      box-shadow: 0px 1px 3px 1px rgba(0, 0, 0, 0.15);\n",
              "      filter: drop-shadow(0px 1px 2px rgba(0, 0, 0, 0.3));\n",
              "      fill: #FFFFFF;\n",
              "    }\n",
              "  </style>\n",
              "\n",
              "      <script>\n",
              "        const buttonEl =\n",
              "          document.querySelector('#df-8c876665-ffa1-47f6-94a7-7b0c9c594575 button.colab-df-convert');\n",
              "        buttonEl.style.display =\n",
              "          google.colab.kernel.accessAllowed ? 'block' : 'none';\n",
              "\n",
              "        async function convertToInteractive(key) {\n",
              "          const element = document.querySelector('#df-8c876665-ffa1-47f6-94a7-7b0c9c594575');\n",
              "          const dataTable =\n",
              "            await google.colab.kernel.invokeFunction('convertToInteractive',\n",
              "                                                     [key], {});\n",
              "          if (!dataTable) return;\n",
              "\n",
              "          const docLinkHtml = 'Like what you see? Visit the ' +\n",
              "            '<a target=\"_blank\" href=https://colab.research.google.com/notebooks/data_table.ipynb>data table notebook</a>'\n",
              "            + ' to learn more about interactive tables.';\n",
              "          element.innerHTML = '';\n",
              "          dataTable['output_type'] = 'display_data';\n",
              "          await google.colab.output.renderOutput(dataTable, element);\n",
              "          const docLink = document.createElement('div');\n",
              "          docLink.innerHTML = docLinkHtml;\n",
              "          element.appendChild(docLink);\n",
              "        }\n",
              "      </script>\n",
              "    </div>\n",
              "  </div>\n",
              "  "
            ]
          },
          "metadata": {},
          "execution_count": 42
        }
      ],
      "source": [
        "adaboost_classifier = [accuracy8, f1_score8, precision8, recall8]\n",
        "final_matrix[\"AdaBoost Classifier\"] = adaboost_classifier\n",
        "final_matrix"
      ]
    },
    {
      "cell_type": "code",
      "execution_count": null,
      "metadata": {
        "colab": {
          "base_uri": "https://localhost:8080/"
        },
        "id": "E7M2HfRDysMC",
        "outputId": "ae1c5103-57be-4f8a-eb1f-b96adb479d81"
      },
      "outputs": [
        {
          "output_type": "stream",
          "name": "stdout",
          "text": [
            "Classifier trained in 12.613 seconds.\n"
          ]
        }
      ],
      "source": [
        "#Random Forest Classifier\n",
        "from sklearn.ensemble import RandomForestClassifier\n",
        "\n",
        "clf9 = RandomForestClassifier(random_state = 0)\n",
        "t0 = time()\n",
        "clf9.fit(features, labels)\n",
        "tt = time() - t0\n",
        "print (\"Classifier trained in {} seconds.\".format(round(tt, 3)))"
      ]
    },
    {
      "cell_type": "code",
      "execution_count": null,
      "metadata": {
        "colab": {
          "base_uri": "https://localhost:8080/"
        },
        "id": "_r1MJnuJy6CX",
        "outputId": "edc30b4b-8a25-4086-afd3-dacfcede6b17"
      },
      "outputs": [
        {
          "output_type": "stream",
          "name": "stdout",
          "text": [
            "Predicted in 0.056 seconds\n"
          ]
        },
        {
          "output_type": "stream",
          "name": "stderr",
          "text": [
            "/usr/local/lib/python3.7/dist-packages/sklearn/base.py:444: UserWarning: X has feature names, but RandomForestClassifier was fitted without feature names\n",
            "  f\"X has feature names, but {self.__class__.__name__} was fitted without\"\n"
          ]
        }
      ],
      "source": [
        "#Predictions on the test data\n",
        "clf9.fit(features, labels)\n",
        "t0 = time()\n",
        "pred = clf9.predict(features_test)\n",
        "tt = time() - t0\n",
        "print (\"Predicted in {} seconds\".format(round(tt,3)))"
      ]
    },
    {
      "cell_type": "code",
      "execution_count": null,
      "metadata": {
        "colab": {
          "base_uri": "https://localhost:8080/"
        },
        "id": "RnuE9HCvzAWn",
        "outputId": "f51401cc-cc48-4700-fad9-d8f156a7da6e"
      },
      "outputs": [
        {
          "output_type": "stream",
          "name": "stdout",
          "text": [
            "Accuracy is 0.7397.\n",
            "F1 Score is 0.7427.\n",
            "Precision is 0.8097.\n",
            "Recall is 0.7397.\n"
          ]
        }
      ],
      "source": [
        "#Calculating out the accuracy\n",
        "accuracy9 = accuracy_score(pred, labels_test)\n",
        "f1_score9 = f1_score(pred, labels_test,average='weighted')\n",
        "precision9 = precision_score(pred, labels_test, average='weighted')\n",
        "recall9 = recall_score(pred, labels_test, average='weighted')\n",
        "print (\"Accuracy is {}.\".format(round(accuracy9,4)))\n",
        "print (\"F1 Score is {}.\".format(round(f1_score9,4)))\n",
        "print (\"Precision is {}.\".format(round(precision9,4)))\n",
        "print (\"Recall is {}.\".format(round(recall9,4)))"
      ]
    },
    {
      "cell_type": "code",
      "execution_count": null,
      "metadata": {
        "id": "0PQBf3UHzGZn",
        "colab": {
          "base_uri": "https://localhost:8080/",
          "height": 236
        },
        "outputId": "5161a772-a473-4fbe-d5b4-376ef07baaeb"
      },
      "outputs": [
        {
          "output_type": "execute_result",
          "data": {
            "text/plain": [
              "           KNN Classifier  SVC Classifier  Logistic Classifier  \\\n",
              "Accuracy         0.742350        0.749889             0.750776   \n",
              "F1_Score         0.745796        0.752330             0.753045   \n",
              "Precision        0.817301        0.814861             0.813865   \n",
              "Recall           0.742350        0.749889             0.750776   \n",
              "\n",
              "           MLP Classifier  SGD Classifier  Gaussian Classifier  \\\n",
              "Accuracy         0.760976        0.745898             0.579601   \n",
              "F1_Score         0.762538        0.748751             0.588449   \n",
              "Precision        0.816878        0.814917             0.605302   \n",
              "Recall           0.760976        0.745898             0.579601   \n",
              "\n",
              "           Decision Tree Classifier  AdaBoost Classifier  \\\n",
              "Accuracy                   0.786253             0.778271   \n",
              "F1_Score                   0.786267             0.778765   \n",
              "Precision                  0.821982             0.821212   \n",
              "Recall                     0.786253             0.778271   \n",
              "\n",
              "           Random Forest Classifier  \n",
              "Accuracy                   0.739690  \n",
              "F1_Score                   0.742733  \n",
              "Precision                  0.809668  \n",
              "Recall                     0.739690  "
            ],
            "text/html": [
              "\n",
              "  <div id=\"df-3a207386-01f7-4956-9591-80c295fa5044\">\n",
              "    <div class=\"colab-df-container\">\n",
              "      <div>\n",
              "<style scoped>\n",
              "    .dataframe tbody tr th:only-of-type {\n",
              "        vertical-align: middle;\n",
              "    }\n",
              "\n",
              "    .dataframe tbody tr th {\n",
              "        vertical-align: top;\n",
              "    }\n",
              "\n",
              "    .dataframe thead th {\n",
              "        text-align: right;\n",
              "    }\n",
              "</style>\n",
              "<table border=\"1\" class=\"dataframe\">\n",
              "  <thead>\n",
              "    <tr style=\"text-align: right;\">\n",
              "      <th></th>\n",
              "      <th>KNN Classifier</th>\n",
              "      <th>SVC Classifier</th>\n",
              "      <th>Logistic Classifier</th>\n",
              "      <th>MLP Classifier</th>\n",
              "      <th>SGD Classifier</th>\n",
              "      <th>Gaussian Classifier</th>\n",
              "      <th>Decision Tree Classifier</th>\n",
              "      <th>AdaBoost Classifier</th>\n",
              "      <th>Random Forest Classifier</th>\n",
              "    </tr>\n",
              "  </thead>\n",
              "  <tbody>\n",
              "    <tr>\n",
              "      <th>Accuracy</th>\n",
              "      <td>0.742350</td>\n",
              "      <td>0.749889</td>\n",
              "      <td>0.750776</td>\n",
              "      <td>0.760976</td>\n",
              "      <td>0.745898</td>\n",
              "      <td>0.579601</td>\n",
              "      <td>0.786253</td>\n",
              "      <td>0.778271</td>\n",
              "      <td>0.739690</td>\n",
              "    </tr>\n",
              "    <tr>\n",
              "      <th>F1_Score</th>\n",
              "      <td>0.745796</td>\n",
              "      <td>0.752330</td>\n",
              "      <td>0.753045</td>\n",
              "      <td>0.762538</td>\n",
              "      <td>0.748751</td>\n",
              "      <td>0.588449</td>\n",
              "      <td>0.786267</td>\n",
              "      <td>0.778765</td>\n",
              "      <td>0.742733</td>\n",
              "    </tr>\n",
              "    <tr>\n",
              "      <th>Precision</th>\n",
              "      <td>0.817301</td>\n",
              "      <td>0.814861</td>\n",
              "      <td>0.813865</td>\n",
              "      <td>0.816878</td>\n",
              "      <td>0.814917</td>\n",
              "      <td>0.605302</td>\n",
              "      <td>0.821982</td>\n",
              "      <td>0.821212</td>\n",
              "      <td>0.809668</td>\n",
              "    </tr>\n",
              "    <tr>\n",
              "      <th>Recall</th>\n",
              "      <td>0.742350</td>\n",
              "      <td>0.749889</td>\n",
              "      <td>0.750776</td>\n",
              "      <td>0.760976</td>\n",
              "      <td>0.745898</td>\n",
              "      <td>0.579601</td>\n",
              "      <td>0.786253</td>\n",
              "      <td>0.778271</td>\n",
              "      <td>0.739690</td>\n",
              "    </tr>\n",
              "  </tbody>\n",
              "</table>\n",
              "</div>\n",
              "      <button class=\"colab-df-convert\" onclick=\"convertToInteractive('df-3a207386-01f7-4956-9591-80c295fa5044')\"\n",
              "              title=\"Convert this dataframe to an interactive table.\"\n",
              "              style=\"display:none;\">\n",
              "        \n",
              "  <svg xmlns=\"http://www.w3.org/2000/svg\" height=\"24px\"viewBox=\"0 0 24 24\"\n",
              "       width=\"24px\">\n",
              "    <path d=\"M0 0h24v24H0V0z\" fill=\"none\"/>\n",
              "    <path d=\"M18.56 5.44l.94 2.06.94-2.06 2.06-.94-2.06-.94-.94-2.06-.94 2.06-2.06.94zm-11 1L8.5 8.5l.94-2.06 2.06-.94-2.06-.94L8.5 2.5l-.94 2.06-2.06.94zm10 10l.94 2.06.94-2.06 2.06-.94-2.06-.94-.94-2.06-.94 2.06-2.06.94z\"/><path d=\"M17.41 7.96l-1.37-1.37c-.4-.4-.92-.59-1.43-.59-.52 0-1.04.2-1.43.59L10.3 9.45l-7.72 7.72c-.78.78-.78 2.05 0 2.83L4 21.41c.39.39.9.59 1.41.59.51 0 1.02-.2 1.41-.59l7.78-7.78 2.81-2.81c.8-.78.8-2.07 0-2.86zM5.41 20L4 18.59l7.72-7.72 1.47 1.35L5.41 20z\"/>\n",
              "  </svg>\n",
              "      </button>\n",
              "      \n",
              "  <style>\n",
              "    .colab-df-container {\n",
              "      display:flex;\n",
              "      flex-wrap:wrap;\n",
              "      gap: 12px;\n",
              "    }\n",
              "\n",
              "    .colab-df-convert {\n",
              "      background-color: #E8F0FE;\n",
              "      border: none;\n",
              "      border-radius: 50%;\n",
              "      cursor: pointer;\n",
              "      display: none;\n",
              "      fill: #1967D2;\n",
              "      height: 32px;\n",
              "      padding: 0 0 0 0;\n",
              "      width: 32px;\n",
              "    }\n",
              "\n",
              "    .colab-df-convert:hover {\n",
              "      background-color: #E2EBFA;\n",
              "      box-shadow: 0px 1px 2px rgba(60, 64, 67, 0.3), 0px 1px 3px 1px rgba(60, 64, 67, 0.15);\n",
              "      fill: #174EA6;\n",
              "    }\n",
              "\n",
              "    [theme=dark] .colab-df-convert {\n",
              "      background-color: #3B4455;\n",
              "      fill: #D2E3FC;\n",
              "    }\n",
              "\n",
              "    [theme=dark] .colab-df-convert:hover {\n",
              "      background-color: #434B5C;\n",
              "      box-shadow: 0px 1px 3px 1px rgba(0, 0, 0, 0.15);\n",
              "      filter: drop-shadow(0px 1px 2px rgba(0, 0, 0, 0.3));\n",
              "      fill: #FFFFFF;\n",
              "    }\n",
              "  </style>\n",
              "\n",
              "      <script>\n",
              "        const buttonEl =\n",
              "          document.querySelector('#df-3a207386-01f7-4956-9591-80c295fa5044 button.colab-df-convert');\n",
              "        buttonEl.style.display =\n",
              "          google.colab.kernel.accessAllowed ? 'block' : 'none';\n",
              "\n",
              "        async function convertToInteractive(key) {\n",
              "          const element = document.querySelector('#df-3a207386-01f7-4956-9591-80c295fa5044');\n",
              "          const dataTable =\n",
              "            await google.colab.kernel.invokeFunction('convertToInteractive',\n",
              "                                                     [key], {});\n",
              "          if (!dataTable) return;\n",
              "\n",
              "          const docLinkHtml = 'Like what you see? Visit the ' +\n",
              "            '<a target=\"_blank\" href=https://colab.research.google.com/notebooks/data_table.ipynb>data table notebook</a>'\n",
              "            + ' to learn more about interactive tables.';\n",
              "          element.innerHTML = '';\n",
              "          dataTable['output_type'] = 'display_data';\n",
              "          await google.colab.output.renderOutput(dataTable, element);\n",
              "          const docLink = document.createElement('div');\n",
              "          docLink.innerHTML = docLinkHtml;\n",
              "          element.appendChild(docLink);\n",
              "        }\n",
              "      </script>\n",
              "    </div>\n",
              "  </div>\n",
              "  "
            ]
          },
          "metadata": {},
          "execution_count": 46
        }
      ],
      "source": [
        "random_classifier = [accuracy9, f1_score9, precision9, recall9]\n",
        "final_matrix[\"Random Forest Classifier\"] = random_classifier\n",
        "final_matrix"
      ]
    },
    {
      "cell_type": "code",
      "source": [
        "from keras.preprocessing import sequence\n",
        "from keras.models import Sequential\n",
        "from keras.layers import Dense, Dropout, Activation, Lambda\n",
        "from keras.layers import Embedding\n",
        "from keras.layers import Convolution1D,MaxPooling1D, Flatten\n",
        "from sklearn.preprocessing import Normalizer\n",
        "import numpy as np\n",
        "\n",
        "\n",
        "X = features.copy()\n",
        "Y = labels.copy()\n",
        "T = features_test.copy()"
      ],
      "metadata": {
        "id": "-VtVx2It329u"
      },
      "execution_count": null,
      "outputs": []
    },
    {
      "cell_type": "code",
      "source": [
        "Y[Y!='normal'] = 1\n",
        "Y[Y=='normal'] = 0"
      ],
      "metadata": {
        "id": "Lcjbrv6bN35q"
      },
      "execution_count": null,
      "outputs": []
    },
    {
      "cell_type": "code",
      "source": [
        "Y"
      ],
      "metadata": {
        "colab": {
          "base_uri": "https://localhost:8080/"
        },
        "id": "eRBbVrLAPtTR",
        "outputId": "e351ca11-2097-40f0-c301-ee6ae9564379"
      },
      "execution_count": null,
      "outputs": [
        {
          "output_type": "execute_result",
          "data": {
            "text/plain": [
              "0         0\n",
              "1         0\n",
              "2         1\n",
              "3         0\n",
              "4         0\n",
              "         ..\n",
              "125968    1\n",
              "125969    0\n",
              "125970    0\n",
              "125971    1\n",
              "125972    0\n",
              "Name: label, Length: 125973, dtype: object"
            ]
          },
          "metadata": {},
          "execution_count": 49
        }
      ]
    },
    {
      "cell_type": "code",
      "source": [
        "X=np.asarray(X).astype(np.int)\n",
        "Y=np.asarray(Y).astype(np.int)"
      ],
      "metadata": {
        "id": "t7fUDtklPcHi"
      },
      "execution_count": null,
      "outputs": []
    },
    {
      "cell_type": "code",
      "source": [
        "labels"
      ],
      "metadata": {
        "colab": {
          "base_uri": "https://localhost:8080/"
        },
        "id": "RNqbR6jXN8xL",
        "outputId": "f57f7a79-4e96-4e38-9bdf-3025a43fd9a4"
      },
      "execution_count": null,
      "outputs": [
        {
          "output_type": "execute_result",
          "data": {
            "text/plain": [
              "0         normal\n",
              "1         normal\n",
              "2         attack\n",
              "3         normal\n",
              "4         normal\n",
              "           ...  \n",
              "125968    attack\n",
              "125969    normal\n",
              "125970    normal\n",
              "125971    attack\n",
              "125972    normal\n",
              "Name: label, Length: 125973, dtype: object"
            ]
          },
          "metadata": {},
          "execution_count": 51
        }
      ]
    },
    {
      "cell_type": "code",
      "source": [
        "cnn = Sequential()\n",
        "cnn.add(Convolution1D(64, 3, padding=\"same\",activation=\"relu\",input_shape=(38,1)))\n",
        "cnn.add(MaxPooling1D(pool_size=(2)))\n",
        "cnn.add(Flatten())\n",
        "cnn.add(Dense(128, activation=\"relu\"))\n",
        "cnn.add(Dropout(0.5))\n",
        "cnn.add(Dense(1, activation=\"sigmoid\"))\n",
        "print(cnn.summary())"
      ],
      "metadata": {
        "colab": {
          "base_uri": "https://localhost:8080/"
        },
        "id": "P_3-0t447NoR",
        "outputId": "1d74af4f-f277-438d-bb5f-c015db32e9f4"
      },
      "execution_count": null,
      "outputs": [
        {
          "output_type": "stream",
          "name": "stdout",
          "text": [
            "Model: \"sequential\"\n",
            "_________________________________________________________________\n",
            " Layer (type)                Output Shape              Param #   \n",
            "=================================================================\n",
            " conv1d (Conv1D)             (None, 38, 64)            256       \n",
            "                                                                 \n",
            " max_pooling1d (MaxPooling1D  (None, 19, 64)           0         \n",
            " )                                                               \n",
            "                                                                 \n",
            " flatten (Flatten)           (None, 1216)              0         \n",
            "                                                                 \n",
            " dense (Dense)               (None, 128)               155776    \n",
            "                                                                 \n",
            " dropout (Dropout)           (None, 128)               0         \n",
            "                                                                 \n",
            " dense_1 (Dense)             (None, 1)                 129       \n",
            "                                                                 \n",
            "=================================================================\n",
            "Total params: 156,161\n",
            "Trainable params: 156,161\n",
            "Non-trainable params: 0\n",
            "_________________________________________________________________\n",
            "None\n"
          ]
        }
      ]
    },
    {
      "cell_type": "code",
      "source": [
        "cnn.compile(loss=\"binary_crossentropy\", optimizer=\"adam\",metrics=['accuracy'])\n",
        "cnn.fit(X, Y, epochs=10)"
      ],
      "metadata": {
        "colab": {
          "base_uri": "https://localhost:8080/"
        },
        "id": "QcMwnIkkAEih",
        "outputId": "893d7f30-f52e-4c5c-a8d0-f7cf73221cef"
      },
      "execution_count": null,
      "outputs": [
        {
          "output_type": "stream",
          "name": "stdout",
          "text": [
            "Epoch 1/10\n",
            "3937/3937 [==============================] - 23s 5ms/step - loss: 0.1304 - accuracy: 0.9509\n",
            "Epoch 2/10\n",
            "3937/3937 [==============================] - 20s 5ms/step - loss: 0.1137 - accuracy: 0.9555\n",
            "Epoch 3/10\n",
            "3937/3937 [==============================] - 21s 5ms/step - loss: 0.1111 - accuracy: 0.9558\n",
            "Epoch 4/10\n",
            "3937/3937 [==============================] - 21s 5ms/step - loss: 0.1096 - accuracy: 0.9566\n",
            "Epoch 5/10\n",
            "3937/3937 [==============================] - 21s 5ms/step - loss: 0.1090 - accuracy: 0.9569\n",
            "Epoch 6/10\n",
            "3937/3937 [==============================] - 21s 5ms/step - loss: 0.1088 - accuracy: 0.9570\n",
            "Epoch 7/10\n",
            "3937/3937 [==============================] - 23s 6ms/step - loss: 0.1081 - accuracy: 0.9572\n",
            "Epoch 8/10\n",
            "3937/3937 [==============================] - 22s 5ms/step - loss: 0.1078 - accuracy: 0.9575\n",
            "Epoch 9/10\n",
            "3937/3937 [==============================] - 21s 5ms/step - loss: 0.1079 - accuracy: 0.9575\n",
            "Epoch 10/10\n",
            "3937/3937 [==============================] - 20s 5ms/step - loss: 0.1077 - accuracy: 0.9570\n"
          ]
        },
        {
          "output_type": "execute_result",
          "data": {
            "text/plain": [
              "<keras.callbacks.History at 0x7f98dc1b90d0>"
            ]
          },
          "metadata": {},
          "execution_count": 53
        }
      ]
    },
    {
      "cell_type": "code",
      "source": [
        "T=np.asarray(T).astype(np.int)\n",
        "t0 = time()\n",
        "y_pred = cnn.predict(T)\n",
        "tt = time() - t0\n",
        "print (\"Predicted in {} seconds\".format(round(tt,3)))\n"
      ],
      "metadata": {
        "colab": {
          "base_uri": "https://localhost:8080/"
        },
        "id": "0_hbvm0GCiJY",
        "outputId": "e482ec4b-71be-4764-f50d-8122501f9d7c"
      },
      "execution_count": null,
      "outputs": [
        {
          "output_type": "stream",
          "name": "stdout",
          "text": [
            "Predicted in 0.242 seconds\n"
          ]
        }
      ]
    },
    {
      "cell_type": "code",
      "source": [
        "y_pred= np.round(y_pred)\n",
        "Y=np.asarray(Y).astype(np.int)"
      ],
      "metadata": {
        "id": "nnkKrLScK6RP"
      },
      "execution_count": null,
      "outputs": []
    },
    {
      "cell_type": "code",
      "source": [
        "y_pred"
      ],
      "metadata": {
        "colab": {
          "base_uri": "https://localhost:8080/"
        },
        "id": "AvV7p5IuROVa",
        "outputId": "7bf30294-4c4f-4f23-8514-0d7a6146b469"
      },
      "execution_count": null,
      "outputs": [
        {
          "output_type": "execute_result",
          "data": {
            "text/plain": [
              "array([[0.],\n",
              "       [1.],\n",
              "       [0.],\n",
              "       ...,\n",
              "       [0.],\n",
              "       [0.],\n",
              "       [1.]], dtype=float32)"
            ]
          },
          "metadata": {},
          "execution_count": 56
        }
      ]
    },
    {
      "cell_type": "code",
      "source": [
        "Z = labels_test.copy()"
      ],
      "metadata": {
        "id": "dgEM-JnsKu41"
      },
      "execution_count": null,
      "outputs": []
    },
    {
      "cell_type": "code",
      "source": [
        "Z[Z != 'normal'] = 1\n",
        "Z[Z=='normal']=0\n",
        "Z=np.asarray(Z).astype(np.int)"
      ],
      "metadata": {
        "id": "7ohCGe3lJnya"
      },
      "execution_count": null,
      "outputs": []
    },
    {
      "cell_type": "code",
      "source": [
        "Z"
      ],
      "metadata": {
        "colab": {
          "base_uri": "https://localhost:8080/"
        },
        "id": "xTQP8xbHRebw",
        "outputId": "ff5cd028-d903-4f3d-f896-772e37769112"
      },
      "execution_count": null,
      "outputs": [
        {
          "output_type": "execute_result",
          "data": {
            "text/plain": [
              "array([0, 1, 0, ..., 0, 0, 1])"
            ]
          },
          "metadata": {},
          "execution_count": 59
        }
      ]
    },
    {
      "cell_type": "code",
      "source": [
        "#Calculating out the accuracy\n",
        "accuracy10 = accuracy_score(y_pred, Z)\n",
        "f1_score10 = f1_score(y_pred, Z,average='weighted')\n",
        "precision10 = precision_score(y_pred, Z, average='weighted')\n",
        "recall10 = recall_score(y_pred, Z, average='weighted')\n",
        "print (\"Accuracy is {}.\".format(round(accuracy10,4)))\n",
        "print (\"F1 Score is {}.\".format(round(f1_score10,4)))\n",
        "print (\"Precision is {}.\".format(round(precision10,4)))\n",
        "print (\"Recall is {}.\".format(round(recall10,4)))"
      ],
      "metadata": {
        "colab": {
          "base_uri": "https://localhost:8080/"
        },
        "id": "CBh3RlHeJfXk",
        "outputId": "fd19c6c6-0728-42f8-ec0b-1677f4961e5b"
      },
      "execution_count": null,
      "outputs": [
        {
          "output_type": "stream",
          "name": "stdout",
          "text": [
            "Accuracy is 0.7228.\n",
            "F1 Score is 0.7295.\n",
            "Precision is 0.8252.\n",
            "Recall is 0.7228.\n"
          ]
        }
      ]
    },
    {
      "cell_type": "code",
      "source": [
        "CNN = [accuracy10, f1_score10, precision10, recall10]\n",
        "final_matrix[\"CNN\"] = CNN\n",
        "final_matrix"
      ],
      "metadata": {
        "colab": {
          "base_uri": "https://localhost:8080/",
          "height": 236
        },
        "id": "YkfpzPJPS1K7",
        "outputId": "4762a56b-b332-48e2-a24f-7ecb2b11aa7f"
      },
      "execution_count": null,
      "outputs": [
        {
          "output_type": "execute_result",
          "data": {
            "text/plain": [
              "           KNN Classifier  SVC Classifier  Logistic Classifier  \\\n",
              "Accuracy         0.742350        0.749889             0.750776   \n",
              "F1_Score         0.745796        0.752330             0.753045   \n",
              "Precision        0.817301        0.814861             0.813865   \n",
              "Recall           0.742350        0.749889             0.750776   \n",
              "\n",
              "           MLP Classifier  SGD Classifier  Gaussian Classifier  \\\n",
              "Accuracy         0.760976        0.745898             0.579601   \n",
              "F1_Score         0.762538        0.748751             0.588449   \n",
              "Precision        0.816878        0.814917             0.605302   \n",
              "Recall           0.760976        0.745898             0.579601   \n",
              "\n",
              "           Decision Tree Classifier  AdaBoost Classifier  \\\n",
              "Accuracy                   0.786253             0.778271   \n",
              "F1_Score                   0.786267             0.778765   \n",
              "Precision                  0.821982             0.821212   \n",
              "Recall                     0.786253             0.778271   \n",
              "\n",
              "           Random Forest Classifier       CNN  \n",
              "Accuracy                   0.739690  0.722838  \n",
              "F1_Score                   0.742733  0.729471  \n",
              "Precision                  0.809668  0.825180  \n",
              "Recall                     0.739690  0.722838  "
            ],
            "text/html": [
              "\n",
              "  <div id=\"df-df569dac-ecb2-4ada-b1b9-d2d7e364d4c0\">\n",
              "    <div class=\"colab-df-container\">\n",
              "      <div>\n",
              "<style scoped>\n",
              "    .dataframe tbody tr th:only-of-type {\n",
              "        vertical-align: middle;\n",
              "    }\n",
              "\n",
              "    .dataframe tbody tr th {\n",
              "        vertical-align: top;\n",
              "    }\n",
              "\n",
              "    .dataframe thead th {\n",
              "        text-align: right;\n",
              "    }\n",
              "</style>\n",
              "<table border=\"1\" class=\"dataframe\">\n",
              "  <thead>\n",
              "    <tr style=\"text-align: right;\">\n",
              "      <th></th>\n",
              "      <th>KNN Classifier</th>\n",
              "      <th>SVC Classifier</th>\n",
              "      <th>Logistic Classifier</th>\n",
              "      <th>MLP Classifier</th>\n",
              "      <th>SGD Classifier</th>\n",
              "      <th>Gaussian Classifier</th>\n",
              "      <th>Decision Tree Classifier</th>\n",
              "      <th>AdaBoost Classifier</th>\n",
              "      <th>Random Forest Classifier</th>\n",
              "      <th>CNN</th>\n",
              "    </tr>\n",
              "  </thead>\n",
              "  <tbody>\n",
              "    <tr>\n",
              "      <th>Accuracy</th>\n",
              "      <td>0.742350</td>\n",
              "      <td>0.749889</td>\n",
              "      <td>0.750776</td>\n",
              "      <td>0.760976</td>\n",
              "      <td>0.745898</td>\n",
              "      <td>0.579601</td>\n",
              "      <td>0.786253</td>\n",
              "      <td>0.778271</td>\n",
              "      <td>0.739690</td>\n",
              "      <td>0.722838</td>\n",
              "    </tr>\n",
              "    <tr>\n",
              "      <th>F1_Score</th>\n",
              "      <td>0.745796</td>\n",
              "      <td>0.752330</td>\n",
              "      <td>0.753045</td>\n",
              "      <td>0.762538</td>\n",
              "      <td>0.748751</td>\n",
              "      <td>0.588449</td>\n",
              "      <td>0.786267</td>\n",
              "      <td>0.778765</td>\n",
              "      <td>0.742733</td>\n",
              "      <td>0.729471</td>\n",
              "    </tr>\n",
              "    <tr>\n",
              "      <th>Precision</th>\n",
              "      <td>0.817301</td>\n",
              "      <td>0.814861</td>\n",
              "      <td>0.813865</td>\n",
              "      <td>0.816878</td>\n",
              "      <td>0.814917</td>\n",
              "      <td>0.605302</td>\n",
              "      <td>0.821982</td>\n",
              "      <td>0.821212</td>\n",
              "      <td>0.809668</td>\n",
              "      <td>0.825180</td>\n",
              "    </tr>\n",
              "    <tr>\n",
              "      <th>Recall</th>\n",
              "      <td>0.742350</td>\n",
              "      <td>0.749889</td>\n",
              "      <td>0.750776</td>\n",
              "      <td>0.760976</td>\n",
              "      <td>0.745898</td>\n",
              "      <td>0.579601</td>\n",
              "      <td>0.786253</td>\n",
              "      <td>0.778271</td>\n",
              "      <td>0.739690</td>\n",
              "      <td>0.722838</td>\n",
              "    </tr>\n",
              "  </tbody>\n",
              "</table>\n",
              "</div>\n",
              "      <button class=\"colab-df-convert\" onclick=\"convertToInteractive('df-df569dac-ecb2-4ada-b1b9-d2d7e364d4c0')\"\n",
              "              title=\"Convert this dataframe to an interactive table.\"\n",
              "              style=\"display:none;\">\n",
              "        \n",
              "  <svg xmlns=\"http://www.w3.org/2000/svg\" height=\"24px\"viewBox=\"0 0 24 24\"\n",
              "       width=\"24px\">\n",
              "    <path d=\"M0 0h24v24H0V0z\" fill=\"none\"/>\n",
              "    <path d=\"M18.56 5.44l.94 2.06.94-2.06 2.06-.94-2.06-.94-.94-2.06-.94 2.06-2.06.94zm-11 1L8.5 8.5l.94-2.06 2.06-.94-2.06-.94L8.5 2.5l-.94 2.06-2.06.94zm10 10l.94 2.06.94-2.06 2.06-.94-2.06-.94-.94-2.06-.94 2.06-2.06.94z\"/><path d=\"M17.41 7.96l-1.37-1.37c-.4-.4-.92-.59-1.43-.59-.52 0-1.04.2-1.43.59L10.3 9.45l-7.72 7.72c-.78.78-.78 2.05 0 2.83L4 21.41c.39.39.9.59 1.41.59.51 0 1.02-.2 1.41-.59l7.78-7.78 2.81-2.81c.8-.78.8-2.07 0-2.86zM5.41 20L4 18.59l7.72-7.72 1.47 1.35L5.41 20z\"/>\n",
              "  </svg>\n",
              "      </button>\n",
              "      \n",
              "  <style>\n",
              "    .colab-df-container {\n",
              "      display:flex;\n",
              "      flex-wrap:wrap;\n",
              "      gap: 12px;\n",
              "    }\n",
              "\n",
              "    .colab-df-convert {\n",
              "      background-color: #E8F0FE;\n",
              "      border: none;\n",
              "      border-radius: 50%;\n",
              "      cursor: pointer;\n",
              "      display: none;\n",
              "      fill: #1967D2;\n",
              "      height: 32px;\n",
              "      padding: 0 0 0 0;\n",
              "      width: 32px;\n",
              "    }\n",
              "\n",
              "    .colab-df-convert:hover {\n",
              "      background-color: #E2EBFA;\n",
              "      box-shadow: 0px 1px 2px rgba(60, 64, 67, 0.3), 0px 1px 3px 1px rgba(60, 64, 67, 0.15);\n",
              "      fill: #174EA6;\n",
              "    }\n",
              "\n",
              "    [theme=dark] .colab-df-convert {\n",
              "      background-color: #3B4455;\n",
              "      fill: #D2E3FC;\n",
              "    }\n",
              "\n",
              "    [theme=dark] .colab-df-convert:hover {\n",
              "      background-color: #434B5C;\n",
              "      box-shadow: 0px 1px 3px 1px rgba(0, 0, 0, 0.15);\n",
              "      filter: drop-shadow(0px 1px 2px rgba(0, 0, 0, 0.3));\n",
              "      fill: #FFFFFF;\n",
              "    }\n",
              "  </style>\n",
              "\n",
              "      <script>\n",
              "        const buttonEl =\n",
              "          document.querySelector('#df-df569dac-ecb2-4ada-b1b9-d2d7e364d4c0 button.colab-df-convert');\n",
              "        buttonEl.style.display =\n",
              "          google.colab.kernel.accessAllowed ? 'block' : 'none';\n",
              "\n",
              "        async function convertToInteractive(key) {\n",
              "          const element = document.querySelector('#df-df569dac-ecb2-4ada-b1b9-d2d7e364d4c0');\n",
              "          const dataTable =\n",
              "            await google.colab.kernel.invokeFunction('convertToInteractive',\n",
              "                                                     [key], {});\n",
              "          if (!dataTable) return;\n",
              "\n",
              "          const docLinkHtml = 'Like what you see? Visit the ' +\n",
              "            '<a target=\"_blank\" href=https://colab.research.google.com/notebooks/data_table.ipynb>data table notebook</a>'\n",
              "            + ' to learn more about interactive tables.';\n",
              "          element.innerHTML = '';\n",
              "          dataTable['output_type'] = 'display_data';\n",
              "          await google.colab.output.renderOutput(dataTable, element);\n",
              "          const docLink = document.createElement('div');\n",
              "          docLink.innerHTML = docLinkHtml;\n",
              "          element.appendChild(docLink);\n",
              "        }\n",
              "      </script>\n",
              "    </div>\n",
              "  </div>\n",
              "  "
            ]
          },
          "metadata": {},
          "execution_count": 61
        }
      ]
    }
  ],
  "metadata": {
    "colab": {
      "collapsed_sections": [],
      "name": "Notebook1.ipynb",
      "provenance": []
    },
    "kernelspec": {
      "display_name": "Python 3",
      "name": "python3"
    },
    "language_info": {
      "name": "python"
    }
  },
  "nbformat": 4,
  "nbformat_minor": 0
}